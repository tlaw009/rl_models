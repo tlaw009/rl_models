{
 "cells": [
  {
   "cell_type": "markdown",
   "id": "5bd45f66",
   "metadata": {},
   "source": [
    "### Packages"
   ]
  },
  {
   "cell_type": "code",
   "execution_count": 25,
   "id": "6f35a94f",
   "metadata": {
    "scrolled": true
   },
   "outputs": [],
   "source": [
    "import numpy as np\n",
    "import tensorflow as tf\n",
    "from tensorflow import keras\n",
    "from tensorflow.keras import layers\n",
    "import gym\n",
    "import scipy.signal\n",
    "import time\n",
    "from tensorflow.keras import Model\n",
    "import matplotlib.pyplot as plt\n",
    "import random\n",
    "import tensorflow_probability as tfp"
   ]
  },
  {
   "cell_type": "markdown",
   "id": "e1bc7191",
   "metadata": {},
   "source": [
    "### Env Setup"
   ]
  },
  {
   "cell_type": "code",
   "execution_count": 26,
   "id": "0c5dc0c0",
   "metadata": {
    "scrolled": false
   },
   "outputs": [],
   "source": [
    "problem = \"Hopper-v3\"\n",
    "env = gym.make(problem)\n",
    "\n",
    "num_states = env.observation_space.shape[0]\n",
    "num_actions = env.action_space.shape[0]\n",
    "upper_bound = env.action_space.high[0]\n",
    "lower_bound = env.action_space.low[0]\n",
    "\n",
    "EPSILON = 1e-10"
   ]
  },
  {
   "cell_type": "markdown",
   "id": "b6d208b3",
   "metadata": {},
   "source": [
    "### Actor Model"
   ]
  },
  {
   "cell_type": "code",
   "execution_count": 27,
   "id": "40591cee",
   "metadata": {},
   "outputs": [],
   "source": [
    "class Actor(Model):\n",
    "\n",
    "    def __init__(self, action_dimensions, action_bound):\n",
    "        super().__init__()\n",
    "        self.action_dim, self.upper_bound = action_dimensions, action_bound\n",
    "        self.sample_dist = tfp.distributions.MultivariateNormalDiag(loc=tf.zeros(self.action_dim),\n",
    "                                                                    scale_diag=tf.ones(self.action_dim))\n",
    "        self.dense1_layer = layers.Dense(256, activation=\"relu\")\n",
    "        self.dense2_layer = layers.Dense(256, activation=\"relu\")\n",
    "        self.mean_layer = layers.Dense(self.action_dim)\n",
    "        self.stdev_layer = layers.Dense(self.action_dim)\n",
    "\n",
    "    def call(self, state, eval_mode=False):\n",
    "\n",
    "        a1 = self.dense1_layer(state)\n",
    "        a2 = self.dense2_layer(a1)\n",
    "        mu = self.mean_layer(a2)\n",
    "\n",
    "        log_sigma = self.stdev_layer(a2)\n",
    "        sigma = tf.exp(log_sigma)\n",
    "        sigma = tf.clip_by_value(sigma, EPSILON, 2.718)\n",
    "\n",
    "        dist = tfp.distributions.MultivariateNormalDiag(loc=mu, scale_diag=sigma)\n",
    "        \n",
    "        if eval_mode:\n",
    "            action_ = mu\n",
    "        else:\n",
    "            action_ = tf.math.add(mu, tf.math.multiply(sigma, tf.expand_dims(self.sample_dist.sample(), 0)))\n",
    " \n",
    "        action = tf.tanh(action_)\n",
    "\n",
    "        log_pi_ = dist.log_prob(action_)     \n",
    "        log_pi = log_pi_ - tf.reduce_sum(tf.math.log(tf.clip_by_value(1 - action**2, EPSILON, 1.0)), axis=1)\n",
    "        \n",
    "        return action*self.upper_bound, log_pi, dist.entropy()\n"
   ]
  },
  {
   "cell_type": "markdown",
   "id": "472c54e8",
   "metadata": {},
   "source": [
    "#### Testing"
   ]
  },
  {
   "cell_type": "code",
   "execution_count": 28,
   "id": "f054683c",
   "metadata": {},
   "outputs": [],
   "source": [
    "actor_test = Actor(num_actions, upper_bound)"
   ]
  },
  {
   "cell_type": "code",
   "execution_count": 29,
   "id": "2b8860b6",
   "metadata": {},
   "outputs": [],
   "source": [
    "obs = env.reset()\n",
    "obs\n",
    "tf_obs = tf.expand_dims(obs, 0)\n",
    "tf_obs\n",
    "a_test, log_a_test, h_a_test = actor_test(tf_obs)"
   ]
  },
  {
   "cell_type": "code",
   "execution_count": 30,
   "id": "112eb73b",
   "metadata": {},
   "outputs": [],
   "source": [
    "obs_new, _, _, _ = env.step(a_test[0])\n",
    "tf_obs_new = tf.expand_dims(obs_new, 0)\n",
    "a_test, log_a_test, h_a_test = actor_test(tf.convert_to_tensor([tf_obs, tf_obs_new]))"
   ]
  },
  {
   "cell_type": "code",
   "execution_count": 31,
   "id": "02befff4",
   "metadata": {
    "scrolled": true
   },
   "outputs": [
    {
     "name": "stdout",
     "output_type": "stream",
     "text": [
      "Model: \"actor_4\"\n",
      "_________________________________________________________________\n",
      " Layer (type)                Output Shape              Param #   \n",
      "=================================================================\n",
      " dense_28 (Dense)            multiple                  3072      \n",
      "                                                                 \n",
      " dense_29 (Dense)            multiple                  65792     \n",
      "                                                                 \n",
      " dense_30 (Dense)            multiple                  771       \n",
      "                                                                 \n",
      " dense_31 (Dense)            multiple                  771       \n",
      "                                                                 \n",
      "=================================================================\n",
      "Total params: 70,406\n",
      "Trainable params: 70,406\n",
      "Non-trainable params: 0\n",
      "_________________________________________________________________\n"
     ]
    }
   ],
   "source": [
    "actor_test.summary()"
   ]
  },
  {
   "cell_type": "markdown",
   "id": "90b8fff8",
   "metadata": {},
   "source": [
    "### Critic Model"
   ]
  },
  {
   "cell_type": "code",
   "execution_count": 32,
   "id": "4f5e7a44",
   "metadata": {},
   "outputs": [],
   "source": [
    "class Critic_Wrapper():\n",
    "    def __init__(self, state_dim):\n",
    "        self.s_dim=state_dim\n",
    "        \n",
    "    def get_critic(self):\n",
    "        # State as input\n",
    "        state_input = layers.Input(shape=(self.s_dim))\n",
    "        state_out = layers.Dense(256, activation=\"relu\")(state_input)\n",
    "        # state_out = layers.Dense(32, activation=\"relu\")(state_out)\n",
    "\n",
    "        out = layers.Dense(256, activation=\"relu\")(state_out)\n",
    "        outputs = layers.Dense(1, dtype='float64')(out)\n",
    "\n",
    "        # Outputs single value for give state-action\n",
    "        model = tf.keras.Model([state_input], outputs)\n",
    "\n",
    "        return model\n"
   ]
  },
  {
   "cell_type": "markdown",
   "id": "bff462d0",
   "metadata": {},
   "source": [
    "#### Testing"
   ]
  },
  {
   "cell_type": "code",
   "execution_count": 33,
   "id": "670b8ac7",
   "metadata": {},
   "outputs": [],
   "source": [
    "critic_gen = Critic_Wrapper(num_states)\n",
    "critic_test = critic_gen.get_critic()"
   ]
  },
  {
   "cell_type": "code",
   "execution_count": 34,
   "id": "faa9f3ee",
   "metadata": {},
   "outputs": [
    {
     "data": {
      "text/plain": [
       "array([ 1.2522877 , -0.00205458, -0.00395998,  0.00231576, -0.00187171,\n",
       "       -0.0040994 , -0.00263913,  0.00146015, -0.00477878, -0.00174211,\n",
       "        0.00490026])"
      ]
     },
     "execution_count": 34,
     "metadata": {},
     "output_type": "execute_result"
    }
   ],
   "source": [
    "obs = env.reset()\n",
    "obs"
   ]
  },
  {
   "cell_type": "code",
   "execution_count": 35,
   "id": "87bd82f7",
   "metadata": {},
   "outputs": [
    {
     "data": {
      "text/plain": [
       "<tf.Tensor: shape=(1, 11), dtype=float64, numpy=\n",
       "array([[ 1.2522877 , -0.00205458, -0.00395998,  0.00231576, -0.00187171,\n",
       "        -0.0040994 , -0.00263913,  0.00146015, -0.00477878, -0.00174211,\n",
       "         0.00490026]])>"
      ]
     },
     "execution_count": 35,
     "metadata": {},
     "output_type": "execute_result"
    }
   ],
   "source": [
    "tf_obs = tf.expand_dims(obs, 0)\n",
    "a_test, log_a_test, h_a_test = actor_test(tf_obs)\n",
    "tf_obs"
   ]
  },
  {
   "cell_type": "code",
   "execution_count": 36,
   "id": "944b6bcf",
   "metadata": {},
   "outputs": [
    {
     "data": {
      "text/plain": [
       "<tf.Tensor: shape=(), dtype=float64, numpy=-0.13916085039325626>"
      ]
     },
     "execution_count": 36,
     "metadata": {},
     "output_type": "execute_result"
    }
   ],
   "source": [
    "v_test = tf.squeeze(critic_test([tf_obs]))\n",
    "v_test"
   ]
  },
  {
   "cell_type": "code",
   "execution_count": 37,
   "id": "a19b8a42",
   "metadata": {
    "scrolled": false
   },
   "outputs": [
    {
     "name": "stdout",
     "output_type": "stream",
     "text": [
      "Model: \"model_4\"\n",
      "_________________________________________________________________\n",
      " Layer (type)                Output Shape              Param #   \n",
      "=================================================================\n",
      " input_5 (InputLayer)        [(None, 11)]              0         \n",
      "                                                                 \n",
      " dense_32 (Dense)            (None, 256)               3072      \n",
      "                                                                 \n",
      " dense_33 (Dense)            (None, 256)               65792     \n",
      "                                                                 \n",
      " dense_34 (Dense)            (None, 1)                 257       \n",
      "                                                                 \n",
      "=================================================================\n",
      "Total params: 69,121\n",
      "Trainable params: 69,121\n",
      "Non-trainable params: 0\n",
      "_________________________________________________________________\n"
     ]
    }
   ],
   "source": [
    "critic_test.summary()"
   ]
  },
  {
   "cell_type": "markdown",
   "id": "b87364e9",
   "metadata": {},
   "source": [
    "### Replay Buffer"
   ]
  },
  {
   "cell_type": "code",
   "execution_count": 38,
   "id": "c86609ad",
   "metadata": {},
   "outputs": [],
   "source": [
    "class Buffer:\n",
    "\n",
    "    def __init__(self, observation_dimensions, action_dimensions, size, minibatch_size=256, gamma=0.99, lam=0.95):\n",
    "\n",
    "        self.observation_buffer = np.zeros(\n",
    "            (size, observation_dimensions), dtype=np.float32\n",
    "        )\n",
    "        self.action_buffer = np.zeros((size, action_dimensions), dtype=np.float32)\n",
    "        self.reward_buffer = np.zeros(size, dtype=np.float32)\n",
    "        self.logprobability_buffer = np.zeros(size, dtype=np.float32)\n",
    "        \n",
    "        self.gamma, self.lam = gamma, lam\n",
    "        self.batch_size = minibatch_size\n",
    "        \n",
    "        self.buffer_cap = size\n",
    "        self.pointer = 0\n",
    "        self.trajectory_start_indices = []\n",
    "        self.trajectory_start_indices.append(0)\n",
    "\n",
    "    def store(self, observation, action, reward, logprobability, done):\n",
    "\n",
    "        self.observation_buffer[self.pointer] = observation\n",
    "        self.action_buffer[self.pointer] = action\n",
    "        self.reward_buffer[self.pointer] = reward\n",
    "        self.logprobability_buffer[self.pointer] = logprobability\n",
    "        self.pointer += 1\n",
    "        if done and not self.pointer > self.buffer_cap-1:\n",
    "            self.trajectory_start_indices.append(self.pointer)\n",
    "\n",
    "\n",
    "    def get(self):\n",
    "        # Get all data of the buffer\n",
    "        if self.trajectory_start_indices[-1] == self.buffer_cap-1:\n",
    "            rindex = np.random.choice(range(len(self.trajectory_start_indices)-1), self.batch_size)\n",
    "        else:\n",
    "            rindex = np.random.choice(range(len(self.trajectory_start_indices)), self.batch_size)\n",
    "        \n",
    "        isolated_obs=[]\n",
    "        isolated_a=[]\n",
    "        isolated_r=[]\n",
    "        isolated_log_a=[]\n",
    "        for ri in rindex:\n",
    "            \n",
    "            if  ri == len(self.trajectory_start_indices)-1:\n",
    "                isolated_obs.append(self.observation_buffer[self.trajectory_start_indices[ri]:\n",
    "                                                       self.buffer_cap])\n",
    "                isolated_a.append(self.action_buffer[self.trajectory_start_indices[ri]:\n",
    "                                                       self.buffer_cap])\n",
    "                isolated_r.append(self.reward_buffer[self.trajectory_start_indices[ri]:\n",
    "                                                       self.buffer_cap])\n",
    "                isolated_log_a.append(self.logprobability_buffer[self.trajectory_start_indices[ri]:\n",
    "                                                       self.buffer_cap])\n",
    "                \n",
    "            else:\n",
    "                isolated_obs.append(self.observation_buffer[self.trajectory_start_indices[ri]:\n",
    "                                                       self.trajectory_start_indices[ri+1]])\n",
    "                isolated_a.append(self.action_buffer[self.trajectory_start_indices[ri]:\n",
    "                                                       self.trajectory_start_indices[ri+1]])\n",
    "                isolated_r.append(self.reward_buffer[self.trajectory_start_indices[ri]:\n",
    "                                                       self.trajectory_start_indices[ri+1]])\n",
    "                isolated_log_a.append(self.logprobability_buffer[self.trajectory_start_indices[ri]:\n",
    "                                                       self.trajectory_start_indices[ri+1]])\n",
    "\n",
    "        return (\n",
    "            isolated_obs,\n",
    "            isolated_a,\n",
    "            isolated_r,\n",
    "            isolated_log_a,\n",
    "        )\n",
    "    \n",
    "    def batch_sample(self, critic_handle):\n",
    "        s_b, a_b, r_b, l_b = self.get()\n",
    "        ss_b = []\n",
    "        as_b = []\n",
    "        rs_b = []\n",
    "        ls_b = []\n",
    "        adv_b = []\n",
    "        ret_b = []\n",
    "        sample_idxs = [np.random.choice(range(len(a)-1)) for a in s_b]\n",
    "        \n",
    "        for i in range(self.batch_size):\n",
    "            ss_b.append(s_b[i][sample_idxs[i]])\n",
    "            as_b.append(a_b[i][sample_idxs[i]])\n",
    "            rs_b.append(r_b[i][sample_idxs[i]])\n",
    "            ls_b.append(l_b[i][sample_idxs[i]])\n",
    "            adv_b.append(self.adv_t(r_b[i][sample_idxs[i]:-1],\n",
    "                                      critic_handle,\n",
    "                                      s_b[i][sample_idxs[i]:-1],\n",
    "                                      s_b[i][sample_idxs[i]+1:]))\n",
    "            ret_b.append(self.ret_t(r_b[i][sample_idxs[i]:]))\n",
    "        return (\n",
    "            tf.convert_to_tensor(ss_b),\n",
    "            tf.convert_to_tensor(as_b),\n",
    "            tf.convert_to_tensor(adv_b),\n",
    "            tf.convert_to_tensor(ret_b),\n",
    "            tf.convert_to_tensor(ls_b),\n",
    "            tf.convert_to_tensor(rs_b)\n",
    "        )\n",
    "        \n",
    "    def adv_t(self, r_t, vf, s_t, s_t1):\n",
    "        ite_gamma_lam = [(self.gamma*self.lam)**i for i in range(len(r_t))]\n",
    "        delta_ts = r_t + self.gamma*tf.squeeze(vf(s_t1)) - tf.squeeze(vf(s_t))\n",
    "\n",
    "        return np.sum(np.multiply(ite_gamma_lam, delta_ts))\n",
    "    \n",
    "    def ret_t(self, r_t):\n",
    "        ite_gamma = [self.gamma**i for i in range(len(r_t))]\n",
    "        \n",
    "        return np.sum(np.multiply(ite_gamma, r_t))\n",
    "    \n",
    "    def clear(self):\n",
    "        self.pointer = 0\n",
    "        self.trajectory_start_indices = []\n",
    "        self.trajectory_start_indices.append(0)"
   ]
  },
  {
   "cell_type": "markdown",
   "id": "11f5f0d2",
   "metadata": {},
   "source": [
    "#### Testing"
   ]
  },
  {
   "cell_type": "code",
   "execution_count": 39,
   "id": "958e965c",
   "metadata": {},
   "outputs": [],
   "source": [
    "buffer = Buffer(num_states, num_actions, 100, 5)\n",
    "actor_test = Actor(num_actions, upper_bound)\n",
    "critic_gen = Critic_Wrapper(num_states)\n",
    "critic_test = critic_gen.get_critic()"
   ]
  },
  {
   "cell_type": "code",
   "execution_count": 40,
   "id": "840521e2",
   "metadata": {
    "scrolled": true
   },
   "outputs": [
    {
     "name": "stdout",
     "output_type": "stream",
     "text": [
      "[0, 62, 73, 89]\n"
     ]
    }
   ],
   "source": [
    "obs = env.reset()\n",
    "buffer.clear()\n",
    "for x in range(100):\n",
    "    tf_obs = tf.expand_dims(obs, 0)\n",
    "    a, log_a, h_a = actor_test(tf_obs)\n",
    "    a = a[0]\n",
    "    obs_new, r, d, _ = env.step(a)\n",
    "    \n",
    "    buffer.store(obs, a, r, log_a, d)\n",
    "    if d:\n",
    "        obs = env.reset()\n",
    "    else:\n",
    "        obs = obs_new\n",
    "    \n",
    "print(buffer.trajectory_start_indices)"
   ]
  },
  {
   "cell_type": "code",
   "execution_count": 41,
   "id": "94107895",
   "metadata": {},
   "outputs": [
    {
     "data": {
      "text/plain": [
       "(<tf.Tensor: shape=(5, 11), dtype=float32, numpy=\n",
       " array([[ 1.2282350e+00,  9.9966284e-03,  5.2408101e-03, -9.3362138e-02,\n",
       "          3.0491212e-01,  6.1633420e-01, -1.0041053e-02,  5.9102762e-01,\n",
       "         -2.5481534e-01,  8.4559333e-01, -1.7606374e+00],\n",
       "        [ 1.1983218e+00,  4.6711467e-02, -7.1372636e-02,  5.5035423e-03,\n",
       "          7.2878204e-02,  4.0971261e-01,  2.3570685e-01,  1.7335742e+00,\n",
       "          1.8563684e+00, -9.8442040e-02, -1.3999621e+00],\n",
       "        [ 1.2514207e+00, -2.8278150e-03, -3.6938994e-03,  3.1027180e-04,\n",
       "         -4.2289481e-03,  1.2326130e-02, -8.8751510e-02, -8.4661609e-01,\n",
       "         -1.5322716e+00,  9.6971655e-01,  1.7593142e-01],\n",
       "        [ 1.2142340e+00, -1.3935894e-01, -1.2208690e-01, -1.0380376e-01,\n",
       "          2.7421051e-01,  1.5568437e-01,  8.1997440e-04, -2.8577709e+00,\n",
       "         -3.1291447e+00, -1.0234962e+00,  1.5285617e+00],\n",
       "        [ 1.2390076e+00,  8.1455568e-03,  5.8546993e-03,  2.8753087e-03,\n",
       "          5.4338805e-02,  9.2057340e-02, -4.3133974e-01,  8.3892059e-01,\n",
       "          8.8822114e-01,  7.4083291e-02,  1.7296375e+00]], dtype=float32)>,\n",
       " <tf.Tensor: shape=(5, 3), dtype=float32, numpy=\n",
       " array([[-0.08500385,  0.799367  , -0.38501957],\n",
       "        [-0.71460444,  0.5187038 ,  0.9253406 ],\n",
       "        [ 0.5497036 ,  0.60607445, -0.3186999 ],\n",
       "        [-0.8030587 , -0.54133904,  0.9405069 ],\n",
       "        [-0.6042686 , -0.48696116,  0.9872325 ]], dtype=float32)>,\n",
       " <tf.Tensor: shape=(5,), dtype=float64, numpy=array([24.16703013, 19.07266952,  6.26439905,  1.19005047,  7.8371923 ])>,\n",
       " <tf.Tensor: shape=(5,), dtype=float64, numpy=array([51.5645962 , 32.43524438,  7.77328436,  2.16167074, 10.37973259])>,\n",
       " <tf.Tensor: shape=(5,), dtype=float32, numpy=\n",
       " array([-2.2796319 , -0.83875227, -2.2849507 , -1.847764  , -0.96830463],\n",
       "       dtype=float32)>,\n",
       " <tf.Tensor: shape=(5,), dtype=float32, numpy=\n",
       " array([1.6600419, 1.3860575, 1.0028797, 1.1178373, 1.0509369],\n",
       "       dtype=float32)>)"
      ]
     },
     "execution_count": 41,
     "metadata": {},
     "output_type": "execute_result"
    }
   ],
   "source": [
    "buffer.batch_sample(critic_test)"
   ]
  },
  {
   "cell_type": "markdown",
   "id": "01287e6a",
   "metadata": {},
   "source": [
    "### PPO"
   ]
  },
  {
   "cell_type": "code",
   "execution_count": 42,
   "id": "860b8c5f",
   "metadata": {},
   "outputs": [],
   "source": [
    "class PPO:\n",
    "    \n",
    "    def __init__(self, env, observation_dimensions, action_dimensions, action_bound, horizon,\n",
    "                 minibatch_size=256, gamma=0.99, lam=0.95, diagnostic_length=1, lr=3e-4):\n",
    "        \n",
    "        self.env = env\n",
    "        self.actor = Actor(action_dimensions, action_bound)\n",
    "        self.critic_gen = Critic_Wrapper(observation_dimensions)\n",
    "        self.critic = self.critic_gen.get_critic()\n",
    "        self.buffer = Buffer(observation_dimensions, action_dimensions, horizon, minibatch_size, gamma, lam)\n",
    "        \n",
    "        self.p_opt= tf.keras.optimizers.Adam(learning_rate=lr,\n",
    "                                                            )\n",
    "        self.v_opt= tf.keras.optimizers.Adam(learning_rate=lr,\n",
    "                                                            )\n",
    "        self.clip_epsilon = 0.2\n",
    "        \n",
    "        self.diagnostics_buffer = []\n",
    "        self.diagno_index = 0\n",
    "        self.diagno_length = diagnostic_length\n",
    "        \n",
    "        self.gamma, self.lam, self.horizon = gamma, lam, horizon\n",
    "        \n",
    "    def train(self, iterations, epochs=20):\n",
    "        \n",
    "        for i in range(iterations):\n",
    "            \n",
    "            obs = self.env.reset()\n",
    "            \n",
    "            for t in range(self.horizon):\n",
    "                \n",
    "                tf_obs = tf.expand_dims(obs, 0)\n",
    "                a, log_a, h_a = self.actor(tf_obs)\n",
    "                a=a[0]\n",
    "            \n",
    "                obs_new, r, d, _ = self.env.step(a)\n",
    "                \n",
    "                self.buffer.store(obs, a, r, log_a, d)\n",
    "                \n",
    "                if d:\n",
    "                    obs = self.env.reset()\n",
    "                else:\n",
    "                    obs = obs_new\n",
    "\n",
    "            for _ in range(epochs):\n",
    "                (\n",
    "                    obs_b,\n",
    "                    a_b,\n",
    "                    adv_b,\n",
    "                    ret_b,\n",
    "                    log_b,\n",
    "                    r_b,\n",
    "                ) = self.buffer.batch_sample(self.critic)\n",
    "                p_l, c_l = self.update(obs_b, adv_b, log_b, ret_b)\n",
    "                self.record_diagnostics([\"policy loss: \", np.array(p_l), \"value loss: \", np.array(c_l)])\n",
    "                \n",
    "            self.show_diagnostics()    \n",
    "            self.buffer.clear()\n",
    "    \n",
    "    @tf.function\n",
    "    def update(self, obs_b, adv_b, log_b, ret_b):\n",
    "        with tf.GradientTape() as tape:\n",
    "            a, log_a, h_a = self.actor(obs_b)\n",
    "            ratio = tf.exp(log_a - log_b)\n",
    "            c_ratio = tf.clip_by_value(ratio, 1.0-self.clip_epsilon, 1.0+self.clip_epsilon)\n",
    "\n",
    "            rt_at = tf.minimum(tf.math.multiply(ratio, tf.cast(adv_b, tf.float32)), \n",
    "                               tf.math.multiply(c_ratio, tf.cast(adv_b, tf.float32)))\n",
    "            \n",
    "            L_theta_clip = -tf.reduce_mean(rt_at+h_a)\n",
    "        J_theta_clip = tape.gradient(L_theta_clip, self.actor.trainable_variables)\n",
    "        self.p_opt.apply_gradients(zip(J_theta_clip, self.actor.trainable_variables))\n",
    "        \n",
    "        with tf.GradientTape() as tape1:\n",
    "            v_theta = tf.squeeze(self.critic(obs_b))\n",
    "            v_mse = tf.reduce_mean((v_theta - ret_b)**2)\n",
    "        J_phi = tape1.gradient(v_mse, self.critic.trainable_variables)\n",
    "        self.v_opt.apply_gradients(zip(J_phi, self.critic.trainable_variables))\n",
    "        \n",
    "        return L_theta_clip, v_mse\n",
    "        \n",
    "    def record_diagnostics(self, data):\n",
    "        if len(self.diagnostics_buffer) == self.diagno_length:\n",
    "            self.diagnostics_buffer[self.diagno_index] = data\n",
    "\n",
    "        if len(self.diagnostics_buffer) < self.diagno_length:\n",
    "            self.diagnostics_buffer.append(data)\n",
    "        self.diagno_index = (self.diagno_index+1)%self.diagno_length\n",
    "    def show_diagnostics(self):\n",
    "        for i in range(len(self.diagnostics_buffer)):\n",
    "            print(self.diagnostics_buffer[(self.diagno_index+i)%len(self.diagnostics_buffer)], flush=True)\n",
    "            \n",
    "    def save_weights(self, a_path, c_path):\n",
    "        self.actor.save_weights(a_path)\n",
    "        print(\"Saved actor weights\", flush=True)\n",
    "        self.critic.save_weights(c_path)\n",
    "        print(\"Saved critic weights\", flush=True)\n",
    "\n",
    "    def load_weights(self, a_path, c_path):\n",
    "        try:\n",
    "            self.actor.load_weights(a_path)\n",
    "            print(\"Loaded actor weights\", flush=True)\n",
    "            self.critic.load_weights(c_path)\n",
    "            print(\"Loaded critic weights\", flush=True)\n",
    "        except ValueError:\n",
    "            print(\"ERROR: Please make sure weights are saved as .ckpt\", flush=True)\n",
    "            \n",
    "        \n",
    "    def eval_rollout(self, eval_env):\n",
    "        eps_r = 0\n",
    "        eval_obs = eval_env.reset()\n",
    "        \n",
    "        while True:\n",
    "#             eval_env.render()\n",
    "\n",
    "            tf_eval_obs = tf.expand_dims(tf.convert_to_tensor(eval_obs), 0)\n",
    "\n",
    "            eval_a, eval_log_a, eval_h_a = self.actor(tf_eval_obs, eval_mode=True)\n",
    "\n",
    "            eval_a = eval_a[0]\n",
    "\n",
    "            eval_obs_new, eval_r, eval_d, _ = eval_env.step(eval_a)\n",
    "\n",
    "            eps_r += eval_r\n",
    "\n",
    "            if eval_d:\n",
    "                break\n",
    "                \n",
    "            eval_obs = eval_obs_new\n",
    "            \n",
    "        print(\"rollout episodic reward: \", eps_r, flush=True)\n"
   ]
  },
  {
   "cell_type": "markdown",
   "id": "fdd576db",
   "metadata": {},
   "source": [
    "#### Testing"
   ]
  },
  {
   "cell_type": "code",
   "execution_count": null,
   "id": "a1a02ffd",
   "metadata": {
    "scrolled": false
   },
   "outputs": [],
   "source": [
    "ppo1 = PPO(env, num_states, num_actions, upper_bound, 100)\n",
    "ppo1.train(1, 1)"
   ]
  },
  {
   "cell_type": "code",
   "execution_count": null,
   "id": "8c3b1f12",
   "metadata": {},
   "outputs": [],
   "source": [
    "ppo1.save_weights('./weights/a_test.ckpt', './weights/c_test.ckpt')"
   ]
  },
  {
   "cell_type": "code",
   "execution_count": null,
   "id": "b8f2eb28",
   "metadata": {},
   "outputs": [],
   "source": [
    "ppo2 = PPO(env, num_states, num_actions, upper_bound, 500)\n"
   ]
  },
  {
   "cell_type": "code",
   "execution_count": null,
   "id": "95a15c05",
   "metadata": {},
   "outputs": [],
   "source": [
    "ppo2.load_weights('./weights/a_test.ckpt', './weights/c_test.ckpt')"
   ]
  },
  {
   "cell_type": "code",
   "execution_count": 23,
   "id": "7ba3f9ae",
   "metadata": {},
   "outputs": [
    {
     "name": "stdout",
     "output_type": "stream",
     "text": [
      "['policy loss: ', array(-10.459991, dtype=float32), 'value loss: ', array(39.14146367)]\n"
     ]
    }
   ],
   "source": [
    "ppo2.train(1, 5)"
   ]
  },
  {
   "cell_type": "code",
   "execution_count": 24,
   "id": "b26c9b75",
   "metadata": {},
   "outputs": [
    {
     "name": "stdout",
     "output_type": "stream",
     "text": [
      "rollout episodic reward:  24.48648914115228\n"
     ]
    }
   ],
   "source": [
    "ppo2.eval_rollout(env)"
   ]
  },
  {
   "cell_type": "code",
   "execution_count": null,
   "id": "d44a5543",
   "metadata": {},
   "outputs": [],
   "source": []
  }
 ],
 "metadata": {
  "kernelspec": {
   "display_name": "Python 3",
   "language": "python",
   "name": "python3"
  },
  "language_info": {
   "codemirror_mode": {
    "name": "ipython",
    "version": 3
   },
   "file_extension": ".py",
   "mimetype": "text/x-python",
   "name": "python",
   "nbconvert_exporter": "python",
   "pygments_lexer": "ipython3",
   "version": "3.7.13"
  }
 },
 "nbformat": 4,
 "nbformat_minor": 5
}
