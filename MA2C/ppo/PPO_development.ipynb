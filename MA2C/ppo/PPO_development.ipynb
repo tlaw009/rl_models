{
 "cells": [
  {
   "cell_type": "markdown",
   "id": "a842dc00",
   "metadata": {},
   "source": [
    "### Packages"
   ]
  },
  {
   "cell_type": "code",
   "execution_count": 150,
   "id": "d549e41c",
   "metadata": {
    "scrolled": false
   },
   "outputs": [],
   "source": [
    "import numpy as np\n",
    "import tensorflow as tf\n",
    "from tensorflow import keras\n",
    "from tensorflow.keras import layers\n",
    "import gym\n",
    "import scipy.signal\n",
    "import time\n",
    "from tensorflow.keras import Model\n",
    "import matplotlib.pyplot as plt\n",
    "import random\n",
    "import tensorflow_probability as tfp"
   ]
  },
  {
   "cell_type": "markdown",
   "id": "881ffe26",
   "metadata": {},
   "source": [
    "### Env Setup"
   ]
  },
  {
   "cell_type": "code",
   "execution_count": 151,
   "id": "691e4e77",
   "metadata": {
    "scrolled": false
   },
   "outputs": [],
   "source": [
    "problem = \"Hopper-v2\"\n",
    "env = gym.make(problem)\n",
    "\n",
    "num_states = env.observation_space.shape[0]\n",
    "num_actions = env.action_space.shape[0]\n",
    "upper_bound = env.action_space.high[0]\n",
    "lower_bound = env.action_space.low[0]\n",
    "\n",
    "num_states, num_states, upper_bound, lower_bound\n",
    "\n",
    "EPSILON = 1e-10"
   ]
  },
  {
   "cell_type": "markdown",
   "id": "3ffb6652",
   "metadata": {},
   "source": [
    "### Actor Model"
   ]
  },
  {
   "cell_type": "code",
   "execution_count": 163,
   "id": "9cade089",
   "metadata": {},
   "outputs": [],
   "source": [
    "class Actor(Model):\n",
    "\n",
    "    def __init__(self, action_dimensions):\n",
    "        super().__init__()\n",
    "        self.action_dim = action_dimensions\n",
    "        self.sample_dist = tfp.distributions.MultivariateNormalDiag(loc=tf.zeros(num_actions), scale_diag=tf.ones(num_actions))\n",
    "        self.dense1_layer = layers.Dense(256, activation=\"relu\")\n",
    "        self.dense2_layer = layers.Dense(256, activation=\"relu\")\n",
    "        self.mean_layer = layers.Dense(self.action_dim)\n",
    "        self.stdev_layer = layers.Dense(self.action_dim)\n",
    "\n",
    "    def call(self, state, eval_mode=False):\n",
    "\n",
    "        a1 = self.dense1_layer(state)\n",
    "        a2 = self.dense2_layer(a1)\n",
    "        mu = self.mean_layer(a2)\n",
    "\n",
    "        log_sigma = self.stdev_layer(a2)\n",
    "        sigma = tf.exp(log_sigma)\n",
    "\n",
    "#         sigma = tf.clip_by_value(sigma, 0.01, 2.718)\n",
    "\n",
    "#         print(\"Mu, Sigma: \",mu, sigma)\n",
    "\n",
    "        dist = tfp.distributions.MultivariateNormalDiag(loc=mu, scale_diag=sigma)\n",
    "        \n",
    "#         print(\"DIST MU, SIGMA: \", dist.mean(), dist.stddev())\n",
    "\n",
    "        if eval_mode:\n",
    "            action_ = mu\n",
    "        else:\n",
    "            action_ = tf.math.add(mu, tf.math.multiply(sigma, tf.expand_dims(self.sample_dist.sample(), 0)))\n",
    "\n",
    "#         print(\"Unbounded a: \",action_)\n",
    "        \n",
    "        action = tf.tanh(action_)\n",
    "        \n",
    "#         print(\"Bounded a: \", action)\n",
    "\n",
    "        log_pi_ = dist.log_prob(action_)\n",
    "\n",
    "#         print(\"Presquashed log a: \", log_pi_)\n",
    "        \n",
    "        log_pi = log_pi_ - tf.reduce_sum(tf.math.log(tf.clip_by_value(1 - action**2, EPSILON, 1.0)), axis=1)\n",
    "        \n",
    "#         print(\"Squashed log a: \",log_pi )\n",
    "\n",
    "        return action*upper_bound, log_pi\n"
   ]
  },
  {
   "cell_type": "markdown",
   "id": "007055e0",
   "metadata": {},
   "source": [
    "#### Testing"
   ]
  },
  {
   "cell_type": "code",
   "execution_count": 164,
   "id": "6bb28e54",
   "metadata": {},
   "outputs": [],
   "source": [
    "actor_test = Actor(num_actions)"
   ]
  },
  {
   "cell_type": "code",
   "execution_count": 165,
   "id": "1e2f2715",
   "metadata": {},
   "outputs": [
    {
     "data": {
      "text/plain": [
       "array([ 1.24755665e+00, -4.37420824e-03, -2.86328271e-03,  3.78593567e-03,\n",
       "       -1.00007902e-03,  2.51344390e-03, -4.01047093e-03,  3.78887863e-03,\n",
       "       -1.16118361e-03,  2.81530012e-03, -2.44420182e-03])"
      ]
     },
     "execution_count": 165,
     "metadata": {},
     "output_type": "execute_result"
    }
   ],
   "source": [
    "obs = env.reset()\n",
    "obs"
   ]
  },
  {
   "cell_type": "code",
   "execution_count": 166,
   "id": "94db9aab",
   "metadata": {},
   "outputs": [],
   "source": [
    "tf_obs = tf.expand_dims(obs, 0)\n",
    "tf_obs\n",
    "a_test, log_a_test = actor_test(tf_obs)\n"
   ]
  },
  {
   "cell_type": "code",
   "execution_count": 167,
   "id": "85a19b6b",
   "metadata": {
    "scrolled": true
   },
   "outputs": [
    {
     "name": "stdout",
     "output_type": "stream",
     "text": [
      "Model: \"actor_9\"\n",
      "_________________________________________________________________\n",
      " Layer (type)                Output Shape              Param #   \n",
      "=================================================================\n",
      " dense_80 (Dense)            multiple                  3072      \n",
      "                                                                 \n",
      " dense_81 (Dense)            multiple                  65792     \n",
      "                                                                 \n",
      " dense_82 (Dense)            multiple                  771       \n",
      "                                                                 \n",
      " dense_83 (Dense)            multiple                  771       \n",
      "                                                                 \n",
      "=================================================================\n",
      "Total params: 70,406\n",
      "Trainable params: 70,406\n",
      "Non-trainable params: 0\n",
      "_________________________________________________________________\n"
     ]
    }
   ],
   "source": [
    "actor_test.summary()"
   ]
  },
  {
   "cell_type": "markdown",
   "id": "8cd2d01d",
   "metadata": {},
   "source": [
    "### Critic Model"
   ]
  },
  {
   "cell_type": "code",
   "execution_count": 168,
   "id": "00218e60",
   "metadata": {},
   "outputs": [],
   "source": [
    "class Critic_wrapper():\n",
    "    def __init__(self, state_dim, action_dim):\n",
    "        self.s_dim=state_dim\n",
    "        self.a_dim=action_dim\n",
    "        \n",
    "    def get_critic(self):\n",
    "        # State as input\n",
    "        state_input = layers.Input(shape=(self.s_dim))\n",
    "        state_out = layers.Dense(128, activation=\"relu\")(state_input)\n",
    "        # state_out = layers.Dense(32, activation=\"relu\")(state_out)\n",
    "\n",
    "        # Action as input\n",
    "        action_input = layers.Input(shape=(self.a_dim))\n",
    "        action_out = layers.Dense(128, activation=\"relu\")(action_input)\n",
    "\n",
    "        # Concatenating\n",
    "        concat = layers.Concatenate()([state_out, action_out])\n",
    "        out = layers.Dense(256, activation=\"relu\")(concat)\n",
    "        outputs = layers.Dense(1, dtype='float64')(out)\n",
    "\n",
    "        # Outputs single value for give state-action\n",
    "        model = tf.keras.Model([state_input, action_input], outputs)\n",
    "\n",
    "        return model\n"
   ]
  },
  {
   "cell_type": "markdown",
   "id": "a391b67e",
   "metadata": {},
   "source": [
    "#### Testing"
   ]
  },
  {
   "cell_type": "code",
   "execution_count": 169,
   "id": "8ce0e95d",
   "metadata": {},
   "outputs": [],
   "source": [
    "critic_gen = Critic_wrapper(num_states, num_actions)\n",
    "critic_test = critic_gen.get_critic()"
   ]
  },
  {
   "cell_type": "code",
   "execution_count": 170,
   "id": "6803f73a",
   "metadata": {},
   "outputs": [
    {
     "data": {
      "text/plain": [
       "array([ 1.25294591e+00, -2.42876634e-03,  1.15680813e-04,  8.51958546e-04,\n",
       "        2.32168135e-03, -4.44291986e-03, -3.23700541e-03, -1.07100765e-03,\n",
       "        4.98346840e-03, -1.71841054e-03, -2.99219715e-03])"
      ]
     },
     "execution_count": 170,
     "metadata": {},
     "output_type": "execute_result"
    }
   ],
   "source": [
    "obs = env.reset()\n",
    "obs"
   ]
  },
  {
   "cell_type": "code",
   "execution_count": 171,
   "id": "7ae2bc50",
   "metadata": {},
   "outputs": [
    {
     "data": {
      "text/plain": [
       "<tf.Tensor: shape=(1, 11), dtype=float64, numpy=\n",
       "array([[ 1.25294591e+00, -2.42876634e-03,  1.15680813e-04,\n",
       "         8.51958546e-04,  2.32168135e-03, -4.44291986e-03,\n",
       "        -3.23700541e-03, -1.07100765e-03,  4.98346840e-03,\n",
       "        -1.71841054e-03, -2.99219715e-03]])>"
      ]
     },
     "execution_count": 171,
     "metadata": {},
     "output_type": "execute_result"
    }
   ],
   "source": [
    "tf_obs = tf.expand_dims(obs, 0)\n",
    "a_test, log_a_test = actor_test(tf_obs)\n",
    "tf_obs"
   ]
  },
  {
   "cell_type": "code",
   "execution_count": 172,
   "id": "6e78ce20",
   "metadata": {},
   "outputs": [
    {
     "data": {
      "text/plain": [
       "<tf.Tensor: shape=(1, 1), dtype=float64, numpy=array([[-0.0448832]])>"
      ]
     },
     "execution_count": 172,
     "metadata": {},
     "output_type": "execute_result"
    }
   ],
   "source": [
    "v_test = critic_test([tf_obs, a_test])\n",
    "v_test"
   ]
  },
  {
   "cell_type": "code",
   "execution_count": 173,
   "id": "93675e32",
   "metadata": {
    "scrolled": false
   },
   "outputs": [
    {
     "name": "stdout",
     "output_type": "stream",
     "text": [
      "Model: \"model_11\"\n",
      "__________________________________________________________________________________________________\n",
      " Layer (type)                   Output Shape         Param #     Connected to                     \n",
      "==================================================================================================\n",
      " input_23 (InputLayer)          [(None, 11)]         0           []                               \n",
      "                                                                                                  \n",
      " input_24 (InputLayer)          [(None, 3)]          0           []                               \n",
      "                                                                                                  \n",
      " dense_84 (Dense)               (None, 128)          1536        ['input_23[0][0]']               \n",
      "                                                                                                  \n",
      " dense_85 (Dense)               (None, 128)          512         ['input_24[0][0]']               \n",
      "                                                                                                  \n",
      " concatenate_11 (Concatenate)   (None, 256)          0           ['dense_84[0][0]',               \n",
      "                                                                  'dense_85[0][0]']               \n",
      "                                                                                                  \n",
      " dense_86 (Dense)               (None, 256)          65792       ['concatenate_11[0][0]']         \n",
      "                                                                                                  \n",
      " dense_87 (Dense)               (None, 1)            257         ['dense_86[0][0]']               \n",
      "                                                                                                  \n",
      "==================================================================================================\n",
      "Total params: 68,097\n",
      "Trainable params: 68,097\n",
      "Non-trainable params: 0\n",
      "__________________________________________________________________________________________________\n"
     ]
    }
   ],
   "source": [
    "critic_test.summary()"
   ]
  },
  {
   "cell_type": "markdown",
   "id": "d62cd046",
   "metadata": {},
   "source": [
    "### Replay Buffer"
   ]
  },
  {
   "cell_type": "code",
   "execution_count": 286,
   "id": "36e02cd3",
   "metadata": {},
   "outputs": [],
   "source": [
    "class Buffer:\n",
    "\n",
    "    def __init__(self, observation_dimensions, action_dimensions, size, minibatch_size, gamma=0.99, lam=0.95):\n",
    "\n",
    "        self.observation_buffer = np.zeros(\n",
    "            (size, observation_dimensions), dtype=np.float32\n",
    "        )\n",
    "        self.action_buffer = np.zeros((size, action_dimensions), dtype=np.float32)\n",
    "        self.reward_buffer = np.zeros(size, dtype=np.float32)\n",
    "        self.logprobability_buffer = np.zeros(size, dtype=np.float32)\n",
    "        \n",
    "        self.gamma, self.lam = gamma, lam\n",
    "        self.batch_size = minibatch_size\n",
    "        \n",
    "        self.pointer = 0\n",
    "        self.trajectory_start_indices = []\n",
    "        self.trajectory_start_indices.append(0)\n",
    "\n",
    "    def store(self, observation, action, reward, logprobability, done):\n",
    "\n",
    "        self.observation_buffer[self.pointer] = observation\n",
    "        self.action_buffer[self.pointer] = action\n",
    "        self.reward_buffer[self.pointer] = reward\n",
    "        self.logprobability_buffer[self.pointer] = logprobability\n",
    "        self.pointer += 1\n",
    "        if done:\n",
    "            self.trajectory_start_indices.append(self.pointer)\n",
    "\n",
    "\n",
    "\n",
    "\n",
    "    def get(self):\n",
    "        # Get all data of the buffer and normalize the advantages\n",
    "        rindex = np.random.choice(len(self.trajectory_start_indices)-1, self.batch_size)\n",
    "#         print(rindex)\n",
    "        isolated_obs = [self.observation_buffer[self.trajectory_start_indices[ri]:\n",
    "                                               self.trajectory_start_indices[ri+1]-1] for ri in rindex]\n",
    "        isolated_a = [self.action_buffer[self.trajectory_start_indices[ri]:\n",
    "                                               self.trajectory_start_indices[ri+1]-1] for ri in rindex]\n",
    "        isolated_r = [self.reward_buffer[self.trajectory_start_indices[ri]:\n",
    "                                               self.trajectory_start_indices[ri+1]-1] for ri in rindex]\n",
    "        isolated_log_a = [self.logprobability_buffer[self.trajectory_start_indices[ri]:\n",
    "                                               self.trajectory_start_indices[ri+1]-1] for ri in rindex]\n",
    "        \n",
    "        return (\n",
    "            isolated_obs,\n",
    "            isolated_a,\n",
    "            isolated_r,\n",
    "            isolated_log_a,\n",
    "        )\n",
    "    def clear(self):\n",
    "        self.pointer = 0\n",
    "        self.trajectory_start_indices = []\n",
    "        self.trajectory_start_indices.append(0)"
   ]
  },
  {
   "cell_type": "markdown",
   "id": "3568e429",
   "metadata": {},
   "source": [
    "#### Testing"
   ]
  },
  {
   "cell_type": "code",
   "execution_count": 299,
   "id": "265d75ff",
   "metadata": {},
   "outputs": [],
   "source": [
    "buffer = Buffer(num_states, num_actions, 100, 2)\n",
    "actor_test = Actor(num_actions)\n",
    "critic_gen = Critic_wrapper(num_states, num_actions)\n",
    "critic_test = critic_gen.get_critic()"
   ]
  },
  {
   "cell_type": "code",
   "execution_count": 300,
   "id": "63b4752c",
   "metadata": {
    "scrolled": true
   },
   "outputs": [
    {
     "name": "stdout",
     "output_type": "stream",
     "text": [
      "[0, 12, 29, 56, 65, 93]\n"
     ]
    }
   ],
   "source": [
    "obs = env.reset()\n",
    "buffer.clear()\n",
    "for x in range(100):\n",
    "    tf_obs = tf.expand_dims(obs, 0)\n",
    "    a, log_a = actor_test(tf_obs)\n",
    "    a = a[0]\n",
    "    obs_new, r, d, _ = env.step(a)\n",
    "    \n",
    "    buffer.store(obs, a, r, log_a, d)\n",
    "    if d:\n",
    "        obs = env.reset()\n",
    "    else:\n",
    "        obs = obs_new\n",
    "    \n",
    "print(buffer.trajectory_start_indices)"
   ]
  },
  {
   "cell_type": "code",
   "execution_count": 318,
   "id": "c19401bc",
   "metadata": {
    "scrolled": false
   },
   "outputs": [
    {
     "name": "stdout",
     "output_type": "stream",
     "text": [
      "trajectory len:  27\n",
      "s_dim:  11\n",
      "trajectory len:  16\n",
      "s_dim:  11\n"
     ]
    }
   ],
   "source": [
    "s_b, a_b, r_b, l_b = buffer.get()\n",
    "# np.array(s_b, dtype=object).shape, np.array(a_b, dtype=object).shape, np.array(r_b, dtype=object).shape, np.array(l_b, dtype=object).shape\n",
    "# np.array(s_b, dtype=object), np.array(a_b, dtype=object), np.array(r_b, dtype=object), np.array(l_b, dtype=object)\n",
    "for x in s_b:\n",
    "    print(\"trajectory len: \", len(x))\n",
    "    print(\"s_dim: \", len(x[0]))"
   ]
  },
  {
   "cell_type": "code",
   "execution_count": null,
   "id": "43d71db8",
   "metadata": {},
   "outputs": [],
   "source": []
  },
  {
   "cell_type": "markdown",
   "id": "3ebdcacf",
   "metadata": {},
   "source": [
    "### Discount Sample Returns"
   ]
  },
  {
   "cell_type": "code",
   "execution_count": 81,
   "id": "05400171",
   "metadata": {},
   "outputs": [],
   "source": [
    "def discounted_cumulative_sums(x, discount):\n",
    "    # Discounted cumulative sums of vectors for computing rewards-to-go and advantage estimates\n",
    "    return scipy.signal.lfilter([1], [1, float(-discount)], x[::-1], axis=0)[::-1]"
   ]
  },
  {
   "cell_type": "code",
   "execution_count": 82,
   "id": "3a45a0da",
   "metadata": {},
   "outputs": [],
   "source": [
    "discount = 0.99\n",
    "samples = []"
   ]
  },
  {
   "cell_type": "code",
   "execution_count": null,
   "id": "85dc3da3",
   "metadata": {},
   "outputs": [],
   "source": []
  }
 ],
 "metadata": {
  "kernelspec": {
   "display_name": "Python 3 (ipykernel)",
   "language": "python",
   "name": "python3"
  },
  "language_info": {
   "codemirror_mode": {
    "name": "ipython",
    "version": 3
   },
   "file_extension": ".py",
   "mimetype": "text/x-python",
   "name": "python",
   "nbconvert_exporter": "python",
   "pygments_lexer": "ipython3",
   "version": "3.8.13"
  }
 },
 "nbformat": 4,
 "nbformat_minor": 5
}
