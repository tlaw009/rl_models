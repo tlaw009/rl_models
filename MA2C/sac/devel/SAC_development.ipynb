{
 "cells": [
  {
   "cell_type": "code",
   "execution_count": 2,
   "id": "5dc7ff4d",
   "metadata": {},
   "outputs": [],
   "source": [
    "import gym\n",
    "import tensorflow as tf\n",
    "from tensorflow.keras import layers\n",
    "from tensorflow.keras import Model\n",
    "import numpy as np\n",
    "import os\n",
    "import json\n",
    "import random\n",
    "import tensorflow_probability as tfp\n",
    "from tensorflow.keras import regularizers\n",
    "import glfw"
   ]
  },
  {
   "cell_type": "markdown",
   "id": "4c8cca3c",
   "metadata": {},
   "source": [
    "### Env Setup"
   ]
  },
  {
   "cell_type": "markdown",
   "id": "028cc767",
   "metadata": {},
   "source": [
    "#### Toggle GPU"
   ]
  },
  {
   "cell_type": "code",
   "execution_count": 3,
   "id": "5a856901",
   "metadata": {},
   "outputs": [],
   "source": [
    "#os.environ[\"CUDA_DEVICE_ORDER\"]=\"PCI_BUS_ID\" #If the line below doesn't work, uncomment this line (make sure to comment the line below); it should help.\n",
    "os.environ['CUDA_VISIBLE_DEVICES'] = '-1'"
   ]
  },
  {
   "cell_type": "code",
   "execution_count": 4,
   "id": "7e91a9ba",
   "metadata": {},
   "outputs": [],
   "source": [
    "problem = \"Hopper-v3\"\n",
    "env = gym.make(problem)\n",
    "\n",
    "num_states = env.observation_space.shape[0]\n",
    "num_actions = env.action_space.shape[0]\n",
    "upper_bound = env.action_space.high[0]\n",
    "lower_bound = env.action_space.low[0]"
   ]
  },
  {
   "cell_type": "markdown",
   "id": "eeafe2ab",
   "metadata": {},
   "source": [
    "### Actor Model"
   ]
  },
  {
   "cell_type": "markdown",
   "id": "be9aeb90",
   "metadata": {},
   "source": [
    "#### Note:"
   ]
  },
  {
   "cell_type": "markdown",
   "id": "279be0e3",
   "metadata": {},
   "source": [
    "Same as PPO actor. Gaussian policy"
   ]
  },
  {
   "cell_type": "code",
   "execution_count": 5,
   "id": "e15e7f5f",
   "metadata": {},
   "outputs": [],
   "source": [
    "EPSILON = 1e-10\n",
    "\n",
    "class Actor(Model):\n",
    "\n",
    "    def __init__(self, action_dimensions, action_bound):\n",
    "        super().__init__()\n",
    "        self.action_dim, self.upper_bound = action_dimensions, action_bound\n",
    "        self.sample_dist = tfp.distributions.MultivariateNormalDiag(loc=tf.zeros(self.action_dim),\n",
    "                                                                    scale_diag=tf.ones(self.action_dim))\n",
    "        self.input_batch_norm = layers.BatchNormalization()\n",
    "        self.dense1_layer = layers.Dense(64, activation=\"relu\")\n",
    "        self.dense2_layer = layers.Dense(64, activation=\"relu\")\n",
    "        self.mean_layer = layers.Dense(self.action_dim)\n",
    "        self.stdev_layer = layers.Dense(self.action_dim)\n",
    "\n",
    "    def call(self, state, eval_mode=False):\n",
    "        norm_state = self.input_batch_norm(state)\n",
    "        a1 = self.dense1_layer(norm_state)\n",
    "        a2 = self.dense2_layer(a1)\n",
    "        mu = self.mean_layer(a2)\n",
    "\n",
    "        log_sigma = self.stdev_layer(a2)\n",
    "        sigma = tf.exp(log_sigma)\n",
    "        sigma = tf.clip_by_value(sigma, EPSILON, 2.718)\n",
    "\n",
    "        dist = tfp.distributions.MultivariateNormalDiag(loc=mu, scale_diag=sigma)\n",
    "        \n",
    "        if eval_mode:\n",
    "            action_ = mu\n",
    "        else:\n",
    "            action_ = tf.math.add(mu, tf.math.multiply(sigma, tf.expand_dims(self.sample_dist.sample(), 0)))\n",
    " \n",
    "        action = tf.tanh(action_)\n",
    "\n",
    "        log_pi_ = dist.log_prob(action_)     \n",
    "        log_pi = log_pi_ - tf.reduce_sum(tf.math.log(tf.clip_by_value(1 - action**2, EPSILON, 1.0)), axis=1)\n",
    "        \n",
    "        return action*self.upper_bound, log_pi\n"
   ]
  },
  {
   "cell_type": "code",
   "execution_count": 8,
   "id": "6d3f74b8",
   "metadata": {},
   "outputs": [],
   "source": [
    "actor_test = Actor(num_actions, upper_bound)"
   ]
  },
  {
   "cell_type": "code",
   "execution_count": 9,
   "id": "2d7cab68",
   "metadata": {},
   "outputs": [
    {
     "name": "stdout",
     "output_type": "stream",
     "text": [
      "tf.Tensor([[ 0.39798087 -0.9506462   0.9480283 ]], shape=(1, 3), dtype=float32) tf.Tensor([0.368845], shape=(1,), dtype=float32)\n"
     ]
    }
   ],
   "source": [
    "obs = env.reset()\n",
    "obs\n",
    "tf_obs = tf.expand_dims(obs, 0)\n",
    "tf_obs\n",
    "a_test, log_a_test = actor_test(tf_obs)\n",
    "print(a_test, log_a_test)"
   ]
  },
  {
   "cell_type": "code",
   "execution_count": 10,
   "id": "116539f7",
   "metadata": {},
   "outputs": [
    {
     "name": "stdout",
     "output_type": "stream",
     "text": [
      "Model: \"actor_1\"\n",
      "_________________________________________________________________\n",
      " Layer (type)                Output Shape              Param #   \n",
      "=================================================================\n",
      " batch_normalization_1 (Batc  multiple                 44        \n",
      " hNormalization)                                                 \n",
      "                                                                 \n",
      " dense_4 (Dense)             multiple                  768       \n",
      "                                                                 \n",
      " dense_5 (Dense)             multiple                  4160      \n",
      "                                                                 \n",
      " dense_6 (Dense)             multiple                  195       \n",
      "                                                                 \n",
      " dense_7 (Dense)             multiple                  195       \n",
      "                                                                 \n",
      "=================================================================\n",
      "Total params: 5,362\n",
      "Trainable params: 5,340\n",
      "Non-trainable params: 22\n",
      "_________________________________________________________________\n"
     ]
    }
   ],
   "source": [
    "actor_test.summary()"
   ]
  },
  {
   "cell_type": "markdown",
   "id": "e09fae85",
   "metadata": {},
   "source": [
    "### Critic Wrapper"
   ]
  },
  {
   "cell_type": "markdown",
   "id": "a403d18b",
   "metadata": {},
   "source": [
    "#### Note:"
   ]
  },
  {
   "cell_type": "markdown",
   "id": "b347d502",
   "metadata": {},
   "source": [
    "Different from PPO, critic evaluate state-action pairs."
   ]
  },
  {
   "cell_type": "code",
   "execution_count": 11,
   "id": "7d5f39f2",
   "metadata": {},
   "outputs": [],
   "source": [
    "class Critic_Wrapper():\n",
    "    def __init__(self, state_dim, action_dim):\n",
    "        self.s_dim=state_dim\n",
    "        self.a_dim=action_dim\n",
    "        \n",
    "    def get_critic(self):\n",
    "        # State as input\n",
    "        state_input = layers.Input(shape=(self.s_dim))\n",
    "        state_out = layers.Dense(32, activation=\"relu\")(state_input)\n",
    "\n",
    "        # Action as input\n",
    "        action_input = layers.Input(shape=(self.a_dim))\n",
    "        action_out = layers.Dense(32, activation=\"relu\")(action_input)\n",
    "\n",
    "        # Concatenating\n",
    "        concat = layers.Concatenate()([state_out, action_out])\n",
    "        out = layers.Dense(64, activation=\"relu\")(concat)\n",
    "        outputs = tf.squeeze(layers.Dense(1)(out))\n",
    "\n",
    "        # Outputs single value for give state-action\n",
    "        model = tf.keras.Model([state_input, action_input], outputs)\n",
    "\n",
    "        return model"
   ]
  },
  {
   "cell_type": "code",
   "execution_count": 12,
   "id": "4dadd49c",
   "metadata": {},
   "outputs": [],
   "source": [
    "critic_gen = Critic_Wrapper(num_states, num_actions)\n",
    "critic_test = critic_gen.get_critic()"
   ]
  },
  {
   "cell_type": "code",
   "execution_count": 13,
   "id": "65aced4e",
   "metadata": {},
   "outputs": [
    {
     "data": {
      "text/plain": [
       "array([ 1.24880503e+00,  1.42239147e-03, -9.43414843e-04,  4.49359909e-03,\n",
       "       -4.49856098e-03,  4.32982949e-03,  2.01481111e-03, -2.96223623e-03,\n",
       "        3.50253660e-03,  2.19241399e-03, -4.95274510e-03])"
      ]
     },
     "execution_count": 13,
     "metadata": {},
     "output_type": "execute_result"
    }
   ],
   "source": [
    "obs = env.reset()\n",
    "obs"
   ]
  },
  {
   "cell_type": "code",
   "execution_count": 14,
   "id": "3c101830",
   "metadata": {},
   "outputs": [
    {
     "data": {
      "text/plain": [
       "<tf.Tensor: shape=(1, 11), dtype=float64, numpy=\n",
       "array([[ 1.24880503e+00,  1.42239147e-03, -9.43414843e-04,\n",
       "         4.49359909e-03, -4.49856098e-03,  4.32982949e-03,\n",
       "         2.01481111e-03, -2.96223623e-03,  3.50253660e-03,\n",
       "         2.19241399e-03, -4.95274510e-03]])>"
      ]
     },
     "execution_count": 14,
     "metadata": {},
     "output_type": "execute_result"
    }
   ],
   "source": [
    "tf_obs = tf.expand_dims(obs, 0)\n",
    "a_test, log_a_test = actor_test(tf_obs)\n",
    "tf_obs"
   ]
  },
  {
   "cell_type": "code",
   "execution_count": 15,
   "id": "aa334304",
   "metadata": {},
   "outputs": [
    {
     "data": {
      "text/plain": [
       "<tf.Tensor: shape=(), dtype=float32, numpy=-0.037884098>"
      ]
     },
     "execution_count": 15,
     "metadata": {},
     "output_type": "execute_result"
    }
   ],
   "source": [
    "v_test = critic_test([tf_obs, a_test])\n",
    "v_test"
   ]
  },
  {
   "cell_type": "code",
   "execution_count": 16,
   "id": "2a2cfe7f",
   "metadata": {},
   "outputs": [
    {
     "name": "stdout",
     "output_type": "stream",
     "text": [
      "(2, 11)\n"
     ]
    }
   ],
   "source": [
    "obs_new, _, _, _ = env.step(a_test[0])\n",
    "tf_obs_new = tf.expand_dims(obs_new, 0)\n",
    "statex2 = tf.convert_to_tensor([obs, obs_new])\n",
    "print(statex2.shape)"
   ]
  },
  {
   "cell_type": "code",
   "execution_count": 17,
   "id": "df584535",
   "metadata": {},
   "outputs": [
    {
     "name": "stdout",
     "output_type": "stream",
     "text": [
      "(2, 3) (2,)\n"
     ]
    }
   ],
   "source": [
    "a_2, loga_2 = actor_test(statex2)\n",
    "\n",
    "print(a_2.shape, loga_2.shape)"
   ]
  },
  {
   "cell_type": "code",
   "execution_count": 18,
   "id": "f16a7ea1",
   "metadata": {},
   "outputs": [
    {
     "name": "stdout",
     "output_type": "stream",
     "text": [
      "(2,)\n"
     ]
    }
   ],
   "source": [
    "v_2 = critic_test([statex2, a_2])\n",
    "print(v_2.shape)"
   ]
  },
  {
   "cell_type": "code",
   "execution_count": 19,
   "id": "eb6392ee",
   "metadata": {},
   "outputs": [
    {
     "name": "stdout",
     "output_type": "stream",
     "text": [
      "Model: \"model\"\n",
      "__________________________________________________________________________________________________\n",
      " Layer (type)                   Output Shape         Param #     Connected to                     \n",
      "==================================================================================================\n",
      " input_1 (InputLayer)           [(None, 11)]         0           []                               \n",
      "                                                                                                  \n",
      " input_2 (InputLayer)           [(None, 3)]          0           []                               \n",
      "                                                                                                  \n",
      " dense_8 (Dense)                (None, 32)           384         ['input_1[0][0]']                \n",
      "                                                                                                  \n",
      " dense_9 (Dense)                (None, 32)           128         ['input_2[0][0]']                \n",
      "                                                                                                  \n",
      " concatenate (Concatenate)      (None, 64)           0           ['dense_8[0][0]',                \n",
      "                                                                  'dense_9[0][0]']                \n",
      "                                                                                                  \n",
      " dense_10 (Dense)               (None, 64)           4160        ['concatenate[0][0]']            \n",
      "                                                                                                  \n",
      " dense_11 (Dense)               (None, 1)            65          ['dense_10[0][0]']               \n",
      "                                                                                                  \n",
      " tf.compat.v1.squeeze (TFOpLamb  None                0           ['dense_11[0][0]']               \n",
      " da)                                                                                              \n",
      "                                                                                                  \n",
      "==================================================================================================\n",
      "Total params: 4,737\n",
      "Trainable params: 4,737\n",
      "Non-trainable params: 0\n",
      "__________________________________________________________________________________________________\n"
     ]
    }
   ],
   "source": [
    "critic_test.summary()"
   ]
  },
  {
   "cell_type": "markdown",
   "id": "45a3c971",
   "metadata": {},
   "source": [
    "### Replay Buffer"
   ]
  },
  {
   "cell_type": "code",
   "execution_count": 20,
   "id": "66ff1c11",
   "metadata": {},
   "outputs": [],
   "source": [
    "class Buffer:\n",
    "    def __init__(self, obs_dim, a_dim, buffer_capacity=100000, batch_size=256):\n",
    "        \n",
    "        self.obs_dim = obs_dim\n",
    "        self.a_dim = a_dim\n",
    "        self.buffer_capacity = buffer_capacity\n",
    "        self.batch_size = batch_size\n",
    "        self.buffer_counter = 0\n",
    "\n",
    "        self.state_buffer = np.zeros((self.buffer_capacity, self.obs_dim))\n",
    "        self.action_buffer = np.zeros((self.buffer_capacity, self.a_dim))\n",
    "        self.reward_buffer = np.zeros((self.buffer_capacity, 1))\n",
    "        self.next_state_buffer = np.zeros((self.buffer_capacity, self.obs_dim))\n",
    "        self.done_buffer = np.zeros((self.buffer_capacity, 1))\n",
    "\n",
    "    def record(self, obs_tuple):\n",
    "        index = self.buffer_counter % self.buffer_capacity\n",
    "\n",
    "        self.state_buffer[index] = obs_tuple[0]\n",
    "        self.action_buffer[index] = obs_tuple[1]\n",
    "        self.reward_buffer[index] = obs_tuple[2]\n",
    "        self.next_state_buffer[index] = obs_tuple[3]\n",
    "        self.done_buffer[index] = obs_tuple[4]\n",
    "        self.buffer_counter += 1\n",
    "        \n",
    "    def sample(self):\n",
    "        record_range = min(self.buffer_counter, self.buffer_capacity)\n",
    "        batch_indices = np.random.choice(record_range, self.batch_size)\n",
    "\n",
    "        state_batch = tf.convert_to_tensor(self.state_buffer[batch_indices])\n",
    "        action_batch = tf.convert_to_tensor(self.action_buffer[batch_indices])\n",
    "        reward_batch = tf.squeeze(tf.convert_to_tensor(self.reward_buffer[batch_indices]))\n",
    "        next_state_batch = tf.convert_to_tensor(self.next_state_buffer[batch_indices])\n",
    "        done_batch = tf.squeeze(tf.convert_to_tensor(self.done_buffer[batch_indices]))\n",
    "        \n",
    "        return (state_batch,\n",
    "               action_batch,\n",
    "               reward_batch,\n",
    "               next_state_batch,\n",
    "               done_batch)\n"
   ]
  },
  {
   "cell_type": "code",
   "execution_count": 21,
   "id": "9d040f7a",
   "metadata": {},
   "outputs": [],
   "source": [
    "buffer1 = Buffer(num_states, num_actions, 100, 10)"
   ]
  },
  {
   "cell_type": "code",
   "execution_count": 22,
   "id": "11879892",
   "metadata": {},
   "outputs": [],
   "source": [
    "prev_obs = env.reset()\n",
    "\n",
    "for i in range(buffer1.buffer_capacity):\n",
    "    a, _ = actor_test(tf.expand_dims(prev_obs, 0))\n",
    "    obs, r, d, _ = env.step(a[0])\n",
    "    \n",
    "    buffer1.record((prev_obs, a[0], r, obs, d))\n",
    "    \n",
    "    prev_obs = obs\n",
    "    "
   ]
  },
  {
   "cell_type": "code",
   "execution_count": 23,
   "id": "ac7dac19",
   "metadata": {},
   "outputs": [
    {
     "data": {
      "text/plain": [
       "(<tf.Tensor: shape=(10, 11), dtype=float64, numpy=\n",
       " array([[ 1.21723377e+00, -2.08340990e-01, -4.67962509e-02,\n",
       "         -3.25600430e-01,  6.23583820e-03, -1.07274105e+00,\n",
       "         -3.80004980e-01, -3.22802333e+00,  8.55268481e-01,\n",
       "         -6.70776993e+00,  1.74540892e+00],\n",
       "        [ 1.86238683e-01, -2.30998832e+00, -5.52612388e-01,\n",
       "         -2.61000593e+00,  6.95616188e-01,  3.29272822e-01,\n",
       "          3.50386963e-01, -4.10256297e+00, -2.83147178e+00,\n",
       "          3.44946233e-01, -4.21573939e+00],\n",
       "        [ 2.38517062e-01, -2.51215895e+00, -5.61198158e-01,\n",
       "         -2.59561934e+00,  3.45594740e-01,  5.98429209e-01,\n",
       "         -4.23727146e-01,  2.81824917e-01, -9.93262087e-01,\n",
       "         -7.56256987e-01,  4.31650840e+00],\n",
       "        [ 2.43869661e-01, -2.50656941e+00, -5.16542170e-01,\n",
       "         -2.59154912e+00,  2.50113664e-01,  4.28416933e-01,\n",
       "          3.92567546e-02, -1.42019885e-01, -1.87602533e+00,\n",
       "          6.82211640e-01,  2.45340628e+00],\n",
       "        [ 1.24424973e+00, -7.54478919e-03,  1.34424256e-03,\n",
       "         -1.89006566e-02, -6.80831901e-03, -2.27834474e-01,\n",
       "         -2.17258761e-01, -1.16522865e+00,  9.47107449e-03,\n",
       "         -2.52816449e+00,  1.39148439e-01],\n",
       "        [ 1.87431764e-01, -2.33358504e+00, -4.69713255e-01,\n",
       "         -2.62581021e+00,  7.94107294e-01,  3.05887936e-01,\n",
       "         -6.29565317e-01,  3.29241108e+00,  1.87736926e+00,\n",
       "          1.33032184e-01,  4.74112716e+00],\n",
       "        [ 1.20350796e+00, -2.71490375e-01,  1.90445769e-02,\n",
       "         -5.33375881e-01,  6.55665788e-02, -1.48741703e+00,\n",
       "         -7.89472135e-01, -4.04528364e+00,  2.30759615e+00,\n",
       "         -1.00000000e+01,  1.83911178e+00],\n",
       "        [ 1.19640924e+00, -3.12695526e-01,  3.04775311e-02,\n",
       "         -6.18706332e-01,  7.66887592e-02, -1.76446697e+00,\n",
       "         -9.91308979e-01, -6.11611380e+00,  7.23104849e-01,\n",
       "         -1.00000000e+01,  9.40342036e-01],\n",
       "        [ 1.92626581e-01, -2.39321418e+00, -2.28287522e-01,\n",
       "         -2.58241535e+00,  1.94002568e-02,  6.08539526e-01,\n",
       "          8.55860142e-01, -3.73032957e-01, -2.69708828e+00,\n",
       "          7.26806809e-01, -2.87441173e+00],\n",
       "        [ 1.24424973e+00, -7.54478919e-03,  1.34424256e-03,\n",
       "         -1.89006566e-02, -6.80831901e-03, -2.27834474e-01,\n",
       "         -2.17258761e-01, -1.16522865e+00,  9.47107449e-03,\n",
       "         -2.52816449e+00,  1.39148439e-01]])>,\n",
       " <tf.Tensor: shape=(10, 3), dtype=float64, numpy=\n",
       " array([[ 0.97064334, -0.99999619,  0.61175901],\n",
       "        [-0.20746206, -0.91796392,  0.99912572],\n",
       "        [ 0.29249617, -0.95076948,  0.493662  ],\n",
       "        [-0.01350056, -0.48785526,  0.79593492],\n",
       "        [-0.80638981, -0.99691677, -0.05242619],\n",
       "        [-0.93162233, -0.80410129, -0.99999756],\n",
       "        [ 0.89317495, -0.99991083, -0.9961037 ],\n",
       "        [ 0.95362508, -0.99999905,  0.97712684],\n",
       "        [-0.47405541, -0.99763513,  0.83024162],\n",
       "        [-0.80638981, -0.99691677, -0.05242619]])>,\n",
       " <tf.Tensor: shape=(10,), dtype=float64, numpy=\n",
       " array([-0.10049143,  1.32822022,  1.53177738,  1.46559252,  0.68414693,\n",
       "         1.36915073, -0.6339194 , -0.80702804,  1.65563216,  0.68414693])>,\n",
       " <tf.Tensor: shape=(10, 11), dtype=float64, numpy=\n",
       " array([[ 1.21370126e+00, -2.31502039e-01, -3.37826702e-02,\n",
       "         -3.84786028e-01,  2.46972617e-02, -1.11940555e+00,\n",
       "         -5.15718289e-01, -2.56243047e+00,  2.39525509e+00,\n",
       "         -8.09134137e+00,  2.84151063e+00],\n",
       "        [ 1.89575754e-01, -2.33924224e+00, -5.73943944e-01,\n",
       "         -2.60903692e+00,  6.68684089e-01,  3.00101381e-01,\n",
       "          5.53619443e-01, -2.99334889e+00, -2.42238804e+00,\n",
       "         -3.58766223e-02, -2.49552386e+00],\n",
       "        [ 2.35051717e-01, -2.50652292e+00, -5.65573225e-01,\n",
       "         -2.60124728e+00,  3.83362465e-01,  4.77348277e-01,\n",
       "         -4.51077335e-01,  1.10212639e+00, -1.11644602e-01,\n",
       "         -6.91668457e-01,  5.12184250e+00],\n",
       "        [ 2.43580692e-01, -2.50757230e+00, -5.31291259e-01,\n",
       "         -2.58798025e+00,  2.74393234e-01,  5.04181191e-01,\n",
       "         -1.11747430e-01, -1.08366350e-01, -1.81143939e+00,\n",
       "          2.10638562e-01,  3.61481178e+00],\n",
       "        [ 1.24219477e+00, -2.28173308e-02, -2.87322457e-03,\n",
       "         -4.40874702e-02, -5.70431844e-03, -4.00285004e-01,\n",
       "         -3.00111999e-01, -2.65141478e+00, -1.06266613e+00,\n",
       "         -3.76742557e+00,  1.36075432e-01],\n",
       "        [ 1.83124279e-01, -2.30900469e+00, -4.59227676e-01,\n",
       "         -2.62470229e+00,  8.18772555e-01,  4.20013550e-01,\n",
       "         -4.63568786e-01,  2.88167386e+00,  7.66862783e-01,\n",
       "          1.39488780e-01,  1.74175248e+00],\n",
       "        [ 1.19640924e+00, -3.12695526e-01,  3.04775311e-02,\n",
       "         -6.18706332e-01,  7.66887592e-02, -1.76446697e+00,\n",
       "         -9.91308979e-01, -6.11611380e+00,  7.23104849e-01,\n",
       "         -1.00000000e+01,  9.40342036e-01],\n",
       "        [ 1.18681971e+00, -3.66673461e-01,  3.27144750e-02,\n",
       "         -7.11836529e-01,  9.01008714e-02, -1.83155019e+00,\n",
       "         -1.41431987e+00, -7.28448959e+00, -6.65663019e-02,\n",
       "         -1.00000000e+01,  2.39292517e+00],\n",
       "        [ 1.99695324e-01, -2.39747132e+00, -2.50132738e-01,\n",
       "         -2.57852683e+00,  4.23284380e-03,  7.39365513e-01,\n",
       "          8.52675278e-01, -8.16542384e-01, -2.83525269e+00,\n",
       "          1.85382627e-01, -9.87069150e-01],\n",
       "        [ 1.24219477e+00, -2.28173308e-02, -2.87322457e-03,\n",
       "         -4.40874702e-02, -5.70431844e-03, -4.00285004e-01,\n",
       "         -3.00111999e-01, -2.65141478e+00, -1.06266613e+00,\n",
       "         -3.76742557e+00,  1.36075432e-01]])>,\n",
       " <tf.Tensor: shape=(10,), dtype=float64, numpy=array([1., 1., 1., 1., 0., 1., 1., 1., 1., 0.])>)"
      ]
     },
     "execution_count": 23,
     "metadata": {},
     "output_type": "execute_result"
    }
   ],
   "source": [
    "buffer1.sample()"
   ]
  },
  {
   "cell_type": "markdown",
   "id": "2956d47d",
   "metadata": {},
   "source": [
    "### Soft Actor Critic"
   ]
  },
  {
   "cell_type": "code",
   "execution_count": 38,
   "id": "7377d1bf",
   "metadata": {},
   "outputs": [],
   "source": [
    "class SAC:\n",
    "    \n",
    "    def __init__(self, env, observation_dimensions, action_dimensions, action_bound, buffer_capacity,\n",
    "                 minibatch_size=256, gamma=0.99, tau=0.95, lr=3e-4):\n",
    "        \n",
    "        self.env = env\n",
    "        tf.debugging.enable_check_numerics()\n",
    "        self.a = Actor(action_dimensions, action_bound)\n",
    "        self.c_gen = Critic_Wrapper(observation_dimensions, action_dimensions)\n",
    "        self.c1 = self.c_gen.get_critic()\n",
    "        self.c2 = self.c_gen.get_critic()\n",
    "        self.tc1 = self.c_gen.get_critic()\n",
    "        self.tc2 = self.c_gen.get_critic()\n",
    "        \n",
    "        self.tc1.set_weights(self.c1.get_weights())\n",
    "        self.tc2.set_weights(self.c2.get_weights())\n",
    "\n",
    "        self.te = -np.prod(action_dimensions)\n",
    "        self.alpha = tf.Variable(0.0, dtype=tf.float32)\n",
    "        \n",
    "        self.a_opt = tf.keras.optimizers.Adam(learning_rate=lr)\n",
    "        self.c1_opt = tf.keras.optimizers.Adam(learning_rate=lr)\n",
    "        self.c2_opt = tf.keras.optimizers.Adam(learning_rate=lr)                                                  \n",
    "        self.alpha_opt = tf.keras.optimizers.Adam(learning_rate=lr)   \n",
    "        \n",
    "        self.buffer = Buffer(observation_dimensions, action_dimensions, buffer_capacity, minibatch_size)\n",
    "        \n",
    "        self.gamma, self.tau = gamma, tau\n",
    "        \n",
    "    def train(self, max_env_step):\n",
    "        t = 0\n",
    "        a_losses = []\n",
    "        c1_losses = []\n",
    "        c2_losses = []\n",
    "        alpha_losses = []\n",
    "        while t < max_env_step:\n",
    "            p_s = self.env.reset()\n",
    "\n",
    "            while True:\n",
    "                a, log_a = self.a(tf.expand_dims(p_s, 0))\n",
    "                a=a[0]\n",
    "                s, r, d, _ = self.env.step(a)\n",
    "                end = 0 if d else 1\n",
    "                \n",
    "                self.buffer.record((p_s, a, r, s, end))\n",
    "                data = self.buffer.sample()\n",
    "                \n",
    "                a_loss, c1_loss, c2_loss, alpha_loss = self.update(data)\n",
    "                \n",
    "                a_losses.append(a_loss.numpy())\n",
    "                c1_losses.append(c1_loss.numpy())\n",
    "                c2_losses.append(c2_loss.numpy())\n",
    "                alpha_losses.append(alpha_loss.numpy())\n",
    "                \n",
    "                t = t+1\n",
    "                \n",
    "                if d:\n",
    "                    break\n",
    "                p_s = s\n",
    "                \n",
    "        print(\"Per {:04d} Steps\".format(max_env_step), \"Policy Avg. Loss: \", np.mean(a_losses), \n",
    "              \", Critic 1 Avg. Loss: \",  np.mean(c1_losses), \n",
    "              \", Critic 2 Avg. Loss: \",  np.mean(c2_losses), \n",
    "              \", Alpha 1 Avg. Loss: \",  np.mean(alpha_losses), flush=True)\n",
    "\n",
    "\n",
    "    @tf.function\n",
    "    def update(self, data):\n",
    "        s_b, a_b, r_b, ns_b, d_b = data\n",
    "        with tf.GradientTape() as tape_c1, tf.GradientTape() as tape_c2:\n",
    "            q1 = self.c1([s_b, a_b])\n",
    "            q2 = self.c2([s_b, a_b])\n",
    "            na, nlog_a = self.a(ns_b, training=True)\n",
    "            \n",
    "            tq1 = self.tc1([ns_b, na])\n",
    "            tq2 = self.tc2([ns_b, na])\n",
    "            \n",
    "            min_qt = tf.math.minimum(tq1,tq2)\n",
    "            \n",
    "            soft_qt = min_qt - (self.alpha*nlog_a)\n",
    "            \n",
    "            y = tf.stop_gradient(r_b+self.gamma*d_b*tf.cast(soft_qt, dtype=tf.float64))\n",
    "            \n",
    "            L_c1 = 0.5*tf.reduce_mean((y-tf.cast(q1, dtype=tf.float64))**2)\n",
    "            L_c2 = 0.5*tf.reduce_mean((y-tf.cast(q2, dtype=tf.float64))**2)\n",
    "        c1_grad = tape_c1.gradient(L_c1, self.c1.trainable_variables)\n",
    "        c2_grad = tape_c2.gradient(L_c2, self.c2.trainable_variables)\n",
    "        \n",
    "        self.c1_opt.apply_gradients(zip(c1_grad, self.c1.trainable_variables))\n",
    "        self.c2_opt.apply_gradients(zip(c2_grad, self.c2.trainable_variables))\n",
    "        \n",
    "        for (tc1w, c1w) in zip(self.tc1.variables, self.c1.variables):\n",
    "            tc1w.assign(tc1w*self.tau + c1w*(1.0-self.tau))\n",
    "        for (tc2w, c2w) in zip(self.tc2.variables, self.c2.variables):\n",
    "            tc2w.assign(tc2w*self.tau + c2w*(1.0-self.tau))\n",
    "            \n",
    "        with tf.GradientTape() as tape_a, tf.GradientTape() as tape_alpha:\n",
    "            a, log_a = self.a(s_b, training=True)\n",
    "            qa1 = self.c1([s_b, a])\n",
    "            qa2 = self.c2([s_b, a])\n",
    "            \n",
    "            soft_qa = tf.math.minimum(qa1,qa2)\n",
    "\n",
    "            L_a = -tf.reduce_mean(soft_qa-self.alpha*log_a)\n",
    "            L_alpha = -tf.reduce_mean(self.alpha*tf.stop_gradient(log_a + self.te))\n",
    "        grad_a = tape_a.gradient(L_a, self.a.trainable_variables)\n",
    "        grad_alpha = tape_alpha.gradient(L_alpha, [self.alpha])\n",
    "        self.a_opt.apply_gradients(zip(grad_a, self.a.trainable_variables))\n",
    "        self.alpha_opt.apply_gradients(zip(grad_alpha, [self.alpha]))\n",
    "        \n",
    "        return L_a, L_c1, L_c2, L_alpha\n",
    "    \n",
    "    def save_weights(self, dir_path):\n",
    "        cp = tf.train.Checkpoint(step=self.alpha)\n",
    "        self.a.save_weights(dir_path+\"/a.ckpt\")\n",
    "        print(\"Saved actor weights\", flush=True)\n",
    "        self.c1.save_weights(dir_path+\"/c1.ckpt\")\n",
    "        print(\"Saved critic 1 weights\", flush=True)\n",
    "        self.c2.save_weights(dir_path+\"/c2.ckpt\")\n",
    "        print(\"Saved critic 2 weights\", flush=True)\n",
    "        cp.save(dir_path+\"/alpha\")\n",
    "        print(\"Saved alpha weights\", flush=True)\n",
    "\n",
    "    def load_weights(self, dir_path):\n",
    "        try:\n",
    "            cp = tf.train.Checkpoint(step=self.alpha)\n",
    "            self.a.load_weights(dir_path+\"/a.ckpt\")\n",
    "            print(\"Loaded actor weights\", flush=True)\n",
    "            self.c1.load_weights(dir_path+\"/c1.ckpt\")\n",
    "            print(\"Loaded critic 1 weights\", flush=True)\n",
    "            self.c2.load_weights(dir_path+\"/c2.ckpt\")\n",
    "            print(\"Loaded critic 2 weights\", flush=True)\n",
    "            cp.restore(dir_path+\"/alpha-1\")\n",
    "            print(\"Loaded alpha weights\", flush=True)\n",
    "            self.tc1.set_weights(self.c1.get_weights())\n",
    "            self.tc2.set_weights(self.c2.get_weights())\n",
    "\n",
    "        except ValueError:\n",
    "            print(\"ERROR: Please make sure weights are saved as .ckpt\", flush=True)\n",
    "            \n",
    "    def eval_rollout(self, problem, rbs=False, render=False):\n",
    "        eps_r = 0\n",
    "        \n",
    "        if rbs:\n",
    "            domain, task, controller = problem\n",
    "            eval_env = Robosuite_Wrapper(domain, task, controller, render)\n",
    "        else:\n",
    "            eval_env = gym.make(problem)\n",
    "            \n",
    "        eval_obs = eval_env.reset()\n",
    "\n",
    "        while True:\n",
    "            if render:\n",
    "                eval_env.render()\n",
    "\n",
    "            tf_eval_obs = tf.expand_dims(tf.convert_to_tensor(eval_obs), 0)\n",
    "\n",
    "            eval_a, eval_log_a = self.a(tf_eval_obs, eval_mode=True)\n",
    "\n",
    "            eval_a = eval_a[0]\n",
    "\n",
    "            eval_obs_new, eval_r, eval_d, _ = eval_env.step(eval_a)\n",
    "\n",
    "            eps_r += eval_r\n",
    "\n",
    "            if eval_d:\n",
    "                break\n",
    "                \n",
    "            eval_obs = eval_obs_new\n",
    "        \n",
    "        if render:\n",
    "            if not rbs:\n",
    "                glfw.destroy_window(eval_env.viewer.window)\n",
    "\n",
    "        eval_env.close()\n",
    "        print(\"rollout episodic reward: \", eps_r, flush=True)\n",
    "        \n",
    "        return eps_r\n"
   ]
  },
  {
   "cell_type": "code",
   "execution_count": 39,
   "id": "75bddba9",
   "metadata": {},
   "outputs": [
    {
     "name": "stdout",
     "output_type": "stream",
     "text": [
      "INFO:tensorflow:Enabled check-numerics callback in thread MainThread\n"
     ]
    }
   ],
   "source": [
    "sac1 = SAC(env, num_states, num_actions, upper_bound, 1000000)"
   ]
  },
  {
   "cell_type": "code",
   "execution_count": 40,
   "id": "0ba42cdb",
   "metadata": {
    "scrolled": false
   },
   "outputs": [
    {
     "name": "stdout",
     "output_type": "stream",
     "text": [
      "Per 1000 Steps Policy Avg. Loss:  -11.305841 , Critic 1 Avg. Loss:  2.204413843825311 , Critic 2 Avg. Loss:  2.323269229063349 , Alpha 1 Avg. Loss:  -0.31867275\n"
     ]
    }
   ],
   "source": [
    "sac1.train(1000)"
   ]
  },
  {
   "cell_type": "code",
   "execution_count": 41,
   "id": "94e70621",
   "metadata": {},
   "outputs": [
    {
     "name": "stdout",
     "output_type": "stream",
     "text": [
      "Saved actor weights\n",
      "Saved critic 1 weights\n",
      "Saved critic 2 weights\n",
      "Saved alpha weights\n"
     ]
    }
   ],
   "source": [
    "sac1.save_weights(\"/home/tony/rl_models/MA2C/sac/devel/weights\")"
   ]
  },
  {
   "cell_type": "code",
   "execution_count": 42,
   "id": "d26664a4",
   "metadata": {},
   "outputs": [
    {
     "name": "stdout",
     "output_type": "stream",
     "text": [
      "<tf.Variable 'Variable:0' shape=() dtype=float32, numpy=0.12317008>\n"
     ]
    }
   ],
   "source": [
    "print(sac1.alpha)"
   ]
  },
  {
   "cell_type": "code",
   "execution_count": 43,
   "id": "909c1747",
   "metadata": {},
   "outputs": [
    {
     "name": "stdout",
     "output_type": "stream",
     "text": [
      "INFO:tensorflow:Enabled check-numerics callback in thread MainThread\n"
     ]
    }
   ],
   "source": [
    "sac2 = SAC(env, num_states, num_actions, upper_bound, 1000000)"
   ]
  },
  {
   "cell_type": "code",
   "execution_count": 44,
   "id": "9ba100f9",
   "metadata": {},
   "outputs": [
    {
     "name": "stdout",
     "output_type": "stream",
     "text": [
      "Loaded actor weights\n",
      "Loaded critic 1 weights\n",
      "Loaded critic 2 weights\n",
      "Loaded alpha weights\n"
     ]
    }
   ],
   "source": [
    "sac2.load_weights(\"/home/tony/rl_models/MA2C/sac/devel/weights\")"
   ]
  },
  {
   "cell_type": "code",
   "execution_count": 45,
   "id": "97bceeb9",
   "metadata": {},
   "outputs": [
    {
     "data": {
      "text/plain": [
       "<tf.Variable 'Variable:0' shape=() dtype=float32, numpy=0.12317008>"
      ]
     },
     "execution_count": 45,
     "metadata": {},
     "output_type": "execute_result"
    }
   ],
   "source": [
    "sac2.alpha"
   ]
  },
  {
   "cell_type": "code",
   "execution_count": 32,
   "id": "17c45be9",
   "metadata": {},
   "outputs": [
    {
     "name": "stdout",
     "output_type": "stream",
     "text": [
      "Per 0500 Steps Policy Avg. Loss:  -10.627731 , Critic 1 Avg. Loss:  5.961140287805368 , Critic 2 Avg. Loss:  4.4566712474632535 , Alpha 1 Avg. Loss:  0.00820907\n"
     ]
    }
   ],
   "source": [
    "sac2.train(500)"
   ]
  },
  {
   "cell_type": "code",
   "execution_count": 33,
   "id": "98f816b1",
   "metadata": {},
   "outputs": [
    {
     "name": "stdout",
     "output_type": "stream",
     "text": [
      "rollout episodic reward:  2.9068387334922288\n"
     ]
    },
    {
     "data": {
      "text/plain": [
       "2.9068387334922288"
      ]
     },
     "execution_count": 33,
     "metadata": {},
     "output_type": "execute_result"
    }
   ],
   "source": [
    "sac2.eval_rollout(problem)"
   ]
  },
  {
   "cell_type": "markdown",
   "id": "de8a8749",
   "metadata": {},
   "source": [
    "### Robosuite Adapter"
   ]
  },
  {
   "cell_type": "code",
   "execution_count": 35,
   "id": "e185df41",
   "metadata": {},
   "outputs": [],
   "source": [
    "import numpy as np\n",
    "import robosuite as suite\n",
    "from gym import spaces\n",
    "from robosuite import load_controller_config"
   ]
  },
  {
   "cell_type": "code",
   "execution_count": 36,
   "id": "7f2c0a8c",
   "metadata": {},
   "outputs": [],
   "source": [
    "class Robosuite_Wrapper():\n",
    "\n",
    "    def __init__(self, domain, task, controller, render=False):\n",
    "        self.config = load_controller_config(default_controller=controller)\n",
    "        self.env = suite.make(env_name=task, # try with other tasks like \"Stack\" and \"Door\"\n",
    "                            robots=domain,  # try with other robots like \"Sawyer\" and \"Jaco\"\n",
    "                            controller_configs=self.config,\n",
    "                            has_renderer=render,\n",
    "                            ignore_done=False,\n",
    "                            has_offscreen_renderer=False,\n",
    "                            use_camera_obs=False,\n",
    "                            reward_shaping=True,\n",
    "                            )\n",
    "        self.obs_keys = [key for key, value in self.env.observation_spec().items()]\n",
    "        \n",
    "        obs_dim = []\n",
    "        \n",
    "        for x in self.obs_keys:\n",
    "            if x == 'hinge_qpos' or x == 'handle_qpos':\n",
    "                obs_dim.append(1)\n",
    "            else:\n",
    "                obs_dim.append(self.env.observation_spec()[x].shape[0])\n",
    "                \n",
    "        self.s_dim = int(np.sum(obs_dim,dtype=np.int32))\n",
    "        self.a_dim = self.env.action_dim\n",
    "        self.a_ub = self.env.action_spec[1][0]\n",
    "        self.a_lb = self.env.action_spec[0][0]\n",
    "        \n",
    "    def env_specs(self):\n",
    "        return self.s_dim, self.a_dim, self.a_ub, self.a_lb\n",
    "    \n",
    "    def step(self, a):\n",
    "        s, r, d, i = self.env.step(a)\n",
    "\n",
    "        s = np.concatenate([s[x] for x in self.obs_keys], axis = None)\n",
    "\n",
    "        return s, r, d, i\n",
    "    \n",
    "    def reset(self):\n",
    "        s = self.env.reset()\n",
    "        \n",
    "        s = np.concatenate([s[x] for x in self.obs_keys], axis = None)\n",
    "        \n",
    "        return s\n",
    "    \n",
    "    def render(self):\n",
    "        self.env.render()\n",
    "    \n",
    "    def close(self):\n",
    "        self.env.close()\n",
    "        "
   ]
  },
  {
   "cell_type": "code",
   "execution_count": 37,
   "id": "bdec9614",
   "metadata": {},
   "outputs": [
    {
     "name": "stdout",
     "output_type": "stream",
     "text": [
      "Creating window glfw\n"
     ]
    },
    {
     "name": "stderr",
     "output_type": "stream",
     "text": [
      "/home/tony/miniconda3/envs/rl_models/lib/python3.8/site-packages/numba/np/arraymath.py:3845: DeprecationWarning: `np.MachAr` is deprecated (NumPy 1.22).\n",
      "  @overload(np.MachAr)\n"
     ]
    }
   ],
   "source": [
    "rbs_env = Robosuite_Wrapper(\"Sawyer\", \"Door\", \"JOINT_VELOCITY\", True)"
   ]
  },
  {
   "cell_type": "code",
   "execution_count": 38,
   "id": "f6a8fff2",
   "metadata": {},
   "outputs": [
    {
     "data": {
      "text/plain": [
       "(92, 8, 1.0, -1.0)"
      ]
     },
     "execution_count": 38,
     "metadata": {},
     "output_type": "execute_result"
    }
   ],
   "source": [
    "rbs_env.env_specs()"
   ]
  },
  {
   "cell_type": "code",
   "execution_count": 39,
   "id": "f1e92d5a",
   "metadata": {},
   "outputs": [
    {
     "data": {
      "text/plain": [
       "(array([ 9.99942609e-01,  3.74334537e-01,  9.99672001e-01, -5.57340643e-01,\n",
       "         9.98845567e-01,  8.36790461e-01, -9.26542966e-03, -1.07134734e-02,\n",
       "        -9.27293726e-01, -2.56103524e-02,  8.30283932e-01, -4.80367958e-02,\n",
       "         5.47523264e-01, -9.99957075e-01,  2.41115402e-02,  5.10183094e-02,\n",
       "         3.14640923e-02,  4.34014696e-02,  2.07159479e-02,  1.26095977e-02,\n",
       "         2.57603885e-02, -1.05494183e-01,  1.38008635e-01,  1.02279206e+00,\n",
       "         9.95321889e-01,  9.45303762e-02,  6.30356712e-03,  1.89370250e-02,\n",
       "         2.07728249e-02, -2.07695979e-02, -3.00875605e-02,  3.17010574e-02,\n",
       "        -2.00798007e-01, -3.54255872e-01,  1.10000000e+00, -1.50693271e-01,\n",
       "        -2.54308309e-01,  1.07500000e+00, -9.53038239e-02, -4.92264508e-01,\n",
       "         7.72079444e-02, -4.51990886e-02, -3.92316944e-01,  5.22079444e-02,\n",
       "         2.14833941e-12, -3.95547419e-07,  9.99942609e-01,  3.74334537e-01,\n",
       "         9.99672001e-01, -5.57340643e-01,  9.98845567e-01,  8.36790461e-01,\n",
       "        -9.26542966e-03, -1.07134734e-02, -9.27293726e-01, -2.56103524e-02,\n",
       "         8.30283932e-01, -4.80367958e-02,  5.47523264e-01, -9.99957075e-01,\n",
       "         2.41115402e-02,  5.10183094e-02,  3.14640923e-02,  4.34014696e-02,\n",
       "         2.07159479e-02,  1.26095977e-02,  2.57603885e-02, -1.05494183e-01,\n",
       "         1.38008635e-01,  1.02279206e+00,  9.95321889e-01,  9.45303762e-02,\n",
       "         6.30356712e-03,  1.89370250e-02,  2.07728249e-02, -2.07695979e-02,\n",
       "        -3.00875605e-02,  3.17010574e-02, -2.00798007e-01, -3.54255872e-01,\n",
       "         1.10000000e+00, -1.50693271e-01, -2.54308309e-01,  1.07500000e+00,\n",
       "        -9.53038239e-02, -4.92264508e-01,  7.72079444e-02, -4.51990886e-02,\n",
       "        -3.92316944e-01,  5.22079444e-02,  2.14833941e-12, -3.95547419e-07]),\n",
       " 0.00013793487248675852,\n",
       " False,\n",
       " {})"
      ]
     },
     "execution_count": 39,
     "metadata": {},
     "output_type": "execute_result"
    }
   ],
   "source": [
    "rbs_env.step(np.ones(8))"
   ]
  },
  {
   "cell_type": "code",
   "execution_count": 40,
   "id": "9951f035",
   "metadata": {},
   "outputs": [],
   "source": [
    "rbs_env.render()"
   ]
  },
  {
   "cell_type": "code",
   "execution_count": null,
   "id": "6ac7d66e",
   "metadata": {},
   "outputs": [],
   "source": []
  }
 ],
 "metadata": {
  "kernelspec": {
   "display_name": "Python 3 (ipykernel)",
   "language": "python",
   "name": "python3"
  },
  "language_info": {
   "codemirror_mode": {
    "name": "ipython",
    "version": 3
   },
   "file_extension": ".py",
   "mimetype": "text/x-python",
   "name": "python",
   "nbconvert_exporter": "python",
   "pygments_lexer": "ipython3",
   "version": "3.8.13"
  }
 },
 "nbformat": 4,
 "nbformat_minor": 5
}
