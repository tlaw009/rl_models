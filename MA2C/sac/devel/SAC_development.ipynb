{
 "cells": [
  {
   "cell_type": "code",
   "execution_count": 1,
   "id": "5dc7ff4d",
   "metadata": {},
   "outputs": [
    {
     "name": "stderr",
     "output_type": "stream",
     "text": [
      "/Users/anthonylaw/anaconda3/envs/rl_models/lib/python3.7/site-packages/pandas/compat/numpy/__init__.py:10: DeprecationWarning: distutils Version classes are deprecated. Use packaging.version instead.\n",
      "  _nlv = LooseVersion(_np_version)\n",
      "/Users/anthonylaw/anaconda3/envs/rl_models/lib/python3.7/site-packages/setuptools/_distutils/version.py:351: DeprecationWarning: distutils Version classes are deprecated. Use packaging.version instead.\n",
      "  other = LooseVersion(other)\n",
      "/Users/anthonylaw/anaconda3/envs/rl_models/lib/python3.7/site-packages/pandas/compat/numpy/function.py:120: DeprecationWarning: distutils Version classes are deprecated. Use packaging.version instead.\n",
      "  if LooseVersion(__version__) >= LooseVersion(\"1.17.0\"):\n",
      "/Users/anthonylaw/anaconda3/envs/rl_models/lib/python3.7/site-packages/matplotlib/__init__.py:202: DeprecationWarning: distutils Version classes are deprecated. Use packaging.version instead.\n",
      "  if LooseVersion(module.__version__) < minver:\n",
      "/Users/anthonylaw/anaconda3/envs/rl_models/lib/python3.7/site-packages/setuptools/_distutils/version.py:351: DeprecationWarning: distutils Version classes are deprecated. Use packaging.version instead.\n",
      "  other = LooseVersion(other)\n",
      "/Users/anthonylaw/anaconda3/envs/rl_models/lib/python3.7/site-packages/matplotlib/backend_bases.py:59: DeprecationWarning: distutils Version classes are deprecated. Use packaging.version instead.\n",
      "  if LooseVersion(PILLOW_VERSION) >= \"3.4\":\n",
      "/Users/anthonylaw/anaconda3/envs/rl_models/lib/python3.7/site-packages/setuptools/_distutils/version.py:351: DeprecationWarning: distutils Version classes are deprecated. Use packaging.version instead.\n",
      "  other = LooseVersion(other)\n",
      "/Users/anthonylaw/anaconda3/envs/rl_models/lib/python3.7/site-packages/tensorflow_probability/python/__init__.py:57: DeprecationWarning: distutils Version classes are deprecated. Use packaging.version instead.\n",
      "  if (distutils.version.LooseVersion(tf.__version__) <\n"
     ]
    }
   ],
   "source": [
    "import gym\n",
    "import tensorflow as tf\n",
    "from tensorflow.keras import layers\n",
    "from tensorflow.keras import Model\n",
    "import numpy as np\n",
    "import matplotlib.pyplot as plt\n",
    "import os\n",
    "import json\n",
    "import random\n",
    "import tensorflow_probability as tfp\n",
    "from tensorflow.keras import regularizers"
   ]
  },
  {
   "cell_type": "markdown",
   "id": "4c8cca3c",
   "metadata": {},
   "source": [
    "### Env Setup"
   ]
  },
  {
   "cell_type": "code",
   "execution_count": 2,
   "id": "7e91a9ba",
   "metadata": {},
   "outputs": [
    {
     "name": "stderr",
     "output_type": "stream",
     "text": [
      "/Users/anthonylaw/anaconda3/envs/rl_models/lib/python3.7/site-packages/ipykernel/ipkernel.py:283: DeprecationWarning: `should_run_async` will not call `transform_cell` automatically in the future. Please pass the result to `transformed_cell` argument and any exception that happen during thetransform in `preprocessing_exc_tuple` in IPython 7.17 and above.\n",
      "  and should_run_async(code)\n"
     ]
    }
   ],
   "source": [
    "problem = \"Hopper-v3\"\n",
    "env = gym.make(problem)\n",
    "\n",
    "num_states = env.observation_space.shape[0]\n",
    "num_actions = env.action_space.shape[0]\n",
    "upper_bound = env.action_space.high[0]\n",
    "lower_bound = env.action_space.low[0]"
   ]
  },
  {
   "cell_type": "markdown",
   "id": "eeafe2ab",
   "metadata": {},
   "source": [
    "### Actor Model"
   ]
  },
  {
   "cell_type": "markdown",
   "id": "be9aeb90",
   "metadata": {},
   "source": [
    "#### Note:"
   ]
  },
  {
   "cell_type": "markdown",
   "id": "279be0e3",
   "metadata": {},
   "source": [
    "Same as PPO actor. Gaussian policy"
   ]
  },
  {
   "cell_type": "code",
   "execution_count": 3,
   "id": "e15e7f5f",
   "metadata": {},
   "outputs": [],
   "source": [
    "EPSILON = 1e-10\n",
    "\n",
    "class Actor(Model):\n",
    "\n",
    "    def __init__(self, action_dimensions, action_bound):\n",
    "        super().__init__()\n",
    "        self.action_dim, self.upper_bound = action_dimensions, action_bound\n",
    "        self.sample_dist = tfp.distributions.MultivariateNormalDiag(loc=tf.zeros(self.action_dim),\n",
    "                                                                    scale_diag=tf.ones(self.action_dim))\n",
    "        self.dense1_layer = layers.Dense(64, activation=\"relu\")\n",
    "        self.dense2_layer = layers.Dense(64, activation=\"relu\")\n",
    "        self.mean_layer = layers.Dense(self.action_dim)\n",
    "        self.stdev_layer = layers.Dense(self.action_dim)\n",
    "\n",
    "    def call(self, state, eval_mode=False):\n",
    "\n",
    "        a1 = self.dense1_layer(state)\n",
    "        a2 = self.dense2_layer(a1)\n",
    "        mu = self.mean_layer(a2)\n",
    "\n",
    "        log_sigma = self.stdev_layer(a2)\n",
    "        sigma = tf.exp(log_sigma)\n",
    "        sigma = tf.clip_by_value(sigma, EPSILON, 2.718)\n",
    "\n",
    "        dist = tfp.distributions.MultivariateNormalDiag(loc=mu, scale_diag=sigma)\n",
    "        \n",
    "        if eval_mode:\n",
    "            action_ = mu\n",
    "        else:\n",
    "            action_ = tf.math.add(mu, tf.math.multiply(sigma, tf.expand_dims(self.sample_dist.sample(), 0)))\n",
    " \n",
    "        action = tf.tanh(action_)\n",
    "\n",
    "        log_pi_ = dist.log_prob(action_)     \n",
    "        log_pi = log_pi_ - tf.reduce_sum(tf.math.log(tf.clip_by_value(1 - action**2, EPSILON, 1.0)), axis=1)\n",
    "        \n",
    "        return action*self.upper_bound, log_pi, dist.entropy()\n"
   ]
  },
  {
   "cell_type": "code",
   "execution_count": 4,
   "id": "6d3f74b8",
   "metadata": {},
   "outputs": [],
   "source": [
    "actor_test = Actor(num_actions, upper_bound)"
   ]
  },
  {
   "cell_type": "code",
   "execution_count": 5,
   "id": "2d7cab68",
   "metadata": {},
   "outputs": [
    {
     "name": "stdout",
     "output_type": "stream",
     "text": [
      "(1, 3) (1,) (1,)\n"
     ]
    }
   ],
   "source": [
    "obs = env.reset()\n",
    "obs\n",
    "tf_obs = tf.expand_dims(obs, 0)\n",
    "tf_obs\n",
    "a_test, log_a_test, h_a_test = actor_test(tf_obs)\n",
    "print(a_test.shape, log_a_test.shape, h_a_test.shape)"
   ]
  },
  {
   "cell_type": "code",
   "execution_count": 6,
   "id": "116539f7",
   "metadata": {},
   "outputs": [
    {
     "name": "stdout",
     "output_type": "stream",
     "text": [
      "Model: \"actor\"\n",
      "_________________________________________________________________\n",
      " Layer (type)                Output Shape              Param #   \n",
      "=================================================================\n",
      " dense (Dense)               multiple                  768       \n",
      "                                                                 \n",
      " dense_1 (Dense)             multiple                  4160      \n",
      "                                                                 \n",
      " dense_2 (Dense)             multiple                  195       \n",
      "                                                                 \n",
      " dense_3 (Dense)             multiple                  195       \n",
      "                                                                 \n",
      "=================================================================\n",
      "Total params: 5,318\n",
      "Trainable params: 5,318\n",
      "Non-trainable params: 0\n",
      "_________________________________________________________________\n"
     ]
    }
   ],
   "source": [
    "actor_test.summary()"
   ]
  },
  {
   "cell_type": "markdown",
   "id": "e09fae85",
   "metadata": {},
   "source": [
    "### Critic Wrapper"
   ]
  },
  {
   "cell_type": "markdown",
   "id": "a403d18b",
   "metadata": {},
   "source": [
    "#### Note:"
   ]
  },
  {
   "cell_type": "markdown",
   "id": "b347d502",
   "metadata": {},
   "source": [
    "Different from PPO, critic evaluate state-action pairs."
   ]
  },
  {
   "cell_type": "code",
   "execution_count": 27,
   "id": "7d5f39f2",
   "metadata": {},
   "outputs": [],
   "source": [
    "class Critic_Wrapper():\n",
    "    def __init__(self, state_dim, action_dim):\n",
    "        self.s_dim=state_dim\n",
    "        self.a_dim=action_dim\n",
    "        \n",
    "    def get_critic(self):\n",
    "        # State as input\n",
    "        state_input = layers.Input(shape=(self.s_dim))\n",
    "        state_out = layers.Dense(32, activation=\"relu\")(state_input)\n",
    "\n",
    "        # Action as input\n",
    "        action_input = layers.Input(shape=(self.a_dim))\n",
    "        action_out = layers.Dense(32, activation=\"relu\")(action_input)\n",
    "\n",
    "        # Concatenating\n",
    "        concat = layers.Concatenate()([state_out, action_out])\n",
    "        out = layers.Dense(64, activation=\"relu\")(concat)\n",
    "        outputs = tf.squeeze(layers.Dense(1)(out))\n",
    "\n",
    "        # Outputs single value for give state-action\n",
    "        model = tf.keras.Model([state_input, action_input], outputs)\n",
    "\n",
    "        return model"
   ]
  },
  {
   "cell_type": "code",
   "execution_count": 28,
   "id": "4dadd49c",
   "metadata": {},
   "outputs": [],
   "source": [
    "critic_gen = Critic_Wrapper(num_states, num_actions)\n",
    "critic_test = critic_gen.get_critic()"
   ]
  },
  {
   "cell_type": "code",
   "execution_count": 29,
   "id": "65aced4e",
   "metadata": {},
   "outputs": [
    {
     "data": {
      "text/plain": [
       "array([ 1.25253867e+00, -4.92599989e-03, -3.53270510e-03,  1.57248767e-03,\n",
       "        4.03869469e-03,  3.76607568e-03, -2.81583066e-03, -4.27397296e-03,\n",
       "        1.91855328e-03,  3.50469503e-03,  1.10798166e-04])"
      ]
     },
     "execution_count": 29,
     "metadata": {},
     "output_type": "execute_result"
    }
   ],
   "source": [
    "obs = env.reset()\n",
    "obs"
   ]
  },
  {
   "cell_type": "code",
   "execution_count": 30,
   "id": "3c101830",
   "metadata": {},
   "outputs": [
    {
     "data": {
      "text/plain": [
       "<tf.Tensor: shape=(1, 11), dtype=float64, numpy=\n",
       "array([[ 1.25253867e+00, -4.92599989e-03, -3.53270510e-03,\n",
       "         1.57248767e-03,  4.03869469e-03,  3.76607568e-03,\n",
       "        -2.81583066e-03, -4.27397296e-03,  1.91855328e-03,\n",
       "         3.50469503e-03,  1.10798166e-04]])>"
      ]
     },
     "execution_count": 30,
     "metadata": {},
     "output_type": "execute_result"
    }
   ],
   "source": [
    "tf_obs = tf.expand_dims(obs, 0)\n",
    "a_test, log_a_test, h_a_test = actor_test(tf_obs)\n",
    "tf_obs"
   ]
  },
  {
   "cell_type": "code",
   "execution_count": 34,
   "id": "aa334304",
   "metadata": {},
   "outputs": [
    {
     "data": {
      "text/plain": [
       "<tf.Tensor: shape=(), dtype=float32, numpy=-0.3223806>"
      ]
     },
     "execution_count": 34,
     "metadata": {},
     "output_type": "execute_result"
    }
   ],
   "source": [
    "v_test = critic_test([tf_obs, a_test])\n",
    "v_test"
   ]
  },
  {
   "cell_type": "code",
   "execution_count": 37,
   "id": "2a2cfe7f",
   "metadata": {},
   "outputs": [
    {
     "name": "stdout",
     "output_type": "stream",
     "text": [
      "(2, 11)\n"
     ]
    }
   ],
   "source": [
    "obs_new, _, _, _ = env.step(a_test[0])\n",
    "tf_obs_new = tf.expand_dims(obs_new, 0)\n",
    "statex2 = tf.convert_to_tensor([obs, obs_new])\n",
    "print(statex2.shape)"
   ]
  },
  {
   "cell_type": "code",
   "execution_count": 36,
   "id": "df584535",
   "metadata": {},
   "outputs": [
    {
     "name": "stdout",
     "output_type": "stream",
     "text": [
      "(2, 3) (2,) (2,)\n"
     ]
    }
   ],
   "source": [
    "a_2, loga_2, ha_2 = actor_test(statex2)\n",
    "\n",
    "print(a_2.shape, loga_2.shape, ha_2.shape)"
   ]
  },
  {
   "cell_type": "code",
   "execution_count": 39,
   "id": "f832ad2f",
   "metadata": {},
   "outputs": [
    {
     "name": "stdout",
     "output_type": "stream",
     "text": [
      "(2,)\n"
     ]
    }
   ],
   "source": [
    "v_2 = critic_test([statex2, a_2])\n",
    "print(v_2.shape)"
   ]
  },
  {
   "cell_type": "code",
   "execution_count": 40,
   "id": "eb6392ee",
   "metadata": {},
   "outputs": [
    {
     "name": "stdout",
     "output_type": "stream",
     "text": [
      "Model: \"model_5\"\n",
      "__________________________________________________________________________________________________\n",
      " Layer (type)                   Output Shape         Param #     Connected to                     \n",
      "==================================================================================================\n",
      " input_11 (InputLayer)          [(None, 11)]         0           []                               \n",
      "                                                                                                  \n",
      " input_12 (InputLayer)          [(None, 3)]          0           []                               \n",
      "                                                                                                  \n",
      " dense_28 (Dense)               (None, 32)           384         ['input_11[0][0]']               \n",
      "                                                                                                  \n",
      " dense_29 (Dense)               (None, 32)           128         ['input_12[0][0]']               \n",
      "                                                                                                  \n",
      " concatenate_5 (Concatenate)    (None, 64)           0           ['dense_28[0][0]',               \n",
      "                                                                  'dense_29[0][0]']               \n",
      "                                                                                                  \n",
      " dense_30 (Dense)               (None, 64)           4160        ['concatenate_5[0][0]']          \n",
      "                                                                                                  \n",
      " dense_31 (Dense)               (None, 1)            65          ['dense_30[0][0]']               \n",
      "                                                                                                  \n",
      " tf.compat.v1.squeeze (TFOpLamb  None                0           ['dense_31[0][0]']               \n",
      " da)                                                                                              \n",
      "                                                                                                  \n",
      "==================================================================================================\n",
      "Total params: 4,737\n",
      "Trainable params: 4,737\n",
      "Non-trainable params: 0\n",
      "__________________________________________________________________________________________________\n"
     ]
    }
   ],
   "source": [
    "critic_test.summary()"
   ]
  },
  {
   "cell_type": "markdown",
   "id": "45a3c971",
   "metadata": {},
   "source": [
    "### Replay Buffer"
   ]
  },
  {
   "cell_type": "code",
   "execution_count": 16,
   "id": "66ff1c11",
   "metadata": {},
   "outputs": [],
   "source": [
    "class Buffer:\n",
    "    def __init__(self, obs_dim, a_dim, buffer_capacity=100000, batch_size=256):\n",
    "        \n",
    "        self.obs_dim = obs_dim\n",
    "        self.a_dim = a_dim\n",
    "        self.buffer_capacity = buffer_capacity\n",
    "        self.batch_size = batch_size\n",
    "        self.buffer_counter = 0\n",
    "\n",
    "        self.state_buffer = np.zeros((self.buffer_capacity, self.obs_dim))\n",
    "        self.action_buffer = np.zeros((self.buffer_capacity, self.a_dim))\n",
    "        self.reward_buffer = np.zeros((self.buffer_capacity, 1))\n",
    "        self.next_state_buffer = np.zeros((self.buffer_capacity, self.obs_dim))\n",
    "        self.done_buffer = np.zeros((self.buffer_capacity, 1))\n",
    "\n",
    "    def record(self, obs_tuple):\n",
    "        index = self.buffer_counter % self.buffer_capacity\n",
    "\n",
    "        self.state_buffer[index] = obs_tuple[0]\n",
    "        self.action_buffer[index] = obs_tuple[1]\n",
    "        self.reward_buffer[index] = obs_tuple[2]\n",
    "        self.next_state_buffer[index] = obs_tuple[3]\n",
    "        self.done_buffer[index] = obs_tuple[4]\n",
    "        self.buffer_counter += 1\n",
    "        \n",
    "    def sample(self):\n",
    "        record_range = min(self.buffer_counter, self.buffer_capacity)\n",
    "        batch_indices = np.random.choice(record_range, self.batch_size)\n",
    "\n",
    "        state_batch = tf.convert_to_tensor(self.state_buffer[batch_indices])\n",
    "        action_batch = tf.convert_to_tensor(self.action_buffer[batch_indices])\n",
    "        reward_batch = tf.squeeze(tf.convert_to_tensor(self.reward_buffer[batch_indices]))\n",
    "        next_state_batch = tf.convert_to_tensor(self.next_state_buffer[batch_indices])\n",
    "        done_batch = tf.squeeze(tf.convert_to_tensor(self.done_buffer[batch_indices]))\n",
    "        \n",
    "        return (state_batch,\n",
    "               action_batch,\n",
    "               reward_batch,\n",
    "               next_state_batch,\n",
    "               done_batch)\n"
   ]
  },
  {
   "cell_type": "code",
   "execution_count": 17,
   "id": "9d040f7a",
   "metadata": {},
   "outputs": [],
   "source": [
    "buffer1 = Buffer(num_states, num_actions, 100, 10)"
   ]
  },
  {
   "cell_type": "code",
   "execution_count": 18,
   "id": "11879892",
   "metadata": {},
   "outputs": [],
   "source": [
    "prev_obs = env.reset()\n",
    "\n",
    "for i in range(buffer1.buffer_capacity):\n",
    "    a, _, _ = actor_test(tf.expand_dims(prev_obs, 0))\n",
    "    obs, r, d, _ = env.step(a[0])\n",
    "    \n",
    "    buffer1.record((prev_obs, a[0], r, obs, d))\n",
    "    \n",
    "    prev_obs = obs\n",
    "    "
   ]
  },
  {
   "cell_type": "code",
   "execution_count": 19,
   "id": "ac7dac19",
   "metadata": {},
   "outputs": [
    {
     "data": {
      "text/plain": [
       "(<tf.Tensor: shape=(10, 11), dtype=float64, numpy=\n",
       " array([[ 1.04179102e+00, -1.07418133e+00, -6.95978301e-01,\n",
       "          9.57524420e-05, -3.82127597e-01, -1.51648909e+00,\n",
       "         -1.38013366e+00, -4.21671507e+00, -3.03130110e+00,\n",
       "          5.76602765e-02, -1.55324893e+00],\n",
       "        [ 1.20553191e+00, -7.74735677e-02,  5.61179534e-04,\n",
       "          1.29514355e-02, -1.06950202e-01, -1.08236183e+00,\n",
       "         -1.39994738e-01, -2.79268109e+00, -2.33679404e+00,\n",
       "          2.01693559e-02,  4.75330127e-01],\n",
       "        [ 9.92321761e-01, -1.22949322e+00, -8.12135304e-01,\n",
       "          1.54451066e-03, -4.14168363e-01, -1.60080036e+00,\n",
       "         -1.57646019e+00, -5.17573675e+00, -3.81405616e+00,\n",
       "          1.37187263e-02, -6.46599813e-01],\n",
       "        [ 1.20398459e+00, -3.96854423e-01, -2.60864533e-01,\n",
       "          3.63089123e-03,  2.41754410e-02, -9.14625785e-01,\n",
       "         -1.89093401e-01, -3.32807481e+00, -3.03446926e+00,\n",
       "         -7.92573789e-02, -2.86001003e-01],\n",
       "        [ 1.03001391e+00, -1.11072723e+00, -7.23799065e-01,\n",
       "          6.05107448e-04, -3.88685759e-01, -1.45714461e+00,\n",
       "         -1.56508309e+00, -4.92216733e+00, -3.92178568e+00,\n",
       "          6.28650880e-02, -8.78537124e-02],\n",
       "        [ 1.20923566e+00, -1.76412907e-01, -1.82455230e-01,\n",
       "          4.36284777e-04, -5.71388364e-02, -4.66962168e-01,\n",
       "         -2.88511136e-01, -3.77230948e-01, -3.17957111e-02,\n",
       "          3.10120356e-02,  1.02731913e+00],\n",
       "        [ 1.18034547e+00, -5.45160898e-01, -3.36050862e-01,\n",
       "         -6.18456514e-02, -7.77952852e-03, -8.72378634e-01,\n",
       "         -4.36296273e-01, -1.42425601e+00,  1.50922973e-01,\n",
       "         -1.57937502e+00, -9.69815450e-01],\n",
       "        [ 1.18756689e+00, -5.11800822e-01, -3.26962904e-01,\n",
       "         -3.40952410e-02, -3.73944909e-03, -8.84118968e-01,\n",
       "         -4.17128535e-01, -1.88171060e+00, -5.87567303e-01,\n",
       "         -1.25758325e+00, -7.22332434e-01],\n",
       "        [ 1.21758560e+00, -1.44366252e-01, -1.54341958e-01,\n",
       "          5.13271451e-04, -8.30911801e-02, -4.41236856e-01,\n",
       "         -4.47758475e-01, -2.48902072e+00, -2.54761448e+00,\n",
       "         -6.44010150e-02,  1.10126127e+00],\n",
       "        [ 1.07140505e+00, -9.76770789e-01, -6.27830283e-01,\n",
       "          2.49128405e-03, -3.72151082e-01, -1.53088507e+00,\n",
       "         -1.08761055e+00, -4.02988643e+00, -2.88338707e+00,\n",
       "         -1.56304244e-03, -2.39872615e-01]])>,\n",
       " <tf.Tensor: shape=(10, 3), dtype=float64, numpy=\n",
       " array([[-0.63088661,  0.51976901,  0.99721777],\n",
       "        [ 0.70604712,  0.58761203, -0.96043611],\n",
       "        [ 0.91054738,  0.57385206, -0.7665354 ],\n",
       "        [ 0.71152741,  0.16534092, -0.88496149],\n",
       "        [ 0.14483455,  0.43691105, -0.64346397],\n",
       "        [ 0.93645358,  0.05338895,  0.55143917],\n",
       "        [-0.8605746 ,  0.12815464, -0.2296664 ],\n",
       "        [-0.24902405, -0.52246994,  0.82437652],\n",
       "        [ 0.92863083,  0.22222546, -0.85219097],\n",
       "        [ 0.39765093, -0.14057066, -0.01562198]])>,\n",
       " <tf.Tensor: shape=(10,), dtype=float64, numpy=\n",
       " array([-0.48887869, -0.1064753 , -0.64728059,  0.09405362, -0.48420771,\n",
       "         0.57438104,  0.10768617,  0.09076911,  0.54245672, -0.52967623])>,\n",
       " <tf.Tensor: shape=(10, 11), dtype=float64, numpy=\n",
       " array([[ 1.03001391e+00, -1.11072723e+00, -7.23799065e-01,\n",
       "          6.05107448e-04, -3.88685759e-01, -1.45714461e+00,\n",
       "         -1.56508309e+00, -4.92216733e+00, -3.92178568e+00,\n",
       "          6.28650880e-02, -8.78537124e-02],\n",
       "        [ 1.20447261e+00, -9.68489352e-02, -1.36316906e-02,\n",
       "          1.24022623e-02, -1.07694804e-01, -1.12786371e+00,\n",
       "         -1.18695626e-01, -2.04205803e+00, -1.21352967e+00,\n",
       "         -1.34794668e-01, -6.44381187e-01],\n",
       "        [ 9.80155174e-01, -1.26679992e+00, -8.37392233e-01,\n",
       "          1.63730794e-03, -4.23544373e-01, -1.69562044e+00,\n",
       "         -1.46751989e+00, -4.15293809e+00, -2.49969809e+00,\n",
       "          1.01931858e-02, -1.66841566e+00],\n",
       "        [ 1.20236866e+00, -4.20048824e-01, -2.80823772e-01,\n",
       "          3.01410399e-03,  1.67098596e-02, -8.94414701e-01,\n",
       "         -2.13869826e-01, -2.46866843e+00, -1.95743234e+00,\n",
       "         -7.36823687e-02, -1.57865310e+00],\n",
       "        [ 1.01742854e+00, -1.14987602e+00, -7.54233099e-01,\n",
       "          1.01587989e-03, -3.93106522e-01, -1.52840322e+00,\n",
       "         -1.56537433e+00, -4.89219894e+00, -3.69030842e+00,\n",
       "          4.05366928e-02, -9.81694601e-01],\n",
       "        [ 1.20678269e+00, -1.74603743e-01, -1.77286040e-01,\n",
       "          4.00716682e-04, -4.55234099e-02, -3.80859249e-01,\n",
       "         -3.29822628e-01,  8.24356514e-01,  1.32251211e+00,\n",
       "         -4.35356887e-02,  1.86169461e+00],\n",
       "        [ 1.17642717e+00, -5.60583486e-01, -3.39958827e-01,\n",
       "         -7.33413583e-02, -1.70895234e-02, -9.10294167e-01,\n",
       "         -5.45139107e-01, -2.43009061e+00, -1.12579234e+00,\n",
       "         -1.29377071e+00, -1.35481207e+00],\n",
       "        [ 1.18398675e+00, -5.29388870e-01, -3.32984459e-01,\n",
       "         -4.73198514e-02, -5.23303573e-03, -9.31985910e-01,\n",
       "         -4.75826882e-01, -2.51733040e+00, -9.18271488e-01,\n",
       "         -2.05057228e+00,  3.40802441e-01],\n",
       "        [ 1.21456023e+00, -1.59703229e-01, -1.69006465e-01,\n",
       "          2.54502485e-04, -7.71158152e-02, -4.71204092e-01,\n",
       "         -3.07035602e-01, -1.34807502e+00, -1.12036422e+00,\n",
       "         -5.70051482e-03,  3.94560962e-01],\n",
       "        [ 1.06247076e+00, -1.00736185e+00, -6.48420521e-01,\n",
       "          1.52382172e-03, -3.74141832e-01, -1.52858022e+00,\n",
       "         -1.14555272e+00, -3.61814743e+00, -2.26507382e+00,\n",
       "         -2.39897810e-01, -2.57735088e-01]])>,\n",
       " <tf.Tensor: shape=(10,), dtype=float64, numpy=array([1., 0., 1., 1., 1., 0., 1., 1., 0., 1.])>)"
      ]
     },
     "execution_count": 19,
     "metadata": {},
     "output_type": "execute_result"
    }
   ],
   "source": [
    "buffer1.sample()"
   ]
  },
  {
   "cell_type": "markdown",
   "id": "2956d47d",
   "metadata": {},
   "source": [
    "### Soft Actor Critic"
   ]
  },
  {
   "cell_type": "code",
   "execution_count": 41,
   "id": "7377d1bf",
   "metadata": {},
   "outputs": [],
   "source": [
    "class SAC:\n",
    "    \n",
    "    def __init__(self, env, observation_dimensions, action_dimensions, action_bound, buffer_capacity,\n",
    "                 minibatch_size=256, gamma=0.99, tau=0.95, lr=3e-4):\n",
    "        \n",
    "        self.env = env\n",
    "        \n",
    "        self.a = Actor(action_dimensions, action_bound)\n",
    "        self.c_gen = Critic_Wrapper(observation_dimensions, action_dimensions)\n",
    "        self.c1 = self.c_gen.get_critic()\n",
    "        self.c2 = self.c_gen.get_critic()\n",
    "        self.tc1 = self.c_gen.get_critic()\n",
    "        self.tc2 = self.c_gen.get_critic()\n",
    "        \n",
    "        self.tc1.set_weights(self.c1.get_weights())\n",
    "        self.tc2.set_weights(self.c2.get_weights())\n",
    "\n",
    "        self.te = -np.prod(num_actions)\n",
    "        self.alpha = tf.Variable(0.0, dtype=tf.float32)\n",
    "        \n",
    "        self.a_opt = tf.keras.optimizers.Adam(learning_rate=lr)\n",
    "        self.c1_opt = tf.keras.optimizers.Adam(learning_rate=lr)\n",
    "        self.c2_opt = tf.keras.optimizers.Adam(learning_rate=lr)                                                  \n",
    "        self.alpha_opt = tf.keras.optimizers.Adam(learning_rate=lr)   \n",
    "        \n",
    "        self.buffer = Buffer(observation_dimensions, action_dimensions, buffer_capacity, minibatch_size)\n",
    "        \n",
    "        self.gamma, self.tau = gamma, tau\n",
    "        \n",
    "    def update(self):\n",
    "        s_b, a_b, r_b, ns_b, d_b = self.buffer.sample()\n",
    "        with tf.GradientTape() as tape_c1, tf.GradientTape() as tape_c2:\n",
    "            q1 = self.c1([s_b, a_b])\n",
    "            q2 = self.c2([s_b, a_b])\n",
    "            print(q1.shape)\n",
    "            print(q2.shape)\n",
    "\n",
    "        \n",
    "\n",
    "\n",
    "        "
   ]
  },
  {
   "cell_type": "code",
   "execution_count": 42,
   "id": "75bddba9",
   "metadata": {},
   "outputs": [],
   "source": [
    "sac1 = SAC(env, num_states, num_actions, upper_bound, 1000, 10)"
   ]
  },
  {
   "cell_type": "code",
   "execution_count": 43,
   "id": "3d2e6305",
   "metadata": {},
   "outputs": [],
   "source": [
    "buffer1 = Buffer(num_states, num_actions, 100, 10)"
   ]
  },
  {
   "cell_type": "code",
   "execution_count": 44,
   "id": "9e6beb3c",
   "metadata": {},
   "outputs": [],
   "source": [
    "prev_obs = env.reset()\n",
    "\n",
    "for i in range(buffer1.buffer_capacity):\n",
    "    a, _, _ = actor_test(tf.expand_dims(prev_obs, 0))\n",
    "    obs, r, d, _ = env.step(a[0])\n",
    "    \n",
    "    buffer1.record((prev_obs, a[0], r, obs, d))\n",
    "    \n",
    "    prev_obs = obs\n",
    "    "
   ]
  },
  {
   "cell_type": "code",
   "execution_count": 45,
   "id": "beecd1f4",
   "metadata": {},
   "outputs": [],
   "source": [
    "sac1.buffer =  buffer1"
   ]
  },
  {
   "cell_type": "code",
   "execution_count": 46,
   "id": "0ba42cdb",
   "metadata": {},
   "outputs": [
    {
     "name": "stdout",
     "output_type": "stream",
     "text": [
      "(10,)\n",
      "(10,)\n"
     ]
    }
   ],
   "source": [
    "sac1.update()"
   ]
  },
  {
   "cell_type": "code",
   "execution_count": null,
   "id": "29ceb2e1",
   "metadata": {},
   "outputs": [],
   "source": []
  }
 ],
 "metadata": {
  "kernelspec": {
   "display_name": "Python 3",
   "language": "python",
   "name": "python3"
  },
  "language_info": {
   "codemirror_mode": {
    "name": "ipython",
    "version": 3
   },
   "file_extension": ".py",
   "mimetype": "text/x-python",
   "name": "python",
   "nbconvert_exporter": "python",
   "pygments_lexer": "ipython3",
   "version": "3.7.13"
  }
 },
 "nbformat": 4,
 "nbformat_minor": 5
}
