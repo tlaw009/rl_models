{
 "cells": [
  {
   "cell_type": "code",
   "execution_count": 3,
   "id": "5dc7ff4d",
   "metadata": {},
   "outputs": [],
   "source": [
    "import gym\n",
    "import tensorflow as tf\n",
    "from tensorflow.keras import layers\n",
    "from tensorflow.keras import Model\n",
    "import numpy as np\n",
    "import os\n",
    "import json\n",
    "import random\n",
    "import tensorflow_probability as tfp\n",
    "from tensorflow.keras import regularizers\n",
    "import glfw"
   ]
  },
  {
   "cell_type": "markdown",
   "id": "4c8cca3c",
   "metadata": {},
   "source": [
    "### Env Setup"
   ]
  },
  {
   "cell_type": "code",
   "execution_count": 4,
   "id": "7e91a9ba",
   "metadata": {},
   "outputs": [],
   "source": [
    "problem = \"Hopper-v3\"\n",
    "env = gym.make(problem)\n",
    "\n",
    "num_states = env.observation_space.shape[0]\n",
    "num_actions = env.action_space.shape[0]\n",
    "upper_bound = env.action_space.high[0]\n",
    "lower_bound = env.action_space.low[0]"
   ]
  },
  {
   "cell_type": "markdown",
   "id": "eeafe2ab",
   "metadata": {},
   "source": [
    "### Actor Model"
   ]
  },
  {
   "cell_type": "markdown",
   "id": "be9aeb90",
   "metadata": {},
   "source": [
    "#### Note:"
   ]
  },
  {
   "cell_type": "markdown",
   "id": "279be0e3",
   "metadata": {},
   "source": [
    "Same as PPO actor. Gaussian policy"
   ]
  },
  {
   "cell_type": "code",
   "execution_count": 34,
   "id": "e15e7f5f",
   "metadata": {},
   "outputs": [],
   "source": [
    "EPSILON = 1e-10\n",
    "\n",
    "class Actor(Model):\n",
    "\n",
    "    def __init__(self, action_dimensions, action_bound):\n",
    "        super().__init__()\n",
    "        self.action_dim, self.upper_bound = action_dimensions, action_bound\n",
    "        self.sample_dist = tfp.distributions.MultivariateNormalDiag(loc=tf.zeros(self.action_dim),\n",
    "                                                                    scale_diag=tf.ones(self.action_dim))\n",
    "        self.input_batch_norm = layers.BatchNormalization()\n",
    "        self.dense1_layer = layers.Dense(64, activation=\"relu\")\n",
    "        self.dense2_layer = layers.Dense(64, activation=\"relu\")\n",
    "        self.mean_layer = layers.Dense(self.action_dim)\n",
    "        self.stdev_layer = layers.Dense(self.action_dim)\n",
    "\n",
    "    def call(self, state, eval_mode=False):\n",
    "        norm_state = self.input_batch_norm(state)\n",
    "        a1 = self.dense1_layer(norm_state)\n",
    "        a2 = self.dense2_layer(a1)\n",
    "        mu = self.mean_layer(a2)\n",
    "\n",
    "        log_sigma = self.stdev_layer(a2)\n",
    "        sigma = tf.exp(log_sigma)\n",
    "        sigma = tf.clip_by_value(sigma, EPSILON, 2.718)\n",
    "\n",
    "        dist = tfp.distributions.MultivariateNormalDiag(loc=mu, scale_diag=sigma)\n",
    "        \n",
    "        if eval_mode:\n",
    "            action_ = mu\n",
    "        else:\n",
    "            action_ = tf.math.add(mu, tf.math.multiply(sigma, tf.expand_dims(self.sample_dist.sample(), 0)))\n",
    " \n",
    "        action = tf.tanh(action_)\n",
    "\n",
    "        log_pi_ = dist.log_prob(action_)     \n",
    "        log_pi = log_pi_ - tf.reduce_sum(tf.math.log(tf.clip_by_value(1 - action**2, EPSILON, 1.0)), axis=1)\n",
    "        \n",
    "        return action*self.upper_bound, log_pi\n"
   ]
  },
  {
   "cell_type": "code",
   "execution_count": 35,
   "id": "6d3f74b8",
   "metadata": {},
   "outputs": [],
   "source": [
    "actor_test = Actor(num_actions, upper_bound)"
   ]
  },
  {
   "cell_type": "code",
   "execution_count": 36,
   "id": "2d7cab68",
   "metadata": {},
   "outputs": [
    {
     "name": "stdout",
     "output_type": "stream",
     "text": [
      "tf.Tensor([[ 0.9320341  -0.5267842  -0.72679275]], shape=(1, 3), dtype=float32) tf.Tensor([-1.5482416], shape=(1,), dtype=float32)\n"
     ]
    }
   ],
   "source": [
    "obs = env.reset()\n",
    "obs\n",
    "tf_obs = tf.expand_dims(obs, 0)\n",
    "tf_obs\n",
    "a_test, log_a_test = actor_test(tf_obs)\n",
    "print(a_test, log_a_test)"
   ]
  },
  {
   "cell_type": "code",
   "execution_count": 37,
   "id": "116539f7",
   "metadata": {},
   "outputs": [
    {
     "name": "stdout",
     "output_type": "stream",
     "text": [
      "Model: \"actor_4\"\n",
      "_________________________________________________________________\n",
      " Layer (type)                Output Shape              Param #   \n",
      "=================================================================\n",
      " batch_normalization (BatchN  multiple                 44        \n",
      " ormalization)                                                   \n",
      "                                                                 \n",
      " dense_52 (Dense)            multiple                  768       \n",
      "                                                                 \n",
      " dense_53 (Dense)            multiple                  4160      \n",
      "                                                                 \n",
      " dense_54 (Dense)            multiple                  195       \n",
      "                                                                 \n",
      " dense_55 (Dense)            multiple                  195       \n",
      "                                                                 \n",
      "=================================================================\n",
      "Total params: 5,362\n",
      "Trainable params: 5,340\n",
      "Non-trainable params: 22\n",
      "_________________________________________________________________\n"
     ]
    }
   ],
   "source": [
    "actor_test.summary()"
   ]
  },
  {
   "cell_type": "markdown",
   "id": "e09fae85",
   "metadata": {},
   "source": [
    "### Critic Wrapper"
   ]
  },
  {
   "cell_type": "markdown",
   "id": "a403d18b",
   "metadata": {},
   "source": [
    "#### Note:"
   ]
  },
  {
   "cell_type": "markdown",
   "id": "b347d502",
   "metadata": {},
   "source": [
    "Different from PPO, critic evaluate state-action pairs."
   ]
  },
  {
   "cell_type": "code",
   "execution_count": 48,
   "id": "7d5f39f2",
   "metadata": {},
   "outputs": [],
   "source": [
    "class Critic_Wrapper():\n",
    "    def __init__(self, state_dim, action_dim):\n",
    "        self.s_dim=state_dim\n",
    "        self.a_dim=action_dim\n",
    "        \n",
    "    def get_critic(self):\n",
    "        # State as input\n",
    "        state_input = layers.Input(shape=(self.s_dim))\n",
    "        state_input_norm = layers.BatchNormalization()(state_input)\n",
    "        state_out = layers.Dense(32, activation=\"relu\")(state_input_norm)\n",
    "\n",
    "        # Action as input\n",
    "        action_input = layers.Input(shape=(self.a_dim))\n",
    "        action_out = layers.Dense(32, activation=\"relu\")(action_input)\n",
    "\n",
    "        # Concatenating\n",
    "        concat = layers.Concatenate()([state_out, action_out])\n",
    "        out = layers.Dense(64, activation=\"relu\")(concat)\n",
    "        outputs = tf.squeeze(layers.Dense(1)(out))\n",
    "\n",
    "        # Outputs single value for give state-action\n",
    "        model = tf.keras.Model([state_input, action_input], outputs)\n",
    "\n",
    "        return model"
   ]
  },
  {
   "cell_type": "code",
   "execution_count": 49,
   "id": "4dadd49c",
   "metadata": {},
   "outputs": [],
   "source": [
    "critic_gen = Critic_Wrapper(num_states, num_actions)\n",
    "critic_test = critic_gen.get_critic()"
   ]
  },
  {
   "cell_type": "code",
   "execution_count": 50,
   "id": "65aced4e",
   "metadata": {},
   "outputs": [
    {
     "data": {
      "text/plain": [
       "array([ 1.25168478e+00, -8.29577629e-04,  3.12144857e-03, -3.99221136e-03,\n",
       "        4.68308696e-03,  3.18964755e-03, -3.63916187e-03,  3.59811947e-03,\n",
       "       -2.48285206e-03,  3.50406116e-04,  3.97189674e-03])"
      ]
     },
     "execution_count": 50,
     "metadata": {},
     "output_type": "execute_result"
    }
   ],
   "source": [
    "obs = env.reset()\n",
    "obs"
   ]
  },
  {
   "cell_type": "code",
   "execution_count": 51,
   "id": "3c101830",
   "metadata": {},
   "outputs": [
    {
     "data": {
      "text/plain": [
       "<tf.Tensor: shape=(1, 11), dtype=float64, numpy=\n",
       "array([[ 1.25168478e+00, -8.29577629e-04,  3.12144857e-03,\n",
       "        -3.99221136e-03,  4.68308696e-03,  3.18964755e-03,\n",
       "        -3.63916187e-03,  3.59811947e-03, -2.48285206e-03,\n",
       "         3.50406116e-04,  3.97189674e-03]])>"
      ]
     },
     "execution_count": 51,
     "metadata": {},
     "output_type": "execute_result"
    }
   ],
   "source": [
    "tf_obs = tf.expand_dims(obs, 0)\n",
    "a_test, log_a_test = actor_test(tf_obs)\n",
    "tf_obs"
   ]
  },
  {
   "cell_type": "code",
   "execution_count": 52,
   "id": "aa334304",
   "metadata": {},
   "outputs": [
    {
     "data": {
      "text/plain": [
       "<tf.Tensor: shape=(), dtype=float32, numpy=-0.0667132>"
      ]
     },
     "execution_count": 52,
     "metadata": {},
     "output_type": "execute_result"
    }
   ],
   "source": [
    "v_test = critic_test([tf_obs, a_test])\n",
    "v_test"
   ]
  },
  {
   "cell_type": "code",
   "execution_count": 53,
   "id": "2a2cfe7f",
   "metadata": {},
   "outputs": [
    {
     "name": "stdout",
     "output_type": "stream",
     "text": [
      "(2, 11)\n"
     ]
    }
   ],
   "source": [
    "obs_new, _, _, _ = env.step(a_test[0])\n",
    "tf_obs_new = tf.expand_dims(obs_new, 0)\n",
    "statex2 = tf.convert_to_tensor([obs, obs_new])\n",
    "print(statex2.shape)"
   ]
  },
  {
   "cell_type": "code",
   "execution_count": 54,
   "id": "df584535",
   "metadata": {},
   "outputs": [
    {
     "name": "stdout",
     "output_type": "stream",
     "text": [
      "(2, 3) (2,)\n"
     ]
    }
   ],
   "source": [
    "a_2, loga_2 = actor_test(statex2)\n",
    "\n",
    "print(a_2.shape, loga_2.shape)"
   ]
  },
  {
   "cell_type": "code",
   "execution_count": 55,
   "id": "f16a7ea1",
   "metadata": {},
   "outputs": [
    {
     "name": "stdout",
     "output_type": "stream",
     "text": [
      "(2,)\n"
     ]
    }
   ],
   "source": [
    "v_2 = critic_test([statex2, a_2])\n",
    "print(v_2.shape)"
   ]
  },
  {
   "cell_type": "code",
   "execution_count": 56,
   "id": "eb6392ee",
   "metadata": {},
   "outputs": [
    {
     "name": "stdout",
     "output_type": "stream",
     "text": [
      "Model: \"model_10\"\n",
      "__________________________________________________________________________________________________\n",
      " Layer (type)                   Output Shape         Param #     Connected to                     \n",
      "==================================================================================================\n",
      " input_21 (InputLayer)          [(None, 11)]         0           []                               \n",
      "                                                                                                  \n",
      " batch_normalization_2 (BatchNo  (None, 11)          44          ['input_21[0][0]']               \n",
      " rmalization)                                                                                     \n",
      "                                                                                                  \n",
      " input_22 (InputLayer)          [(None, 3)]          0           []                               \n",
      "                                                                                                  \n",
      " dense_60 (Dense)               (None, 32)           384         ['batch_normalization_2[0][0]']  \n",
      "                                                                                                  \n",
      " dense_61 (Dense)               (None, 32)           128         ['input_22[0][0]']               \n",
      "                                                                                                  \n",
      " concatenate_10 (Concatenate)   (None, 64)           0           ['dense_60[0][0]',               \n",
      "                                                                  'dense_61[0][0]']               \n",
      "                                                                                                  \n",
      " dense_62 (Dense)               (None, 64)           4160        ['concatenate_10[0][0]']         \n",
      "                                                                                                  \n",
      " dense_63 (Dense)               (None, 1)            65          ['dense_62[0][0]']               \n",
      "                                                                                                  \n",
      " tf.compat.v1.squeeze_10 (TFOpL  None                0           ['dense_63[0][0]']               \n",
      " ambda)                                                                                           \n",
      "                                                                                                  \n",
      "==================================================================================================\n",
      "Total params: 4,781\n",
      "Trainable params: 4,759\n",
      "Non-trainable params: 22\n",
      "__________________________________________________________________________________________________\n"
     ]
    }
   ],
   "source": [
    "critic_test.summary()"
   ]
  },
  {
   "cell_type": "markdown",
   "id": "45a3c971",
   "metadata": {},
   "source": [
    "### Replay Buffer"
   ]
  },
  {
   "cell_type": "code",
   "execution_count": 57,
   "id": "66ff1c11",
   "metadata": {},
   "outputs": [],
   "source": [
    "class Buffer:\n",
    "    def __init__(self, obs_dim, a_dim, buffer_capacity=100000, batch_size=256):\n",
    "        \n",
    "        self.obs_dim = obs_dim\n",
    "        self.a_dim = a_dim\n",
    "        self.buffer_capacity = buffer_capacity\n",
    "        self.batch_size = batch_size\n",
    "        self.buffer_counter = 0\n",
    "\n",
    "        self.state_buffer = np.zeros((self.buffer_capacity, self.obs_dim))\n",
    "        self.action_buffer = np.zeros((self.buffer_capacity, self.a_dim))\n",
    "        self.reward_buffer = np.zeros((self.buffer_capacity, 1))\n",
    "        self.next_state_buffer = np.zeros((self.buffer_capacity, self.obs_dim))\n",
    "        self.done_buffer = np.zeros((self.buffer_capacity, 1))\n",
    "\n",
    "    def record(self, obs_tuple):\n",
    "        index = self.buffer_counter % self.buffer_capacity\n",
    "\n",
    "        self.state_buffer[index] = obs_tuple[0]\n",
    "        self.action_buffer[index] = obs_tuple[1]\n",
    "        self.reward_buffer[index] = obs_tuple[2]\n",
    "        self.next_state_buffer[index] = obs_tuple[3]\n",
    "        self.done_buffer[index] = obs_tuple[4]\n",
    "        self.buffer_counter += 1\n",
    "        \n",
    "    def sample(self):\n",
    "        record_range = min(self.buffer_counter, self.buffer_capacity)\n",
    "        batch_indices = np.random.choice(record_range, self.batch_size)\n",
    "\n",
    "        state_batch = tf.convert_to_tensor(self.state_buffer[batch_indices])\n",
    "        action_batch = tf.convert_to_tensor(self.action_buffer[batch_indices])\n",
    "        reward_batch = tf.squeeze(tf.convert_to_tensor(self.reward_buffer[batch_indices]))\n",
    "        next_state_batch = tf.convert_to_tensor(self.next_state_buffer[batch_indices])\n",
    "        done_batch = tf.squeeze(tf.convert_to_tensor(self.done_buffer[batch_indices]))\n",
    "        \n",
    "        return (state_batch,\n",
    "               action_batch,\n",
    "               reward_batch,\n",
    "               next_state_batch,\n",
    "               done_batch)\n"
   ]
  },
  {
   "cell_type": "code",
   "execution_count": 58,
   "id": "9d040f7a",
   "metadata": {},
   "outputs": [],
   "source": [
    "buffer1 = Buffer(num_states, num_actions, 100, 10)"
   ]
  },
  {
   "cell_type": "code",
   "execution_count": 59,
   "id": "11879892",
   "metadata": {},
   "outputs": [],
   "source": [
    "prev_obs = env.reset()\n",
    "\n",
    "for i in range(buffer1.buffer_capacity):\n",
    "    a, _ = actor_test(tf.expand_dims(prev_obs, 0))\n",
    "    obs, r, d, _ = env.step(a[0])\n",
    "    \n",
    "    buffer1.record((prev_obs, a[0], r, obs, d))\n",
    "    \n",
    "    prev_obs = obs\n",
    "    "
   ]
  },
  {
   "cell_type": "code",
   "execution_count": 60,
   "id": "ac7dac19",
   "metadata": {},
   "outputs": [
    {
     "data": {
      "text/plain": [
       "(<tf.Tensor: shape=(10, 11), dtype=float64, numpy=\n",
       " array([[  0.83367189,  -2.37807824,  -1.76199166,  -0.86230103,\n",
       "           0.8811829 ,  -2.18623557,   2.37061866,  10.        ,\n",
       "          10.        ,  -4.82030721,   0.64043572],\n",
       "        [  0.8539216 ,  -2.86921837,  -2.65477563,  -0.26154713,\n",
       "          -0.16546203,   0.47338584,  -1.93467307, -10.        ,\n",
       "         -10.        ,  -5.77429632,  -0.06126709],\n",
       "        [  1.11602525,  -0.69859913,   0.15553374,  -0.97766984,\n",
       "           0.77400503,  -0.57721578,   0.63529027,  -1.69921689,\n",
       "          -4.28670929,   3.73056933,  -1.65712751],\n",
       "        [  1.12857826,  -0.76250581,   0.01603677,  -0.86977282,\n",
       "           0.7144018 ,  -0.60933708,   0.42625913,  -3.66620065,\n",
       "          -7.56236455,   5.61125955,  -3.26205704],\n",
       "        [  0.77077164,  -2.76914004,  -2.20083774,  -0.71382427,\n",
       "           0.61665607,  -1.69388401,   1.3302295 ,   9.75174433,\n",
       "          10.        ,  -4.73034074,  10.        ],\n",
       "        [  1.1102338 ,  -1.16005118,  -0.6860157 ,  -0.43634552,\n",
       "           0.21291566,  -0.38430912,  -1.04853226,  -7.86283881,\n",
       "         -10.        ,   7.03435486, -10.        ],\n",
       "        [  1.11602525,  -0.69859913,   0.15553374,  -0.97766984,\n",
       "           0.77400503,  -0.57721578,   0.63529027,  -1.69921689,\n",
       "          -4.28670929,   3.73056933,  -1.65712751],\n",
       "        [  0.8181128 ,  -3.08956201,  -2.7339515 ,  -0.41561474,\n",
       "          -0.12293242,  -1.26562507,  -1.36849766,  -3.70320732,\n",
       "           1.36506954,  -5.85554135,   3.30295648],\n",
       "        [  1.10087313,  -1.22534862,  -0.78978683,  -0.3801391 ,\n",
       "           0.12442273,  -0.30981694,  -1.29268178,  -8.46245014,\n",
       "         -10.        ,   7.01648708, -10.        ],\n",
       "        [  0.79583104,  -3.1281255 ,  -2.70235504,  -0.49564451,\n",
       "          -0.05992819,  -1.33764482,  -1.42933909,  -1.53251979,\n",
       "           2.16112207,  -4.07715278,   4.77920422]])>,\n",
       " <tf.Tensor: shape=(10, 3), dtype=float64, numpy=\n",
       " array([[ 0.91194224,  0.99690604,  0.98482293],\n",
       "        [ 0.34080842, -0.44901216,  0.64167684],\n",
       "        [-0.53427958,  0.19674736, -0.38697195],\n",
       "        [-0.75517553, -0.93471843, -0.60545546],\n",
       "        [ 0.94539249,  0.99999452,  0.98465556],\n",
       "        [-0.50900567, -0.05362783, -0.21192145],\n",
       "        [-0.53427958,  0.19674736, -0.38697195],\n",
       "        [-0.38144833,  0.58002311,  0.35140875],\n",
       "        [-0.90732938,  0.35537118, -0.6964373 ],\n",
       "        [ 0.16332534,  0.6964429 ,  0.64520395]])>,\n",
       " <tf.Tensor: shape=(10,), dtype=float64, numpy=\n",
       " array([-1.22298728,  0.92936508,  0.41316286,  0.36756989, -0.7299117 ,\n",
       "         0.65176129,  0.41316286, -0.31715781,  0.74040794, -0.34227896])>,\n",
       " <tf.Tensor: shape=(10, 11), dtype=float64, numpy=\n",
       " array([[  0.85397283,  -2.26253399,  -1.62951816,  -0.89633288,\n",
       "           0.87894265,  -2.24277292,   2.70343373,  10.        ,\n",
       "          10.        ,  -3.69607873,  -0.978339  ],\n",
       "        [  0.84053495,  -2.98379271,  -2.72001277,  -0.31181345,\n",
       "          -0.16067516,  -0.5203615 ,  -1.50541071, -10.        ,\n",
       "          -4.56773895,  -6.73741952,   1.25759421],\n",
       "        [  1.12077166,  -0.71429923,   0.1181459 ,  -0.94660644,\n",
       "           0.75854435,  -0.59470411,   0.55020351,  -2.22520688,\n",
       "          -5.05919248,   4.03564001,  -2.2076133 ],\n",
       "        [  1.13072274,  -0.7969866 ,  -0.04816883,  -0.82929411,\n",
       "           0.68496024,  -0.65110747,   0.10912157,  -4.95418901,\n",
       "          -8.48725019,   4.50862237,  -4.09716726],\n",
       "        [  0.78328806,  -2.6834819 ,  -2.1052317 ,  -0.74863895,\n",
       "           0.70921277,  -1.75588155,   1.8066199 ,  10.        ,\n",
       "          10.        ,  -3.9851522 ,  10.        ],\n",
       "        [  1.10087313,  -1.22534862,  -0.78978683,  -0.3801391 ,\n",
       "           0.12442273,  -0.30981694,  -1.29268178,  -8.46245014,\n",
       "         -10.        ,   7.01648708, -10.        ],\n",
       "        [  1.12077166,  -0.71429923,   0.1181459 ,  -0.94660644,\n",
       "           0.75854435,  -0.59470411,   0.55020351,  -2.22520688,\n",
       "          -5.05919248,   4.03564001,  -2.2076133 ],\n",
       "        [  0.80710299,  -3.11303949,  -2.71959591,  -0.45918911,\n",
       "          -0.09436286,  -1.34811996,  -1.38928977,  -2.31769941,\n",
       "           2.08176187,  -5.03394786,   3.82643884],\n",
       "        [  1.08954516,  -1.29658673,  -0.90067848,  -0.32159784,\n",
       "           0.03103516,  -0.20266698,  -1.54288078,  -9.34736129,\n",
       "         -10.        ,   7.61826918, -10.        ],\n",
       "        [  0.7842623 ,  -3.13684217,  -2.68433328,  -0.52428656,\n",
       "          -0.0181574 ,  -1.34557683,  -1.46270917,  -0.65328302,\n",
       "           2.34416199,  -3.08374077,   5.66122928]])>,\n",
       " <tf.Tensor: shape=(10,), dtype=float64, numpy=array([1., 1., 1., 1., 1., 1., 1., 1., 1., 1.])>)"
      ]
     },
     "execution_count": 60,
     "metadata": {},
     "output_type": "execute_result"
    }
   ],
   "source": [
    "buffer1.sample()"
   ]
  },
  {
   "cell_type": "markdown",
   "id": "2956d47d",
   "metadata": {},
   "source": [
    "### Soft Actor Critic"
   ]
  },
  {
   "cell_type": "code",
   "execution_count": 71,
   "id": "7377d1bf",
   "metadata": {},
   "outputs": [],
   "source": [
    "class SAC:\n",
    "    \n",
    "    def __init__(self, env, observation_dimensions, action_dimensions, action_bound, buffer_capacity,\n",
    "                 minibatch_size=256, gamma=0.99, tau=0.95, lr=3e-4):\n",
    "        \n",
    "        self.env = env\n",
    "        \n",
    "        self.a = Actor(action_dimensions, action_bound)\n",
    "        self.c_gen = Critic_Wrapper(observation_dimensions, action_dimensions)\n",
    "        self.c1 = self.c_gen.get_critic()\n",
    "        self.c2 = self.c_gen.get_critic()\n",
    "        self.tc1 = self.c_gen.get_critic()\n",
    "        self.tc2 = self.c_gen.get_critic()\n",
    "        \n",
    "        self.tc1.set_weights(self.c1.get_weights())\n",
    "        self.tc2.set_weights(self.c2.get_weights())\n",
    "\n",
    "        self.te = -np.prod(action_dimensions)\n",
    "        self.alpha = tf.Variable(0.0, dtype=tf.float32)\n",
    "        \n",
    "        self.a_opt = tf.keras.optimizers.Adam(learning_rate=lr)\n",
    "        self.c1_opt = tf.keras.optimizers.Adam(learning_rate=lr)\n",
    "        self.c2_opt = tf.keras.optimizers.Adam(learning_rate=lr)                                                  \n",
    "        self.alpha_opt = tf.keras.optimizers.Adam(learning_rate=lr)   \n",
    "        \n",
    "        self.buffer = Buffer(observation_dimensions, action_dimensions, buffer_capacity, minibatch_size)\n",
    "        \n",
    "        self.gamma, self.tau = gamma, tau\n",
    "        \n",
    "    def train(self, max_env_step):\n",
    "        t = 0\n",
    "        a_losses = []\n",
    "        c1_losses = []\n",
    "        c2_losses = []\n",
    "        alpha_losses = []\n",
    "        while t < max_env_step:\n",
    "            p_s = self.env.reset()\n",
    "\n",
    "            while True:\n",
    "                a, log_a = self.a(tf.expand_dims(p_s, 0))\n",
    "                a=a[0]\n",
    "                s, r, d, _ = self.env.step(a)\n",
    "                end = 0 if d else 1\n",
    "                \n",
    "                self.buffer.record((p_s, a, r, s, end))\n",
    "                data = self.buffer.sample()\n",
    "                \n",
    "                a_loss, c1_loss, c2_loss, alpha_loss = self.update(data)\n",
    "                \n",
    "                a_losses.append(a_loss.numpy())\n",
    "                c1_losses.append(c1_loss.numpy())\n",
    "                c2_losses.append(c2_loss.numpy())\n",
    "                alpha_losses.append(alpha_loss.numpy())\n",
    "                \n",
    "                t = t+1\n",
    "                \n",
    "                if d:\n",
    "                    break\n",
    "                p_s = s\n",
    "                \n",
    "        print(\"Per {:04d} Steps\".format(max_env_step), \"Policy Avg. Loss: \", np.mean(a_losses), \n",
    "              \", Critic 1 Avg. Loss: \",  np.mean(c1_losses), \n",
    "              \", Critic 2 Avg. Loss: \",  np.mean(c2_losses), \n",
    "              \", Alpha 1 Avg. Loss: \",  np.mean(alpha_losses), flush=True)\n",
    "\n",
    "\n",
    "    @tf.function\n",
    "    def update(self, data):\n",
    "        s_b, a_b, r_b, ns_b, d_b = data\n",
    "        with tf.GradientTape() as tape_c1, tf.GradientTape() as tape_c2:\n",
    "            q1 = self.c1([s_b, a_b], training=True)\n",
    "            q2 = self.c2([s_b, a_b], training=True)\n",
    "            na, nlog_a = self.a(ns_b, training=True)\n",
    "            \n",
    "            tq1 = self.tc1([ns_b, na], training=True)\n",
    "            tq2 = self.tc2([ns_b, na], training=True)\n",
    "            \n",
    "            min_qt = tf.math.minimum(tq1,tq2)\n",
    "            \n",
    "            soft_qt = min_qt - (self.alpha*nlog_a)\n",
    "            \n",
    "            y = tf.stop_gradient(r_b+self.gamma*d_b*tf.cast(soft_qt, dtype=tf.float64))\n",
    "            \n",
    "            L_c1 = 0.5*tf.reduce_mean((y-tf.cast(q1, dtype=tf.float64))**2)\n",
    "            L_c2 = 0.5*tf.reduce_mean((y-tf.cast(q2, dtype=tf.float64))**2)\n",
    "        c1_grad = tape_c1.gradient(L_c1, self.c1.trainable_variables)\n",
    "        c2_grad = tape_c2.gradient(L_c2, self.c2.trainable_variables)\n",
    "        \n",
    "        self.c1_opt.apply_gradients(zip(c1_grad, self.c1.trainable_variables))\n",
    "        self.c2_opt.apply_gradients(zip(c2_grad, self.c2.trainable_variables))\n",
    "        \n",
    "        for (tc1w, c1w) in zip(self.tc1.variables, self.c1.variables):\n",
    "            tc1w.assign(tc1w*self.tau + c1w*(1.0-self.tau))\n",
    "        for (tc2w, c2w) in zip(self.tc2.variables, self.c2.variables):\n",
    "            tc2w.assign(tc2w*self.tau + c2w*(1.0-self.tau))\n",
    "            \n",
    "        with tf.GradientTape() as tape_a, tf.GradientTape() as tape_alpha:\n",
    "            a, log_a = self.a(s_b, training=True)\n",
    "            qa1 = self.c1([s_b, a], training=True)\n",
    "            qa2 = self.c2([s_b, a], training=True)\n",
    "            \n",
    "            soft_qa = tf.math.minimum(qa1,qa2)\n",
    "\n",
    "            L_a = -tf.reduce_mean(soft_qa-self.alpha*log_a)\n",
    "            L_alpha = -tf.reduce_mean(self.alpha*tf.stop_gradient(log_a + self.te))\n",
    "        grad_a = tape_a.gradient(L_a, self.a.trainable_variables)\n",
    "        grad_alpha = tape_alpha.gradient(L_alpha, [self.alpha])\n",
    "        self.a_opt.apply_gradients(zip(grad_a, self.a.trainable_variables))\n",
    "        self.alpha_opt.apply_gradients(zip(grad_alpha, [self.alpha]))\n",
    "        \n",
    "        return L_a, L_c1, L_c2, L_alpha\n",
    "    \n",
    "    def save_weights(self, dir_path):\n",
    "        cp = tf.train.Checkpoint(step=self.alpha)\n",
    "        self.a.save_weights(dir_path+\"/a.ckpt\")\n",
    "        print(\"Saved actor weights\", flush=True)\n",
    "        self.c1.save_weights(dir_path+\"/c1.ckpt\")\n",
    "        print(\"Saved critic 1 weights\", flush=True)\n",
    "        self.c2.save_weights(dir_path+\"/c2.ckpt\")\n",
    "        print(\"Saved critic 2 weights\", flush=True)\n",
    "        cp.save(dir_path+\"/alpha\")\n",
    "        print(\"Saved alpha weights\", flush=True)\n",
    "\n",
    "    def load_weights(self, dir_path):\n",
    "        try:\n",
    "            cp = tf.train.Checkpoint(step=self.alpha)\n",
    "            self.a.load_weights(dir_path+\"/a.ckpt\")\n",
    "            print(\"Loaded actor weights\", flush=True)\n",
    "            self.c1.load_weights(dir_path+\"/c1.ckpt\")\n",
    "            print(\"Loaded critic 1 weights\", flush=True)\n",
    "            self.c2.load_weights(dir_path+\"/c2.ckpt\")\n",
    "            print(\"Loaded critic 2 weights\", flush=True)\n",
    "            cp.restore(dir_path+\"/alpha-1\")\n",
    "            print(\"Loaded alpha weights\", flush=True)\n",
    "            self.tc1.set_weights(self.c1.get_weights())\n",
    "            self.tc2.set_weights(self.c2.get_weights())\n",
    "\n",
    "        except ValueError:\n",
    "            print(\"ERROR: Please make sure weights are saved as .ckpt\", flush=True)\n",
    "            \n",
    "    def eval_rollout(self, problem):\n",
    "        eps_r = 0\n",
    "        eval_env = gym.make(problem)\n",
    "        eval_obs = eval_env.reset()\n",
    "\n",
    "        while True:\n",
    "            eval_env.render()\n",
    "\n",
    "            tf_eval_obs = tf.expand_dims(tf.convert_to_tensor(eval_obs), 0)\n",
    "\n",
    "            eval_a, eval_log_a = self.a(tf_eval_obs, eval_mode=True)\n",
    "\n",
    "            eval_a = eval_a[0]\n",
    "\n",
    "            eval_obs_new, eval_r, eval_d, _ = eval_env.step(eval_a)\n",
    "\n",
    "            eps_r += eval_r\n",
    "\n",
    "            if eval_d:\n",
    "                break\n",
    "                \n",
    "            eval_obs = eval_obs_new\n",
    "\n",
    "        glfw.destroy_window(eval_env.viewer.window)\n",
    "        eval_env.close()\n",
    "        print(\"rollout episodic reward: \", eps_r, flush=True)\n",
    "        \n",
    "        return eps_r\n"
   ]
  },
  {
   "cell_type": "code",
   "execution_count": 72,
   "id": "75bddba9",
   "metadata": {},
   "outputs": [],
   "source": [
    "sac1 = SAC(env, num_states, num_actions, upper_bound, 1000000)"
   ]
  },
  {
   "cell_type": "code",
   "execution_count": 73,
   "id": "0ba42cdb",
   "metadata": {
    "scrolled": false
   },
   "outputs": [
    {
     "name": "stdout",
     "output_type": "stream",
     "text": [
      "Per 1000 Steps Policy Avg. Loss:  -15.115835 , Critic 1 Avg. Loss:  3.5422050246093018 , Critic 2 Avg. Loss:  3.422864869442753 , Alpha 1 Avg. Loss:  -0.29831707\n"
     ]
    }
   ],
   "source": [
    "sac1.train(1000)"
   ]
  },
  {
   "cell_type": "code",
   "execution_count": 74,
   "id": "94e70621",
   "metadata": {},
   "outputs": [
    {
     "name": "stdout",
     "output_type": "stream",
     "text": [
      "Saved actor weights\n",
      "Saved critic 1 weights\n",
      "Saved critic 2 weights\n",
      "Saved alpha weights\n"
     ]
    }
   ],
   "source": [
    "sac1.save_weights(\"/home/tony/rl_models/MA2C/sac/devel/weights\")"
   ]
  },
  {
   "cell_type": "code",
   "execution_count": 75,
   "id": "d26664a4",
   "metadata": {},
   "outputs": [
    {
     "name": "stdout",
     "output_type": "stream",
     "text": [
      "<tf.Variable 'Variable:0' shape=() dtype=float32, numpy=0.1560806>\n"
     ]
    }
   ],
   "source": [
    "print(sac1.alpha)"
   ]
  },
  {
   "cell_type": "code",
   "execution_count": 76,
   "id": "909c1747",
   "metadata": {},
   "outputs": [],
   "source": [
    "sac2 = SAC(env, num_states, num_actions, upper_bound, 1000000)"
   ]
  },
  {
   "cell_type": "code",
   "execution_count": 77,
   "id": "9ba100f9",
   "metadata": {},
   "outputs": [
    {
     "name": "stdout",
     "output_type": "stream",
     "text": [
      "Loaded actor weights\n",
      "Loaded critic 1 weights\n",
      "Loaded critic 2 weights\n",
      "Loaded alpha weights\n"
     ]
    }
   ],
   "source": [
    "sac2.load_weights(\"/home/tony/rl_models/MA2C/sac/devel/weights\")"
   ]
  },
  {
   "cell_type": "code",
   "execution_count": 78,
   "id": "97bceeb9",
   "metadata": {},
   "outputs": [
    {
     "data": {
      "text/plain": [
       "<tf.Variable 'Variable:0' shape=() dtype=float32, numpy=0.1560806>"
      ]
     },
     "execution_count": 78,
     "metadata": {},
     "output_type": "execute_result"
    }
   ],
   "source": [
    "sac2.alpha"
   ]
  },
  {
   "cell_type": "code",
   "execution_count": 79,
   "id": "17c45be9",
   "metadata": {},
   "outputs": [
    {
     "name": "stdout",
     "output_type": "stream",
     "text": [
      "Per 0500 Steps Policy Avg. Loss:  -23.522392 , Critic 1 Avg. Loss:  3.8482555391211304 , Critic 2 Avg. Loss:  4.297062176306083 , Alpha 1 Avg. Loss:  -0.4242747\n"
     ]
    }
   ],
   "source": [
    "sac2.train(500)"
   ]
  },
  {
   "cell_type": "code",
   "execution_count": 80,
   "id": "98f816b1",
   "metadata": {},
   "outputs": [
    {
     "name": "stdout",
     "output_type": "stream",
     "text": [
      "Creating window glfw\n",
      "rollout episodic reward:  40.379167408402054\n"
     ]
    },
    {
     "data": {
      "text/plain": [
       "40.379167408402054"
      ]
     },
     "execution_count": 80,
     "metadata": {},
     "output_type": "execute_result"
    }
   ],
   "source": [
    "sac2.eval_rollout(problem)"
   ]
  },
  {
   "cell_type": "code",
   "execution_count": null,
   "id": "e185df41",
   "metadata": {},
   "outputs": [],
   "source": []
  }
 ],
 "metadata": {
  "kernelspec": {
   "display_name": "Python 3 (ipykernel)",
   "language": "python",
   "name": "python3"
  },
  "language_info": {
   "codemirror_mode": {
    "name": "ipython",
    "version": 3
   },
   "file_extension": ".py",
   "mimetype": "text/x-python",
   "name": "python",
   "nbconvert_exporter": "python",
   "pygments_lexer": "ipython3",
   "version": "3.8.13"
  }
 },
 "nbformat": 4,
 "nbformat_minor": 5
}
