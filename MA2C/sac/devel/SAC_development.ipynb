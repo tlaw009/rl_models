{
 "cells": [
  {
   "cell_type": "code",
   "execution_count": 2,
   "id": "5dc7ff4d",
   "metadata": {},
   "outputs": [],
   "source": [
    "import gym\n",
    "import tensorflow as tf\n",
    "from tensorflow.keras import layers\n",
    "from tensorflow.keras import Model\n",
    "import numpy as np\n",
    "import os\n",
    "import json\n",
    "import random\n",
    "import tensorflow_probability as tfp\n",
    "from tensorflow.keras import regularizers\n",
    "import glfw"
   ]
  },
  {
   "cell_type": "markdown",
   "id": "4c8cca3c",
   "metadata": {},
   "source": [
    "### Env Setup"
   ]
  },
  {
   "cell_type": "code",
   "execution_count": 3,
   "id": "7e91a9ba",
   "metadata": {},
   "outputs": [],
   "source": [
    "problem = \"Hopper-v3\"\n",
    "env = gym.make(problem)\n",
    "\n",
    "num_states = env.observation_space.shape[0]\n",
    "num_actions = env.action_space.shape[0]\n",
    "upper_bound = env.action_space.high[0]\n",
    "lower_bound = env.action_space.low[0]"
   ]
  },
  {
   "cell_type": "markdown",
   "id": "eeafe2ab",
   "metadata": {},
   "source": [
    "### Actor Model"
   ]
  },
  {
   "cell_type": "markdown",
   "id": "be9aeb90",
   "metadata": {},
   "source": [
    "#### Note:"
   ]
  },
  {
   "cell_type": "markdown",
   "id": "279be0e3",
   "metadata": {},
   "source": [
    "Same as PPO actor. Gaussian policy"
   ]
  },
  {
   "cell_type": "code",
   "execution_count": 4,
   "id": "e15e7f5f",
   "metadata": {},
   "outputs": [],
   "source": [
    "EPSILON = 1e-10\n",
    "\n",
    "class Actor(Model):\n",
    "\n",
    "    def __init__(self, action_dimensions, action_bound):\n",
    "        super().__init__()\n",
    "        self.action_dim, self.upper_bound = action_dimensions, action_bound\n",
    "        self.sample_dist = tfp.distributions.MultivariateNormalDiag(loc=tf.zeros(self.action_dim),\n",
    "                                                                    scale_diag=tf.ones(self.action_dim))\n",
    "        self.input_batch_norm = layers.BatchNormalization()\n",
    "        self.dense1_layer = layers.Dense(64, activation=\"relu\")\n",
    "        self.dense2_layer = layers.Dense(64, activation=\"relu\")\n",
    "        self.mean_layer = layers.Dense(self.action_dim)\n",
    "        self.stdev_layer = layers.Dense(self.action_dim)\n",
    "\n",
    "    def call(self, state, eval_mode=False):\n",
    "        norm_state = self.input_batch_norm(state)\n",
    "        a1 = self.dense1_layer(norm_state)\n",
    "        a2 = self.dense2_layer(a1)\n",
    "        mu = self.mean_layer(a2)\n",
    "\n",
    "        log_sigma = self.stdev_layer(a2)\n",
    "        sigma = tf.exp(log_sigma)\n",
    "        sigma = tf.clip_by_value(sigma, EPSILON, 2.718)\n",
    "\n",
    "        dist = tfp.distributions.MultivariateNormalDiag(loc=mu, scale_diag=sigma)\n",
    "        \n",
    "        if eval_mode:\n",
    "            action_ = mu\n",
    "        else:\n",
    "            action_ = tf.math.add(mu, tf.math.multiply(sigma, tf.expand_dims(self.sample_dist.sample(), 0)))\n",
    " \n",
    "        action = tf.tanh(action_)\n",
    "\n",
    "        log_pi_ = dist.log_prob(action_)     \n",
    "        log_pi = log_pi_ - tf.reduce_sum(tf.math.log(tf.clip_by_value(1 - action**2, EPSILON, 1.0)), axis=1)\n",
    "        \n",
    "        return action*self.upper_bound, log_pi\n"
   ]
  },
  {
   "cell_type": "code",
   "execution_count": 6,
   "id": "6d3f74b8",
   "metadata": {},
   "outputs": [],
   "source": [
    "actor_test = Actor(num_actions, upper_bound)"
   ]
  },
  {
   "cell_type": "code",
   "execution_count": 8,
   "id": "2d7cab68",
   "metadata": {},
   "outputs": [
    {
     "name": "stdout",
     "output_type": "stream",
     "text": [
      "tf.Tensor([[-0.05144804 -0.75096476  0.933185  ]], shape=(1, 3), dtype=float32) tf.Tensor([-1.5006382], shape=(1,), dtype=float32)\n"
     ]
    }
   ],
   "source": [
    "obs = env.reset()\n",
    "obs\n",
    "tf_obs = tf.expand_dims(obs, 0)\n",
    "tf_obs\n",
    "a_test, log_a_test = actor_test(tf_obs)\n",
    "print(a_test, log_a_test)"
   ]
  },
  {
   "cell_type": "code",
   "execution_count": 9,
   "id": "116539f7",
   "metadata": {},
   "outputs": [
    {
     "name": "stdout",
     "output_type": "stream",
     "text": [
      "Model: \"actor_1\"\n",
      "_________________________________________________________________\n",
      " Layer (type)                Output Shape              Param #   \n",
      "=================================================================\n",
      " batch_normalization_1 (Batc  multiple                 44        \n",
      " hNormalization)                                                 \n",
      "                                                                 \n",
      " dense_4 (Dense)             multiple                  768       \n",
      "                                                                 \n",
      " dense_5 (Dense)             multiple                  4160      \n",
      "                                                                 \n",
      " dense_6 (Dense)             multiple                  195       \n",
      "                                                                 \n",
      " dense_7 (Dense)             multiple                  195       \n",
      "                                                                 \n",
      "=================================================================\n",
      "Total params: 5,362\n",
      "Trainable params: 5,340\n",
      "Non-trainable params: 22\n",
      "_________________________________________________________________\n"
     ]
    }
   ],
   "source": [
    "actor_test.summary()"
   ]
  },
  {
   "cell_type": "markdown",
   "id": "e09fae85",
   "metadata": {},
   "source": [
    "### Critic Wrapper"
   ]
  },
  {
   "cell_type": "markdown",
   "id": "a403d18b",
   "metadata": {},
   "source": [
    "#### Note:"
   ]
  },
  {
   "cell_type": "markdown",
   "id": "b347d502",
   "metadata": {},
   "source": [
    "Different from PPO, critic evaluate state-action pairs."
   ]
  },
  {
   "cell_type": "code",
   "execution_count": 10,
   "id": "7d5f39f2",
   "metadata": {},
   "outputs": [],
   "source": [
    "class Critic_Wrapper():\n",
    "    def __init__(self, state_dim, action_dim):\n",
    "        self.s_dim=state_dim\n",
    "        self.a_dim=action_dim\n",
    "        \n",
    "    def get_critic(self):\n",
    "        # State as input\n",
    "        state_input = layers.Input(shape=(self.s_dim))\n",
    "        state_out = layers.Dense(32, activation=\"relu\")(state_input)\n",
    "\n",
    "        # Action as input\n",
    "        action_input = layers.Input(shape=(self.a_dim))\n",
    "        action_out = layers.Dense(32, activation=\"relu\")(action_input)\n",
    "\n",
    "        # Concatenating\n",
    "        concat = layers.Concatenate()([state_out, action_out])\n",
    "        out = layers.Dense(64, activation=\"relu\")(concat)\n",
    "        outputs = tf.squeeze(layers.Dense(1)(out))\n",
    "\n",
    "        # Outputs single value for give state-action\n",
    "        model = tf.keras.Model([state_input, action_input], outputs)\n",
    "\n",
    "        return model"
   ]
  },
  {
   "cell_type": "code",
   "execution_count": 11,
   "id": "4dadd49c",
   "metadata": {},
   "outputs": [],
   "source": [
    "critic_gen = Critic_Wrapper(num_states, num_actions)\n",
    "critic_test = critic_gen.get_critic()"
   ]
  },
  {
   "cell_type": "code",
   "execution_count": 12,
   "id": "65aced4e",
   "metadata": {},
   "outputs": [
    {
     "data": {
      "text/plain": [
       "array([ 1.25423948e+00, -7.42031410e-04, -1.22600433e-03,  3.87884076e-03,\n",
       "        1.99316606e-03,  3.57898386e-03, -2.55238089e-04, -1.33673836e-03,\n",
       "       -3.03476574e-03, -6.64394176e-04, -2.63203961e-03])"
      ]
     },
     "execution_count": 12,
     "metadata": {},
     "output_type": "execute_result"
    }
   ],
   "source": [
    "obs = env.reset()\n",
    "obs"
   ]
  },
  {
   "cell_type": "code",
   "execution_count": 13,
   "id": "3c101830",
   "metadata": {},
   "outputs": [
    {
     "data": {
      "text/plain": [
       "<tf.Tensor: shape=(1, 11), dtype=float64, numpy=\n",
       "array([[ 1.25423948e+00, -7.42031410e-04, -1.22600433e-03,\n",
       "         3.87884076e-03,  1.99316606e-03,  3.57898386e-03,\n",
       "        -2.55238089e-04, -1.33673836e-03, -3.03476574e-03,\n",
       "        -6.64394176e-04, -2.63203961e-03]])>"
      ]
     },
     "execution_count": 13,
     "metadata": {},
     "output_type": "execute_result"
    }
   ],
   "source": [
    "tf_obs = tf.expand_dims(obs, 0)\n",
    "a_test, log_a_test = actor_test(tf_obs)\n",
    "tf_obs"
   ]
  },
  {
   "cell_type": "code",
   "execution_count": 14,
   "id": "aa334304",
   "metadata": {},
   "outputs": [
    {
     "data": {
      "text/plain": [
       "<tf.Tensor: shape=(), dtype=float32, numpy=-0.24859521>"
      ]
     },
     "execution_count": 14,
     "metadata": {},
     "output_type": "execute_result"
    }
   ],
   "source": [
    "v_test = critic_test([tf_obs, a_test])\n",
    "v_test"
   ]
  },
  {
   "cell_type": "code",
   "execution_count": 15,
   "id": "2a2cfe7f",
   "metadata": {},
   "outputs": [
    {
     "name": "stdout",
     "output_type": "stream",
     "text": [
      "(2, 11)\n"
     ]
    }
   ],
   "source": [
    "obs_new, _, _, _ = env.step(a_test[0])\n",
    "tf_obs_new = tf.expand_dims(obs_new, 0)\n",
    "statex2 = tf.convert_to_tensor([obs, obs_new])\n",
    "print(statex2.shape)"
   ]
  },
  {
   "cell_type": "code",
   "execution_count": 16,
   "id": "df584535",
   "metadata": {},
   "outputs": [
    {
     "name": "stdout",
     "output_type": "stream",
     "text": [
      "(2, 3) (2,)\n"
     ]
    }
   ],
   "source": [
    "a_2, loga_2 = actor_test(statex2)\n",
    "\n",
    "print(a_2.shape, loga_2.shape)"
   ]
  },
  {
   "cell_type": "code",
   "execution_count": 17,
   "id": "f16a7ea1",
   "metadata": {},
   "outputs": [
    {
     "name": "stdout",
     "output_type": "stream",
     "text": [
      "(2,)\n"
     ]
    }
   ],
   "source": [
    "v_2 = critic_test([statex2, a_2])\n",
    "print(v_2.shape)"
   ]
  },
  {
   "cell_type": "code",
   "execution_count": 18,
   "id": "eb6392ee",
   "metadata": {},
   "outputs": [
    {
     "name": "stdout",
     "output_type": "stream",
     "text": [
      "Model: \"model\"\n",
      "__________________________________________________________________________________________________\n",
      " Layer (type)                   Output Shape         Param #     Connected to                     \n",
      "==================================================================================================\n",
      " input_1 (InputLayer)           [(None, 11)]         0           []                               \n",
      "                                                                                                  \n",
      " input_2 (InputLayer)           [(None, 3)]          0           []                               \n",
      "                                                                                                  \n",
      " dense_8 (Dense)                (None, 32)           384         ['input_1[0][0]']                \n",
      "                                                                                                  \n",
      " dense_9 (Dense)                (None, 32)           128         ['input_2[0][0]']                \n",
      "                                                                                                  \n",
      " concatenate (Concatenate)      (None, 64)           0           ['dense_8[0][0]',                \n",
      "                                                                  'dense_9[0][0]']                \n",
      "                                                                                                  \n",
      " dense_10 (Dense)               (None, 64)           4160        ['concatenate[0][0]']            \n",
      "                                                                                                  \n",
      " dense_11 (Dense)               (None, 1)            65          ['dense_10[0][0]']               \n",
      "                                                                                                  \n",
      " tf.compat.v1.squeeze (TFOpLamb  None                0           ['dense_11[0][0]']               \n",
      " da)                                                                                              \n",
      "                                                                                                  \n",
      "==================================================================================================\n",
      "Total params: 4,737\n",
      "Trainable params: 4,737\n",
      "Non-trainable params: 0\n",
      "__________________________________________________________________________________________________\n"
     ]
    }
   ],
   "source": [
    "critic_test.summary()"
   ]
  },
  {
   "cell_type": "markdown",
   "id": "45a3c971",
   "metadata": {},
   "source": [
    "### Replay Buffer"
   ]
  },
  {
   "cell_type": "code",
   "execution_count": 19,
   "id": "66ff1c11",
   "metadata": {},
   "outputs": [],
   "source": [
    "class Buffer:\n",
    "    def __init__(self, obs_dim, a_dim, buffer_capacity=100000, batch_size=256):\n",
    "        \n",
    "        self.obs_dim = obs_dim\n",
    "        self.a_dim = a_dim\n",
    "        self.buffer_capacity = buffer_capacity\n",
    "        self.batch_size = batch_size\n",
    "        self.buffer_counter = 0\n",
    "\n",
    "        self.state_buffer = np.zeros((self.buffer_capacity, self.obs_dim))\n",
    "        self.action_buffer = np.zeros((self.buffer_capacity, self.a_dim))\n",
    "        self.reward_buffer = np.zeros((self.buffer_capacity, 1))\n",
    "        self.next_state_buffer = np.zeros((self.buffer_capacity, self.obs_dim))\n",
    "        self.done_buffer = np.zeros((self.buffer_capacity, 1))\n",
    "\n",
    "    def record(self, obs_tuple):\n",
    "        index = self.buffer_counter % self.buffer_capacity\n",
    "\n",
    "        self.state_buffer[index] = obs_tuple[0]\n",
    "        self.action_buffer[index] = obs_tuple[1]\n",
    "        self.reward_buffer[index] = obs_tuple[2]\n",
    "        self.next_state_buffer[index] = obs_tuple[3]\n",
    "        self.done_buffer[index] = obs_tuple[4]\n",
    "        self.buffer_counter += 1\n",
    "        \n",
    "    def sample(self):\n",
    "        record_range = min(self.buffer_counter, self.buffer_capacity)\n",
    "        batch_indices = np.random.choice(record_range, self.batch_size)\n",
    "\n",
    "        state_batch = tf.convert_to_tensor(self.state_buffer[batch_indices])\n",
    "        action_batch = tf.convert_to_tensor(self.action_buffer[batch_indices])\n",
    "        reward_batch = tf.squeeze(tf.convert_to_tensor(self.reward_buffer[batch_indices]))\n",
    "        next_state_batch = tf.convert_to_tensor(self.next_state_buffer[batch_indices])\n",
    "        done_batch = tf.squeeze(tf.convert_to_tensor(self.done_buffer[batch_indices]))\n",
    "        \n",
    "        return (state_batch,\n",
    "               action_batch,\n",
    "               reward_batch,\n",
    "               next_state_batch,\n",
    "               done_batch)\n"
   ]
  },
  {
   "cell_type": "code",
   "execution_count": 20,
   "id": "9d040f7a",
   "metadata": {},
   "outputs": [],
   "source": [
    "buffer1 = Buffer(num_states, num_actions, 100, 10)"
   ]
  },
  {
   "cell_type": "code",
   "execution_count": 21,
   "id": "11879892",
   "metadata": {},
   "outputs": [],
   "source": [
    "prev_obs = env.reset()\n",
    "\n",
    "for i in range(buffer1.buffer_capacity):\n",
    "    a, _ = actor_test(tf.expand_dims(prev_obs, 0))\n",
    "    obs, r, d, _ = env.step(a[0])\n",
    "    \n",
    "    buffer1.record((prev_obs, a[0], r, obs, d))\n",
    "    \n",
    "    prev_obs = obs\n",
    "    "
   ]
  },
  {
   "cell_type": "code",
   "execution_count": 22,
   "id": "ac7dac19",
   "metadata": {},
   "outputs": [
    {
     "data": {
      "text/plain": [
       "(<tf.Tensor: shape=(10, 11), dtype=float64, numpy=\n",
       " array([[ 5.22422464e-01, -1.35114301e+00, -4.67345067e-01,\n",
       "         -2.58434218e+00,  7.87965647e-01,  7.84194272e-02,\n",
       "          1.68828093e-01, -3.16890953e-01, -7.31766063e-01,\n",
       "          6.95071929e-01, -8.06056469e-02],\n",
       "        [ 5.11060487e-01, -1.33210946e+00, -4.13802264e-01,\n",
       "         -2.63394096e+00,  7.84158932e-01, -1.89792833e-02,\n",
       "          1.00521521e-01,  2.85410802e-01,  5.22948816e-01,\n",
       "          4.38351580e-01, -6.60558773e-01],\n",
       "        [ 1.24796805e+00, -1.64244341e-02,  5.02232628e-03,\n",
       "         -4.34726769e-02, -4.29737455e-02, -2.95574252e-01,\n",
       "         -2.75388487e-01, -1.99150059e+00, -1.01805869e+00,\n",
       "         -2.33266916e+00, -1.16679800e+00],\n",
       "        [ 1.22434447e+00, -1.51458966e-01, -7.90829511e-02,\n",
       "         -1.84881261e-01,  2.94548805e-02, -4.02805795e-01,\n",
       "         -9.05418786e-01, -3.42803959e+00, -1.91260355e+00,\n",
       "         -4.10511434e+00,  4.40498184e+00],\n",
       "        [ 5.19822519e-01, -1.34002324e+00, -4.46119766e-01,\n",
       "         -2.59931251e+00,  7.89516401e-01,  1.88430010e-01,\n",
       "          2.59269991e-01, -1.15054314e+00, -2.27535672e+00,\n",
       "          1.66603750e+00, -1.20936089e-01],\n",
       "        [ 1.25085821e+00, -2.21511715e-03,  6.71087882e-03,\n",
       "         -1.83075468e-02, -1.06440608e-02, -1.71463343e-01,\n",
       "         -1.04057158e-01, -4.97148332e-01,  4.24217526e-01,\n",
       "         -1.72135888e+00, -1.77356304e+00],\n",
       "        [ 5.02538536e-01, -1.39216754e+00, -3.48132580e-01,\n",
       "         -2.60458699e+00,  6.34800741e-01,  3.17398806e-01,\n",
       "         -9.22437076e-01,  6.84027956e-01,  9.06403815e-01,\n",
       "         -9.14744887e-01, -3.98685133e-01],\n",
       "        [ 5.22163307e-01, -1.31203373e+00, -4.04590852e-01,\n",
       "         -2.60457630e+00,  7.95669549e-01, -2.74979469e-02,\n",
       "          1.54365504e-01,  2.32680504e-01, -3.40429981e-01,\n",
       "          4.65962301e-01,  8.64346520e-01],\n",
       "        [ 4.82709958e-01, -1.40867502e+00, -3.71018267e-01,\n",
       "         -2.63374493e+00,  6.51976137e-01,  3.20678897e-01,\n",
       "         -3.33909325e-01, -6.52933462e-01, -2.25620779e+00,\n",
       "         -3.45984764e-01,  2.47464916e+00],\n",
       "        [ 4.84478558e-01, -1.40068119e+00, -4.14483189e-01,\n",
       "         -2.63007573e+00,  7.24131417e-01,  3.07891943e-01,\n",
       "          1.23723117e-01, -3.96603172e-01, -2.51865006e+00,\n",
       "          3.35613452e-01,  2.31536959e+00]])>,\n",
       " <tf.Tensor: shape=(10, 3), dtype=float64, numpy=\n",
       " array([[-0.12299342, -0.40485004,  0.68947452],\n",
       "        [ 0.00400273,  0.58274019, -0.94931763],\n",
       "        [-0.69927651, -0.76732904,  0.712192  ],\n",
       "        [ 0.68867558,  0.48698309,  0.98267221],\n",
       "        [ 0.67387515, -0.80522573,  0.12782981],\n",
       "        [ 0.5070914 ,  0.39199865, -0.5419609 ],\n",
       "        [-0.86069214, -0.72413236, -0.26845008],\n",
       "        [ 0.89933813, -0.96856236,  0.99770027],\n",
       "        [ 0.52032357, -0.2586236 ,  0.9982965 ],\n",
       "        [ 0.94618207, -0.54213101,  0.95139742]])>,\n",
       " <tf.Tensor: shape=(10,), dtype=float64, numpy=\n",
       " array([1.05929566, 0.97824147, 0.64231757, 0.66027086, 1.13927444,\n",
       "        0.83784352, 1.28555547, 0.91191143, 1.31902637, 1.29209999])>,\n",
       " <tf.Tensor: shape=(10, 11), dtype=float64, numpy=\n",
       " array([[ 0.52315479, -1.35482309, -0.47365821, -2.58053144,  0.78755139,\n",
       "          0.04187619,  0.01254133, -0.60459046, -0.84516385,  0.26152467,\n",
       "         -0.02860984],\n",
       "        [ 0.51232345, -1.33138668, -0.41004073, -2.62903889,  0.77518307,\n",
       "         -0.02313063,  0.21737113, -0.10949115,  0.4165768 ,  0.7816861 ,\n",
       "         -1.57308437],\n",
       "        [ 1.24531941, -0.03727914, -0.00690605, -0.06610578, -0.04790263,\n",
       "         -0.41629872, -0.39007946, -3.22048658, -1.96296442, -3.32454466,\n",
       "         -0.06735062],\n",
       "        [ 1.2166925 , -0.17442707, -0.09055181, -0.21550605,  0.0700965 ,\n",
       "         -0.27387857, -1.00463701, -2.31591923, -0.95558734, -3.55109879,\n",
       "          5.75428558],\n",
       "        [ 0.52130795, -1.34725052, -0.45982066, -2.58989826,  0.78866382,\n",
       "          0.09260095,  0.11037287, -0.65439028, -1.15040791,  0.69317944,\n",
       "         -0.09335451],\n",
       "        [ 1.24975096, -0.0063844 ,  0.00868176, -0.02965806, -0.02802783,\n",
       "         -0.14984489, -0.17243316, -0.51656513,  0.104427  , -1.1197392 ,\n",
       "         -2.57172007],\n",
       "        [ 0.4945055 , -1.39259067, -0.34577407, -2.61593216,  0.63299792,\n",
       "          0.25916168, -1.09592656, -0.78273986, -0.30891587, -1.89476194,\n",
       "         -0.07746005],\n",
       "        [ 0.5226005 , -1.30825973, -0.40126755, -2.60526847,  0.79992402,\n",
       "         -0.14177659, -0.04493884,  0.72871514,  1.16782581, -0.63595047,\n",
       "          0.26429258],\n",
       "        [ 0.48158287, -1.40885042, -0.38727866, -2.63481618,  0.67733558,\n",
       "          0.31956175,  0.0291661 ,  0.60412469, -1.79312283,  0.0336867 ,\n",
       "          3.84551792],\n",
       "        [ 0.48623121, -1.39790275, -0.42961474, -2.62771648,  0.74769816,\n",
       "          0.2815465 ,  0.31083609,  1.09648528, -1.26383071,  0.25725957,\n",
       "          3.56387603]])>,\n",
       " <tf.Tensor: shape=(10,), dtype=float64, numpy=array([1., 1., 0., 0., 1., 0., 1., 1., 1., 1.])>)"
      ]
     },
     "execution_count": 22,
     "metadata": {},
     "output_type": "execute_result"
    }
   ],
   "source": [
    "buffer1.sample()"
   ]
  },
  {
   "cell_type": "markdown",
   "id": "2956d47d",
   "metadata": {},
   "source": [
    "### Soft Actor Critic"
   ]
  },
  {
   "cell_type": "code",
   "execution_count": 23,
   "id": "7377d1bf",
   "metadata": {},
   "outputs": [],
   "source": [
    "class SAC:\n",
    "    \n",
    "    def __init__(self, env, observation_dimensions, action_dimensions, action_bound, buffer_capacity,\n",
    "                 minibatch_size=256, gamma=0.99, tau=0.95, lr=3e-4):\n",
    "        \n",
    "        self.env = env\n",
    "        \n",
    "        self.a = Actor(action_dimensions, action_bound)\n",
    "        self.c_gen = Critic_Wrapper(observation_dimensions, action_dimensions)\n",
    "        self.c1 = self.c_gen.get_critic()\n",
    "        self.c2 = self.c_gen.get_critic()\n",
    "        self.tc1 = self.c_gen.get_critic()\n",
    "        self.tc2 = self.c_gen.get_critic()\n",
    "        \n",
    "        self.tc1.set_weights(self.c1.get_weights())\n",
    "        self.tc2.set_weights(self.c2.get_weights())\n",
    "\n",
    "        self.te = -np.prod(action_dimensions)\n",
    "        self.alpha = tf.Variable(0.0, dtype=tf.float32)\n",
    "        \n",
    "        self.a_opt = tf.keras.optimizers.Adam(learning_rate=lr)\n",
    "        self.c1_opt = tf.keras.optimizers.Adam(learning_rate=lr)\n",
    "        self.c2_opt = tf.keras.optimizers.Adam(learning_rate=lr)                                                  \n",
    "        self.alpha_opt = tf.keras.optimizers.Adam(learning_rate=lr)   \n",
    "        \n",
    "        self.buffer = Buffer(observation_dimensions, action_dimensions, buffer_capacity, minibatch_size)\n",
    "        \n",
    "        self.gamma, self.tau = gamma, tau\n",
    "        \n",
    "    def train(self, max_env_step):\n",
    "        t = 0\n",
    "        a_losses = []\n",
    "        c1_losses = []\n",
    "        c2_losses = []\n",
    "        alpha_losses = []\n",
    "        while t < max_env_step:\n",
    "            p_s = self.env.reset()\n",
    "\n",
    "            while True:\n",
    "                a, log_a = self.a(tf.expand_dims(p_s, 0))\n",
    "                a=a[0]\n",
    "                s, r, d, _ = self.env.step(a)\n",
    "                end = 0 if d else 1\n",
    "                \n",
    "                self.buffer.record((p_s, a, r, s, end))\n",
    "                data = self.buffer.sample()\n",
    "                \n",
    "                a_loss, c1_loss, c2_loss, alpha_loss = self.update(data)\n",
    "                \n",
    "                a_losses.append(a_loss.numpy())\n",
    "                c1_losses.append(c1_loss.numpy())\n",
    "                c2_losses.append(c2_loss.numpy())\n",
    "                alpha_losses.append(alpha_loss.numpy())\n",
    "                \n",
    "                t = t+1\n",
    "                \n",
    "                if d:\n",
    "                    break\n",
    "                p_s = s\n",
    "                \n",
    "        print(\"Per {:04d} Steps\".format(max_env_step), \"Policy Avg. Loss: \", np.mean(a_losses), \n",
    "              \", Critic 1 Avg. Loss: \",  np.mean(c1_losses), \n",
    "              \", Critic 2 Avg. Loss: \",  np.mean(c2_losses), \n",
    "              \", Alpha 1 Avg. Loss: \",  np.mean(alpha_losses), flush=True)\n",
    "\n",
    "\n",
    "    @tf.function\n",
    "    def update(self, data):\n",
    "        s_b, a_b, r_b, ns_b, d_b = data\n",
    "        with tf.GradientTape() as tape_c1, tf.GradientTape() as tape_c2:\n",
    "            q1 = self.c1([s_b, a_b])\n",
    "            q2 = self.c2([s_b, a_b])\n",
    "            na, nlog_a = self.a(ns_b, training=True)\n",
    "            \n",
    "            tq1 = self.tc1([ns_b, na])\n",
    "            tq2 = self.tc2([ns_b, na])\n",
    "            \n",
    "            min_qt = tf.math.minimum(tq1,tq2)\n",
    "            \n",
    "            soft_qt = min_qt - (self.alpha*nlog_a)\n",
    "            \n",
    "            y = tf.stop_gradient(r_b+self.gamma*d_b*tf.cast(soft_qt, dtype=tf.float64))\n",
    "            \n",
    "            L_c1 = 0.5*tf.reduce_mean((y-tf.cast(q1, dtype=tf.float64))**2)\n",
    "            L_c2 = 0.5*tf.reduce_mean((y-tf.cast(q2, dtype=tf.float64))**2)\n",
    "        c1_grad = tape_c1.gradient(L_c1, self.c1.trainable_variables)\n",
    "        c2_grad = tape_c2.gradient(L_c2, self.c2.trainable_variables)\n",
    "        \n",
    "        self.c1_opt.apply_gradients(zip(c1_grad, self.c1.trainable_variables))\n",
    "        self.c2_opt.apply_gradients(zip(c2_grad, self.c2.trainable_variables))\n",
    "        \n",
    "        for (tc1w, c1w) in zip(self.tc1.variables, self.c1.variables):\n",
    "            tc1w.assign(tc1w*self.tau + c1w*(1.0-self.tau))\n",
    "        for (tc2w, c2w) in zip(self.tc2.variables, self.c2.variables):\n",
    "            tc2w.assign(tc2w*self.tau + c2w*(1.0-self.tau))\n",
    "            \n",
    "        with tf.GradientTape() as tape_a, tf.GradientTape() as tape_alpha:\n",
    "            a, log_a = self.a(s_b, training=True)\n",
    "            qa1 = self.c1([s_b, a])\n",
    "            qa2 = self.c2([s_b, a])\n",
    "            \n",
    "            soft_qa = tf.math.minimum(qa1,qa2)\n",
    "\n",
    "            L_a = -tf.reduce_mean(soft_qa-self.alpha*log_a)\n",
    "            L_alpha = -tf.reduce_mean(self.alpha*tf.stop_gradient(log_a + self.te))\n",
    "        grad_a = tape_a.gradient(L_a, self.a.trainable_variables)\n",
    "        grad_alpha = tape_alpha.gradient(L_alpha, [self.alpha])\n",
    "        self.a_opt.apply_gradients(zip(grad_a, self.a.trainable_variables))\n",
    "        self.alpha_opt.apply_gradients(zip(grad_alpha, [self.alpha]))\n",
    "        \n",
    "        return L_a, L_c1, L_c2, L_alpha\n",
    "    \n",
    "    def save_weights(self, dir_path):\n",
    "        cp = tf.train.Checkpoint(step=self.alpha)\n",
    "        self.a.save_weights(dir_path+\"/a.ckpt\")\n",
    "        print(\"Saved actor weights\", flush=True)\n",
    "        self.c1.save_weights(dir_path+\"/c1.ckpt\")\n",
    "        print(\"Saved critic 1 weights\", flush=True)\n",
    "        self.c2.save_weights(dir_path+\"/c2.ckpt\")\n",
    "        print(\"Saved critic 2 weights\", flush=True)\n",
    "        cp.save(dir_path+\"/alpha\")\n",
    "        print(\"Saved alpha weights\", flush=True)\n",
    "\n",
    "    def load_weights(self, dir_path):\n",
    "        try:\n",
    "            cp = tf.train.Checkpoint(step=self.alpha)\n",
    "            self.a.load_weights(dir_path+\"/a.ckpt\")\n",
    "            print(\"Loaded actor weights\", flush=True)\n",
    "            self.c1.load_weights(dir_path+\"/c1.ckpt\")\n",
    "            print(\"Loaded critic 1 weights\", flush=True)\n",
    "            self.c2.load_weights(dir_path+\"/c2.ckpt\")\n",
    "            print(\"Loaded critic 2 weights\", flush=True)\n",
    "            cp.restore(dir_path+\"/alpha-1\")\n",
    "            print(\"Loaded alpha weights\", flush=True)\n",
    "            self.tc1.set_weights(self.c1.get_weights())\n",
    "            self.tc2.set_weights(self.c2.get_weights())\n",
    "\n",
    "        except ValueError:\n",
    "            print(\"ERROR: Please make sure weights are saved as .ckpt\", flush=True)\n",
    "            \n",
    "    def eval_rollout(self, problem, rbs=False, render=False):\n",
    "        eps_r = 0\n",
    "        \n",
    "        if rbs:\n",
    "            domain, task, controller = problem\n",
    "            eval_env = Robosuite_Wrapper(domain, task, controller, render)\n",
    "        else:\n",
    "            eval_env = gym.make(problem)\n",
    "            \n",
    "        eval_obs = eval_env.reset()\n",
    "\n",
    "        while True:\n",
    "            if render:\n",
    "                eval_env.render()\n",
    "\n",
    "            tf_eval_obs = tf.expand_dims(tf.convert_to_tensor(eval_obs), 0)\n",
    "\n",
    "            eval_a, eval_log_a = self.a(tf_eval_obs, eval_mode=True)\n",
    "\n",
    "            eval_a = eval_a[0]\n",
    "\n",
    "            eval_obs_new, eval_r, eval_d, _ = eval_env.step(eval_a)\n",
    "\n",
    "            eps_r += eval_r\n",
    "\n",
    "            if eval_d:\n",
    "                break\n",
    "                \n",
    "            eval_obs = eval_obs_new\n",
    "        \n",
    "        if render:\n",
    "            if not rbs:\n",
    "                glfw.destroy_window(eval_env.viewer.window)\n",
    "\n",
    "        eval_env.close()\n",
    "        print(\"rollout episodic reward: \", eps_r, flush=True)\n",
    "        \n",
    "        return eps_r\n"
   ]
  },
  {
   "cell_type": "code",
   "execution_count": 24,
   "id": "75bddba9",
   "metadata": {},
   "outputs": [],
   "source": [
    "sac1 = SAC(env, num_states, num_actions, upper_bound, 1000000)"
   ]
  },
  {
   "cell_type": "code",
   "execution_count": 25,
   "id": "0ba42cdb",
   "metadata": {
    "scrolled": false
   },
   "outputs": [
    {
     "name": "stdout",
     "output_type": "stream",
     "text": [
      "WARNING:tensorflow:From /home/tony/miniconda3/envs/rl_models/lib/python3.8/site-packages/tensorflow_probability/python/distributions/distribution.py:342: calling MultivariateNormalDiag.__init__ (from tensorflow_probability.python.distributions.mvn_diag) with scale_identity_multiplier is deprecated and will be removed after 2020-01-01.\n",
      "Instructions for updating:\n",
      "`scale_identity_multiplier` is deprecated; please combine it into `scale_diag` directly instead.\n",
      "Per 1000 Steps Policy Avg. Loss:  -10.498349 , Critic 1 Avg. Loss:  2.32548693862299 , Critic 2 Avg. Loss:  2.272197491487963 , Alpha 1 Avg. Loss:  -0.20444104\n"
     ]
    }
   ],
   "source": [
    "sac1.train(1000)"
   ]
  },
  {
   "cell_type": "code",
   "execution_count": 26,
   "id": "94e70621",
   "metadata": {},
   "outputs": [
    {
     "name": "stdout",
     "output_type": "stream",
     "text": [
      "Saved actor weights\n",
      "Saved critic 1 weights\n",
      "Saved critic 2 weights\n",
      "Saved alpha weights\n"
     ]
    }
   ],
   "source": [
    "sac1.save_weights(\"/home/tony/rl_models/MA2C/sac/devel/weights\")"
   ]
  },
  {
   "cell_type": "code",
   "execution_count": 27,
   "id": "d26664a4",
   "metadata": {},
   "outputs": [
    {
     "name": "stdout",
     "output_type": "stream",
     "text": [
      "<tf.Variable 'Variable:0' shape=() dtype=float32, numpy=0.13345031>\n"
     ]
    }
   ],
   "source": [
    "print(sac1.alpha)"
   ]
  },
  {
   "cell_type": "code",
   "execution_count": 28,
   "id": "909c1747",
   "metadata": {},
   "outputs": [],
   "source": [
    "sac2 = SAC(env, num_states, num_actions, upper_bound, 1000000)"
   ]
  },
  {
   "cell_type": "code",
   "execution_count": 29,
   "id": "9ba100f9",
   "metadata": {},
   "outputs": [
    {
     "name": "stdout",
     "output_type": "stream",
     "text": [
      "Loaded actor weights\n",
      "Loaded critic 1 weights\n",
      "Loaded critic 2 weights\n",
      "Loaded alpha weights\n"
     ]
    }
   ],
   "source": [
    "sac2.load_weights(\"/home/tony/rl_models/MA2C/sac/devel/weights\")"
   ]
  },
  {
   "cell_type": "code",
   "execution_count": 30,
   "id": "97bceeb9",
   "metadata": {},
   "outputs": [
    {
     "data": {
      "text/plain": [
       "<tf.Variable 'Variable:0' shape=() dtype=float32, numpy=0.13345031>"
      ]
     },
     "execution_count": 30,
     "metadata": {},
     "output_type": "execute_result"
    }
   ],
   "source": [
    "sac2.alpha"
   ]
  },
  {
   "cell_type": "code",
   "execution_count": 31,
   "id": "17c45be9",
   "metadata": {},
   "outputs": [
    {
     "name": "stdout",
     "output_type": "stream",
     "text": [
      "Per 0500 Steps Policy Avg. Loss:  -20.888533 , Critic 1 Avg. Loss:  3.4495082708911866 , Critic 2 Avg. Loss:  3.2069531694989233 , Alpha 1 Avg. Loss:  0.012425124\n"
     ]
    }
   ],
   "source": [
    "sac2.train(500)"
   ]
  },
  {
   "cell_type": "code",
   "execution_count": 32,
   "id": "98f816b1",
   "metadata": {},
   "outputs": [
    {
     "name": "stdout",
     "output_type": "stream",
     "text": [
      "rollout episodic reward:  42.905397710801054\n"
     ]
    },
    {
     "data": {
      "text/plain": [
       "42.905397710801054"
      ]
     },
     "execution_count": 32,
     "metadata": {},
     "output_type": "execute_result"
    }
   ],
   "source": [
    "sac2.eval_rollout(problem)"
   ]
  },
  {
   "cell_type": "markdown",
   "id": "de8a8749",
   "metadata": {},
   "source": [
    "### Robosuite Adapter"
   ]
  },
  {
   "cell_type": "code",
   "execution_count": 33,
   "id": "e185df41",
   "metadata": {},
   "outputs": [],
   "source": [
    "import numpy as np\n",
    "import robosuite as suite\n",
    "from gym import spaces\n",
    "from robosuite import load_controller_config"
   ]
  },
  {
   "cell_type": "code",
   "execution_count": 34,
   "id": "7f2c0a8c",
   "metadata": {},
   "outputs": [],
   "source": [
    "class Robosuite_Wrapper():\n",
    "\n",
    "    def __init__(self, domain, task, controller, render=False):\n",
    "        self.config = load_controller_config(default_controller=controller)\n",
    "        self.env = suite.make(env_name=task, # try with other tasks like \"Stack\" and \"Door\"\n",
    "                            robots=domain,  # try with other robots like \"Sawyer\" and \"Jaco\"\n",
    "                            controller_configs=self.config,\n",
    "                            has_renderer=render,\n",
    "                            ignore_done=False,\n",
    "                            has_offscreen_renderer=False,\n",
    "                            use_camera_obs=False,\n",
    "                            reward_shaping=True,\n",
    "                            )\n",
    "        self.obs_keys = [key for key, value in self.env.observation_spec().items()]\n",
    "        \n",
    "        obs_dim = []\n",
    "        \n",
    "        for x in self.obs_keys:\n",
    "            if x == 'hinge_qpos' or x == 'handle_qpos':\n",
    "                obs_dim.append(1)\n",
    "            else:\n",
    "                obs_dim.append(self.env.observation_spec()[x].shape[0])\n",
    "                \n",
    "        self.s_dim = int(np.sum(obs_dim,dtype=np.int32))\n",
    "        self.a_dim = self.env.action_dim\n",
    "        self.a_ub = self.env.action_spec[1][0]\n",
    "        self.a_lb = self.env.action_spec[0][0]\n",
    "        \n",
    "    def env_specs(self):\n",
    "        return self.s_dim, self.a_dim, self.a_ub, self.a_lb\n",
    "    \n",
    "    def step(self, a):\n",
    "        s, r, d, i = self.env.step(a)\n",
    "\n",
    "        s = np.concatenate([s[x] for x in self.obs_keys], axis = None)\n",
    "\n",
    "        return s, r, d, i\n",
    "    \n",
    "    def reset(self):\n",
    "        s = self.env.reset()\n",
    "        \n",
    "        s = np.concatenate([s[x] for x in self.obs_keys], axis = None)\n",
    "        \n",
    "        return s\n",
    "    \n",
    "    def render(self):\n",
    "        self.env.render()\n",
    "    \n",
    "    def close(self):\n",
    "        self.env.close()\n",
    "        "
   ]
  },
  {
   "cell_type": "code",
   "execution_count": 35,
   "id": "bdec9614",
   "metadata": {},
   "outputs": [
    {
     "name": "stdout",
     "output_type": "stream",
     "text": [
      "Creating window glfw\n"
     ]
    },
    {
     "name": "stderr",
     "output_type": "stream",
     "text": [
      "/home/tony/miniconda3/envs/rl_models/lib/python3.8/site-packages/numba/np/arraymath.py:3845: DeprecationWarning: `np.MachAr` is deprecated (NumPy 1.22).\n",
      "  @overload(np.MachAr)\n"
     ]
    }
   ],
   "source": [
    "rbs_env = Robosuite_Wrapper(\"Sawyer\", \"Door\", \"JOINT_VELOCITY\", True)"
   ]
  },
  {
   "cell_type": "code",
   "execution_count": 36,
   "id": "f6a8fff2",
   "metadata": {},
   "outputs": [
    {
     "data": {
      "text/plain": [
       "(92, 8, 1.0, -1.0)"
      ]
     },
     "execution_count": 36,
     "metadata": {},
     "output_type": "execute_result"
    }
   ],
   "source": [
    "rbs_env.env_specs()"
   ]
  },
  {
   "cell_type": "code",
   "execution_count": 37,
   "id": "f1e92d5a",
   "metadata": {},
   "outputs": [
    {
     "data": {
      "text/plain": [
       "(array([ 9.99876857e-01,  4.03822877e-01,  9.99952769e-01, -5.72626229e-01,\n",
       "         9.99648717e-01,  8.36903826e-01, -5.86764353e-03,  1.56929919e-02,\n",
       "        -9.14837190e-01,  9.71907541e-03,  8.19816566e-01,  2.65036449e-02,\n",
       "         5.47349967e-01, -9.99982785e-01,  2.38449836e-02,  5.13842176e-02,\n",
       "         3.16107393e-02,  4.29136238e-02,  2.13785884e-02,  1.22256101e-02,\n",
       "         2.54866474e-02, -1.17421972e-01,  1.74780019e-01,  1.01195112e+00,\n",
       "         9.95654126e-01,  9.11556826e-02, -1.60533910e-02, -1.02855003e-02,\n",
       "         2.07727265e-02, -2.07696963e-02, -3.01367731e-02,  3.16518448e-02,\n",
       "        -2.07569588e-01, -3.53069101e-01,  1.10000000e+00, -1.57391609e-01,\n",
       "        -2.53158289e-01,  1.07500000e+00, -9.01476159e-02, -5.27849119e-01,\n",
       "         8.80488834e-02, -3.99696368e-02, -4.27938307e-01,  6.30488834e-02,\n",
       "         2.14833941e-12, -3.95547419e-07,  9.99876857e-01,  4.03822877e-01,\n",
       "         9.99952769e-01, -5.72626229e-01,  9.99648717e-01,  8.36903826e-01,\n",
       "        -5.86764353e-03,  1.56929919e-02, -9.14837190e-01,  9.71907541e-03,\n",
       "         8.19816566e-01,  2.65036449e-02,  5.47349967e-01, -9.99982785e-01,\n",
       "         2.38449836e-02,  5.13842176e-02,  3.16107393e-02,  4.29136238e-02,\n",
       "         2.13785884e-02,  1.22256101e-02,  2.54866474e-02, -1.17421972e-01,\n",
       "         1.74780019e-01,  1.01195112e+00,  9.95654126e-01,  9.11556826e-02,\n",
       "        -1.60533910e-02, -1.02855003e-02,  2.07727265e-02, -2.07696963e-02,\n",
       "        -3.01367731e-02,  3.16518448e-02, -2.07569588e-01, -3.53069101e-01,\n",
       "         1.10000000e+00, -1.57391609e-01, -2.53158289e-01,  1.07500000e+00,\n",
       "        -9.01476159e-02, -5.27849119e-01,  8.80488834e-02, -3.99696368e-02,\n",
       "        -4.27938307e-01,  6.30488834e-02,  2.14833941e-12, -3.95547419e-07]),\n",
       " 7.137194605414115e-05,\n",
       " False,\n",
       " {})"
      ]
     },
     "execution_count": 37,
     "metadata": {},
     "output_type": "execute_result"
    }
   ],
   "source": [
    "rbs_env.step(np.ones(8))"
   ]
  },
  {
   "cell_type": "code",
   "execution_count": 38,
   "id": "9951f035",
   "metadata": {},
   "outputs": [],
   "source": [
    "rbs_env.render()"
   ]
  },
  {
   "cell_type": "code",
   "execution_count": null,
   "id": "6ac7d66e",
   "metadata": {},
   "outputs": [],
   "source": []
  }
 ],
 "metadata": {
  "kernelspec": {
   "display_name": "Python 3 (ipykernel)",
   "language": "python",
   "name": "python3"
  },
  "language_info": {
   "codemirror_mode": {
    "name": "ipython",
    "version": 3
   },
   "file_extension": ".py",
   "mimetype": "text/x-python",
   "name": "python",
   "nbconvert_exporter": "python",
   "pygments_lexer": "ipython3",
   "version": "3.8.13"
  }
 },
 "nbformat": 4,
 "nbformat_minor": 5
}
